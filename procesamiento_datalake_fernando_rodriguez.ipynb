{
  "cells": [
    {
      "cell_type": "code",
      "execution_count": null,
      "id": "10301041",
      "metadata": {
        "id": "10301041"
      },
      "outputs": [],
      "source": [
        "from pyspark.sql import SparkSession\n",
        "from pyspark.sql.types import *\n",
        "from pyspark.sql import SparkSession\n",
        "from pyspark.sql.types import *\n",
        "from pyspark.sql.functions import *"
      ]
    },
    {
      "cell_type": "code",
      "execution_count": null,
      "id": "9ea0d283",
      "metadata": {
        "scrolled": true,
        "id": "9ea0d283",
        "outputId": "00c4bb20-c598-400a-a3d7-c2ca0b881620"
      },
      "outputs": [
        {
          "data": {
            "text/html": [
              "\n",
              "            <div>\n",
              "                <p><b>SparkSession - hive</b></p>\n",
              "                \n",
              "        <div>\n",
              "            <p><b>SparkContext</b></p>\n",
              "\n",
              "            <p><a href=\"http://cluster-1ab7-m.us-west4-c.c.propane-flow-351521.internal:34839\">Spark UI</a></p>\n",
              "\n",
              "            <dl>\n",
              "              <dt>Version</dt>\n",
              "                <dd><code>v3.1.3</code></dd>\n",
              "              <dt>Master</dt>\n",
              "                <dd><code>yarn</code></dd>\n",
              "              <dt>AppName</dt>\n",
              "                <dd><code>PySparkShell</code></dd>\n",
              "            </dl>\n",
              "        </div>\n",
              "        \n",
              "            </div>\n",
              "        "
            ],
            "text/plain": [
              "<pyspark.sql.session.SparkSession at 0x7f93c2ade4f0>"
            ]
          },
          "execution_count": 2,
          "metadata": {},
          "output_type": "execute_result"
        }
      ],
      "source": [
        "spark = SparkSession.builder.getOrCreate()\n",
        "spark"
      ]
    },
    {
      "cell_type": "markdown",
      "id": "e09aeab6",
      "metadata": {
        "id": "e09aeab6"
      },
      "source": [
        "# Landing"
      ]
    },
    {
      "cell_type": "markdown",
      "id": "b74119fc",
      "metadata": {
        "id": "b74119fc"
      },
      "source": [
        "**persona**"
      ]
    },
    {
      "cell_type": "code",
      "execution_count": null,
      "id": "81c4f272",
      "metadata": {
        "id": "81c4f272"
      },
      "outputs": [],
      "source": [
        "# 4.1 Estructura del dataframe.\n",
        "df_schema = StructType([\n",
        "StructField(\"ID\", StringType(),True),\n",
        "StructField(\"NOMBRE\", StringType(),True),\n",
        "StructField(\"TELEFONO\", StringType(),True),\n",
        "StructField(\"CORREO\", StringType(),True),\n",
        "StructField(\"FECHA_INGRESO\", StringType(),True),\n",
        "StructField(\"EDAD\", IntegerType(),True),\n",
        "StructField(\"SALARIO\", DoubleType(),True),\n",
        "StructField(\"ID_EMPRESA\", StringType(),True),\n",
        "])"
      ]
    },
    {
      "cell_type": "code",
      "execution_count": null,
      "id": "b8af335d",
      "metadata": {
        "id": "b8af335d"
      },
      "outputs": [],
      "source": [
        "# 4.2 Definimos ruta del archivo\n",
        "\n",
        "#Archivo en Cloud Storage - Google Cloud Platform\n",
        "ruta_persona_raw = \"gs://bigdata-dmc-faru/datalake/WORKLOAD/PERSONAS/persona.data\""
      ]
    },
    {
      "cell_type": "code",
      "execution_count": null,
      "id": "50afa565",
      "metadata": {
        "scrolled": false,
        "id": "50afa565",
        "outputId": "b55ebbbc-ea2b-4daf-8af3-f88c90bde008"
      },
      "outputs": [
        {
          "name": "stdout",
          "output_type": "stream",
          "text": [
            "root\n",
            " |-- ID: string (nullable = true)\n",
            " |-- NOMBRE: string (nullable = true)\n",
            " |-- TELEFONO: string (nullable = true)\n",
            " |-- CORREO: string (nullable = true)\n",
            " |-- FECHA_INGRESO: string (nullable = true)\n",
            " |-- EDAD: integer (nullable = true)\n",
            " |-- SALARIO: double (nullable = true)\n",
            " |-- ID_EMPRESA: string (nullable = true)\n",
            "\n"
          ]
        },
        {
          "name": "stderr",
          "output_type": "stream",
          "text": [
            "[Stage 0:>                                                          (0 + 1) / 1]\r"
          ]
        },
        {
          "name": "stdout",
          "output_type": "stream",
          "text": [
            "+---+---------+--------------+--------------------+-------------+----+-------+----------+\n",
            "| ID|   NOMBRE|      TELEFONO|              CORREO|FECHA_INGRESO|EDAD|SALARIO|ID_EMPRESA|\n",
            "+---+---------+--------------+--------------------+-------------+----+-------+----------+\n",
            "|  1|     Carl|1-745-633-9145|arcu.Sed.et@ante....|   2004-04-23|  32|20095.0|         5|\n",
            "|  2|Priscilla|      155-2498|Donec.egestas.Ali...|   2019-02-17|  34| 9298.0|         2|\n",
            "|  3|  Jocelyn|1-204-956-8594|amet.diam@loborti...|   2002-08-01|  27|10853.0|         3|\n",
            "|  4|    Aidan|1-719-862-9385|euismod.et.commod...|   2018-11-06|  29| 3387.0|        10|\n",
            "|  5|  Leandra|      839-8044|at@pretiumetrutru...|   2002-10-10|  41|22102.0|         1|\n",
            "+---+---------+--------------+--------------------+-------------+----+-------+----------+\n",
            "only showing top 5 rows\n",
            "\n"
          ]
        },
        {
          "name": "stderr",
          "output_type": "stream",
          "text": [
            "                                                                                \r"
          ]
        }
      ],
      "source": [
        "df_personas = spark.read.format(\"CSV\").option(\"header\",\"true\").option(\"delimiter\",\"|\").schema(df_schema).load(ruta_persona_raw)\n",
        "df_personas.printSchema()\n",
        "df_personas.show(5)"
      ]
    },
    {
      "cell_type": "code",
      "execution_count": null,
      "id": "c8c13e40",
      "metadata": {
        "scrolled": true,
        "id": "c8c13e40",
        "outputId": "99209c5a-aef5-4f21-d8af-1301ebf80566"
      },
      "outputs": [
        {
          "name": "stderr",
          "output_type": "stream",
          "text": [
            "[Stage 1:>                                                          (0 + 1) / 1]\r"
          ]
        },
        {
          "name": "stdout",
          "output_type": "stream",
          "text": [
            "La cantidad de registro del dataframe es:  100\n"
          ]
        },
        {
          "name": "stderr",
          "output_type": "stream",
          "text": [
            "                                                                                \r"
          ]
        }
      ],
      "source": [
        "num_rows = df_personas.count()\n",
        "print(\"La cantidad de registro del dataframe es: \", num_rows)"
      ]
    },
    {
      "cell_type": "code",
      "execution_count": null,
      "id": "f7eeda7e",
      "metadata": {
        "scrolled": true,
        "id": "f7eeda7e",
        "outputId": "6fd70625-1200-4532-927f-cd5ca26be1b7"
      },
      "outputs": [
        {
          "name": "stdout",
          "output_type": "stream",
          "text": [
            "+-------+-----------------+\n",
            "|summary|          salario|\n",
            "+-------+-----------------+\n",
            "|  count|              100|\n",
            "|   mean|         11684.55|\n",
            "| stddev|6841.493958437246|\n",
            "|    min|           1256.0|\n",
            "|    max|          24575.0|\n",
            "+-------+-----------------+\n",
            "\n"
          ]
        }
      ],
      "source": [
        "df_personas.describe('salario').show()"
      ]
    },
    {
      "cell_type": "code",
      "execution_count": null,
      "id": "93397ee2",
      "metadata": {
        "scrolled": true,
        "id": "93397ee2",
        "outputId": "b78a8ba9-3515-495d-b7a6-a14fdba1e761"
      },
      "outputs": [
        {
          "name": "stderr",
          "output_type": "stream",
          "text": [
            "                                                                                \r"
          ]
        }
      ],
      "source": [
        "#Archivo en Cloud Storage - Google Cloud Platform\n",
        "ruta_persona_landing = \"gs://bigdata-dmc-faru/datalake/LANDING/PERSONAS/\"\n",
        "#Si alguna carpeta no existe, automáticamente Spark la va a crear\n",
        "\n",
        "#Archivo DBFS - DataBricks\n",
        "# ruta_persona_landing = \"/FileStore/tables/landing/personas/\"\n",
        "\n",
        "\n",
        "#Archivo en HDFS - Hadoop\n",
        "#ruta_persona_landing = \"hdfs:/introduccion-apache-spark/datalake/landing/personas/\"\n",
        "\n",
        "df_personas.write.mode(\"overwrite\").format(\"parquet\").save(ruta_persona_landing)"
      ]
    },
    {
      "cell_type": "markdown",
      "id": "30ae1c30",
      "metadata": {
        "id": "30ae1c30"
      },
      "source": [
        "**empresa**"
      ]
    },
    {
      "cell_type": "code",
      "execution_count": null,
      "id": "63526591",
      "metadata": {
        "id": "63526591",
        "outputId": "a952dfe4-5f6c-4387-a53e-062fef64f278"
      },
      "outputs": [
        {
          "name": "stdout",
          "output_type": "stream",
          "text": [
            "root\n",
            " |-- ID: string (nullable = true)\n",
            " |-- EMPRESA_NAME: string (nullable = true)\n",
            "\n",
            "+---+------------+\n",
            "| ID|EMPRESA_NAME|\n",
            "+---+------------+\n",
            "|  1|     Walmart|\n",
            "|  2|   Microsoft|\n",
            "|  3|       Apple|\n",
            "|  4|      Toyota|\n",
            "|  5|      Amazon|\n",
            "+---+------------+\n",
            "only showing top 5 rows\n",
            "\n"
          ]
        },
        {
          "name": "stderr",
          "output_type": "stream",
          "text": [
            "                                                                                \r"
          ]
        }
      ],
      "source": [
        "#Estructura del dataframe.\n",
        "df_schema_empresas = StructType([\n",
        "StructField(\"ID\", StringType(),True),\n",
        "StructField(\"EMPRESA_NAME\", StringType(),True)\n",
        "])\n",
        "\n",
        "#Archivo en Cloud Storage - Google Cloud Platform\n",
        "ruta_empresa_raw = \"gs://bigdata-dmc-faru/datalake/WORKLOAD/EMPRESAS/empresa.data\"\n",
        "\n",
        "df_empresa = spark.read.format(\"CSV\").option(\"header\",\"true\").option(\"delimiter\",\"|\").schema(df_schema_empresas).load(ruta_empresa_raw)\n",
        "df_empresa.printSchema()\n",
        "df_empresa.show(5)\n",
        "\n",
        "ruta_empresa_landing = \"gs://bigdata-dmc-faru/datalake/LANDING/EMPRESAS/\"\n",
        "#Si alguna carpeta no existe, automáticamente Spark la va a crear\n",
        "\n",
        "df_empresa.write.mode(\"overwrite\").format(\"parquet\").save(ruta_empresa_landing)"
      ]
    },
    {
      "cell_type": "markdown",
      "id": "54b3a3f6",
      "metadata": {
        "id": "54b3a3f6"
      },
      "source": [
        "**TRANSACCION**"
      ]
    },
    {
      "cell_type": "code",
      "execution_count": null,
      "id": "bdf09c70",
      "metadata": {
        "scrolled": true,
        "id": "bdf09c70",
        "outputId": "ed4f4f13-fe80-4ddb-d691-88eee72f9902"
      },
      "outputs": [
        {
          "name": "stdout",
          "output_type": "stream",
          "text": [
            "root\n",
            " |-- ID_PERSONA: string (nullable = true)\n",
            " |-- ID_EMPRESA: string (nullable = true)\n",
            " |-- MONTO: double (nullable = true)\n",
            " |-- FECHA: string (nullable = true)\n",
            "\n",
            "+----------+----------+------+----------+\n",
            "|ID_PERSONA|ID_EMPRESA| MONTO|     FECHA|\n",
            "+----------+----------+------+----------+\n",
            "|        18|         3|1383.0|2018-01-21|\n",
            "|        30|         6|2331.0|2018-01-21|\n",
            "|        47|         2|2280.0|2018-01-21|\n",
            "|        28|         1| 730.0|2018-01-21|\n",
            "|        91|         4|3081.0|2018-01-21|\n",
            "+----------+----------+------+----------+\n",
            "only showing top 5 rows\n",
            "\n"
          ]
        },
        {
          "name": "stderr",
          "output_type": "stream",
          "text": [
            "                                                                                \r"
          ]
        }
      ],
      "source": [
        "#Estructura del dataframe.\n",
        "df_schema_transaccion = StructType([\n",
        "StructField(\"ID_PERSONA\", StringType(),True),\n",
        "StructField(\"ID_EMPRESA\", StringType(),True),\n",
        "StructField(\"MONTO\", DoubleType(),True),\n",
        "StructField(\"FECHA\", StringType(),True)\n",
        "])\n",
        "\n",
        "#Archivo en Cloud Storage - Google Cloud Platform\n",
        "ruta_transaccion_raw = \"gs://bigdata-dmc-faru/datalake/WORKLOAD/TRANSACCIONES/transacciones.data\"\n",
        "\n",
        "df_transaccion = spark.read.format(\"CSV\").option(\"header\",\"true\").option(\"delimiter\",\"|\").schema(df_schema_transaccion).load(ruta_transaccion_raw)\n",
        "df_transaccion.printSchema()\n",
        "df_transaccion.show(5)\n",
        "\n",
        "ruta_transaccion_landing = \"gs://bigdata-dmc-faru/datalake/LANDING/TRANSACCIONES/\"\n",
        "#Si alguna carpeta no existe, automáticamente Spark la va a crear\n",
        "\n",
        "df_transaccion.write.mode(\"overwrite\").format(\"parquet\").save(ruta_transaccion_landing)"
      ]
    },
    {
      "cell_type": "markdown",
      "id": "0d234e52",
      "metadata": {
        "id": "0d234e52"
      },
      "source": [
        "# Curated"
      ]
    },
    {
      "cell_type": "markdown",
      "id": "806d2090",
      "metadata": {
        "id": "806d2090"
      },
      "source": [
        "**persona**"
      ]
    },
    {
      "cell_type": "code",
      "execution_count": null,
      "id": "1bfcd23c",
      "metadata": {
        "scrolled": true,
        "id": "1bfcd23c",
        "outputId": "fff53b10-78df-47ca-a3d8-403272e0399e"
      },
      "outputs": [
        {
          "name": "stdout",
          "output_type": "stream",
          "text": [
            "root\n",
            " |-- ID: string (nullable = true)\n",
            " |-- NOMBRE: string (nullable = true)\n",
            " |-- TELEFONO: string (nullable = true)\n",
            " |-- CORREO: string (nullable = true)\n",
            " |-- FECHA_INGRESO: string (nullable = true)\n",
            " |-- EDAD: integer (nullable = true)\n",
            " |-- SALARIO: double (nullable = true)\n",
            " |-- ID_EMPRESA: string (nullable = true)\n",
            "\n"
          ]
        },
        {
          "name": "stderr",
          "output_type": "stream",
          "text": [
            "                                                                                \r"
          ]
        },
        {
          "name": "stdout",
          "output_type": "stream",
          "text": [
            "+---+---------+--------------+--------------------+-------------+----+-------+----------+\n",
            "| ID|   NOMBRE|      TELEFONO|              CORREO|FECHA_INGRESO|EDAD|SALARIO|ID_EMPRESA|\n",
            "+---+---------+--------------+--------------------+-------------+----+-------+----------+\n",
            "|  1|     Carl|1-745-633-9145|arcu.Sed.et@ante....|   2004-04-23|  32|20095.0|         5|\n",
            "|  2|Priscilla|      155-2498|Donec.egestas.Ali...|   2019-02-17|  34| 9298.0|         2|\n",
            "|  3|  Jocelyn|1-204-956-8594|amet.diam@loborti...|   2002-08-01|  27|10853.0|         3|\n",
            "|  4|    Aidan|1-719-862-9385|euismod.et.commod...|   2018-11-06|  29| 3387.0|        10|\n",
            "|  5|  Leandra|      839-8044|at@pretiumetrutru...|   2002-10-10|  41|22102.0|         1|\n",
            "|  6|     Bert|      797-4453|a.felis.ullamcorp...|   2017-04-25|  70| 7800.0|         7|\n",
            "|  7|     Mark|1-680-102-6792|Quisque.ac@placer...|   2006-04-21|  52| 8112.0|         5|\n",
            "|  8|    Jonah|      214-2975|eu.ultrices.sit@v...|   2017-10-07|  23|17040.0|         5|\n",
            "|  9|    Hanae|      935-2277|          eu@Nunc.ca|   2003-05-25|  69| 6834.0|         3|\n",
            "| 10|   Cadman|1-866-561-2701|orci.adipiscing.n...|   2001-05-19|  19| 7996.0|         7|\n",
            "+---+---------+--------------+--------------------+-------------+----+-------+----------+\n",
            "only showing top 10 rows\n",
            "\n",
            "+---+---------+-----------+--------------------+-------------+----+-------+----------+\n",
            "| ID|   NOMBRE|   telefono|              CORREO|FECHA_INGRESO|EDAD|SALARIO|ID_EMPRESA|\n",
            "+---+---------+-----------+--------------------+-------------+----+-------+----------+\n",
            "|  1|     Carl|17456339145|arcu.Sed.et@ante....|   2004-04-23|  32|20095.0|         5|\n",
            "|  2|Priscilla|    1552498|Donec.egestas.Ali...|   2019-02-17|  34| 9298.0|         2|\n",
            "|  3|  Jocelyn|12049568594|amet.diam@loborti...|   2002-08-01|  27|10853.0|         3|\n",
            "|  4|    Aidan|17198629385|euismod.et.commod...|   2018-11-06|  29| 3387.0|        10|\n",
            "|  5|  Leandra|    8398044|at@pretiumetrutru...|   2002-10-10|  41|22102.0|         1|\n",
            "|  6|     Bert|    7974453|a.felis.ullamcorp...|   2017-04-25|  70| 7800.0|         7|\n",
            "|  7|     Mark|16801026792|Quisque.ac@placer...|   2006-04-21|  52| 8112.0|         5|\n",
            "|  8|    Jonah|    2142975|eu.ultrices.sit@v...|   2017-10-07|  23|17040.0|         5|\n",
            "|  9|    Hanae|    9352277|          eu@Nunc.ca|   2003-05-25|  69| 6834.0|         3|\n",
            "| 10|   Cadman|18665612701|orci.adipiscing.n...|   2001-05-19|  19| 7996.0|         7|\n",
            "+---+---------+-----------+--------------------+-------------+----+-------+----------+\n",
            "only showing top 10 rows\n",
            "\n"
          ]
        },
        {
          "name": "stderr",
          "output_type": "stream",
          "text": [
            "                                                                                \r"
          ]
        }
      ],
      "source": [
        "df_personas_landing = spark.read.format(\"parquet\").option(\"header\",\"true\").load(ruta_persona_landing)\n",
        "df_personas_landing.printSchema()\n",
        "df_personas_landing.show(10)\n",
        "# transformar según reglas de negocio\n",
        "df_personas_procesado = df_personas_landing.withColumn('telefono', regexp_replace('telefono', '-', ''))\n",
        "df_personas_procesado.show(10)\n",
        "\n",
        "ruta_persona_curated = 'bigdata-dmc-faru/datalake/CURATED/PERSONAS'\n",
        "df_personas_procesado.write.mode(\"overwrite\").format(\"parquet\").save(ruta_persona_curated)"
      ]
    },
    {
      "cell_type": "markdown",
      "id": "d0da64c6",
      "metadata": {
        "id": "d0da64c6"
      },
      "source": [
        "**empresas**"
      ]
    },
    {
      "cell_type": "code",
      "execution_count": null,
      "id": "16fc63c3",
      "metadata": {
        "scrolled": false,
        "id": "16fc63c3",
        "outputId": "47fb5600-76cd-4e94-c802-df619a9342fa"
      },
      "outputs": [
        {
          "name": "stdout",
          "output_type": "stream",
          "text": [
            "root\n",
            " |-- ID: string (nullable = true)\n",
            " |-- EMPRESA_NAME: string (nullable = true)\n",
            "\n",
            "+---+------------+\n",
            "| ID|EMPRESA_NAME|\n",
            "+---+------------+\n",
            "|  1|     Walmart|\n",
            "|  2|   Microsoft|\n",
            "|  3|       Apple|\n",
            "|  4|      Toyota|\n",
            "|  5|      Amazon|\n",
            "|  6|      Google|\n",
            "|  7|     Samsung|\n",
            "|  8|          HP|\n",
            "|  9|         IBM|\n",
            "| 10|        Sony|\n",
            "+---+------------+\n",
            "\n"
          ]
        },
        {
          "name": "stderr",
          "output_type": "stream",
          "text": [
            "                                                                                \r"
          ]
        }
      ],
      "source": [
        "df_empresas_landing = spark.read.format(\"parquet\").option(\"header\",\"true\").load(ruta_empresa_landing)\n",
        "df_empresas_landing.printSchema()\n",
        "df_empresas_landing.show(10)\n",
        "# transformar según reglas de negocio\n",
        "df_empresas_procesado = df_empresas_landing.withColumn('EMPRESA_NAME',upper(col('EMPRESA_NAME')))\n",
        "\n",
        "ruta_empresas_curated = 'bigdata-dmc-faru/datalake/CURATED/EMPRESAS'\n",
        "df_empresas_procesado.write.mode(\"overwrite\").format(\"parquet\").save(ruta_empresas_curated)"
      ]
    }
  ],
  "metadata": {
    "kernelspec": {
      "display_name": "PySpark",
      "language": "python",
      "name": "pyspark"
    },
    "language_info": {
      "codemirror_mode": {
        "name": "ipython",
        "version": 3
      },
      "file_extension": ".py",
      "mimetype": "text/x-python",
      "name": "python",
      "nbconvert_exporter": "python",
      "pygments_lexer": "ipython3",
      "version": "3.8.13"
    },
    "colab": {
      "provenance": []
    }
  },
  "nbformat": 4,
  "nbformat_minor": 5
}