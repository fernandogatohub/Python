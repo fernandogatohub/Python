{
  "nbformat": 4,
  "nbformat_minor": 0,
  "metadata": {
    "anaconda-cloud": {},
    "colab": {
      "name": "Data preparation (lags): Datathon IBK.ipynb",
      "provenance": [],
      "collapsed_sections": [],
      "toc_visible": true
    },
    "kernelspec": {
      "display_name": "Python [default]",
      "language": "python",
      "name": "python3"
    },
    "language_info": {
      "codemirror_mode": {
        "name": "ipython",
        "version": 3
      },
      "file_extension": ".py",
      "mimetype": "text/x-python",
      "name": "python",
      "nbconvert_exporter": "python",
      "pygments_lexer": "ipython3",
      "version": "3.5.2"
    }
  },
  "cells": [
    {
      "cell_type": "code",
      "metadata": {
        "colab_type": "code",
        "id": "AK1oPLRq9W3Y",
        "outputId": "10d7864a-b52c-4730-b589-4d481b629b9e",
        "colab": {
          "base_uri": "https://localhost:8080/",
          "height": 105
        }
      },
      "source": [
        "from google.colab import drive\n",
        "drive.mount('/content/drive')"
      ],
      "execution_count": 0,
      "outputs": [
        {
          "output_type": "stream",
          "text": [
            "Go to this URL in a browser: https://accounts.google.com/o/oauth2/auth?client_id=947318989803-6bn6qk8qdgf4n4g3pfee6491hc0brc4i.apps.googleusercontent.com&redirect_uri=urn%3aietf%3awg%3aoauth%3a2.0%3aoob&response_type=code&scope=email%20https%3a%2f%2fwww.googleapis.com%2fauth%2fdocs.test%20https%3a%2f%2fwww.googleapis.com%2fauth%2fdrive%20https%3a%2f%2fwww.googleapis.com%2fauth%2fdrive.photos.readonly%20https%3a%2f%2fwww.googleapis.com%2fauth%2fpeopleapi.readonly\n",
            "\n",
            "Enter your authorization code:\n",
            "··········\n"
          ],
          "name": "stdout"
        }
      ]
    },
    {
      "cell_type": "code",
      "metadata": {
        "id": "u1ppjF86gxxk",
        "colab_type": "code",
        "outputId": "3fb9649c-0c7e-4638-bb8c-58e35ebc512a",
        "colab": {
          "base_uri": "https://localhost:8080/",
          "height": 34
        }
      },
      "source": [
        "cd /content/drive/My Drive/Datathon Interbank"
      ],
      "execution_count": 0,
      "outputs": [
        {
          "output_type": "stream",
          "text": [
            "/content/drive/My Drive/Datathon Interbank\n"
          ],
          "name": "stdout"
        }
      ]
    },
    {
      "cell_type": "code",
      "metadata": {
        "colab_type": "code",
        "id": "sW3Ff2172rSC",
        "colab": {}
      },
      "source": [
        "import pandas as pd\n",
        "from sklearn.preprocessing import Imputer\n",
        "from collections import Counter\n",
        "import numpy as np\n",
        "import seaborn as sns\n",
        "import matplotlib.pyplot as plt\n",
        "from functools import reduce"
      ],
      "execution_count": 0,
      "outputs": []
    },
    {
      "cell_type": "code",
      "metadata": {
        "colab_type": "code",
        "id": "Akxnw_ped7F0",
        "outputId": "ff011669-8b72-44ed-e5ee-c5e64f3cd017",
        "colab": {
          "base_uri": "https://localhost:8080/",
          "height": 54
        }
      },
      "source": [
        "#Leemos los datos\n",
        "train_bd = pd.read_csv('ib_base_inicial_train.csv', parse_dates=['codmes'], infer_datetime_format=True)\n",
        "test_bd = pd.read_csv('ib_base_inicial_test.csv', parse_dates=['codmes'], infer_datetime_format=True)\n",
        "#campanias_bd = pd.read_csv('ib_base_campanias.csv', parse_dates=['codmes'], infer_datetime_format=True)\n",
        "digital_bd = pd.read_csv('ib_base_digital.csv', parse_dates=['codday'], infer_datetime_format=True)\n",
        "rcc_bd = pd.read_csv('ib_base_rcc.csv', parse_dates=['codmes'], infer_datetime_format=True)\n",
        "reniec_bd = pd.read_csv('ib_base_reniec.csv')\n",
        "sunat_bd = pd.read_csv('ib_base_sunat.csv')\n",
        "#vehicular_bd = pd.read_csv('ib_base_vehicular.csv')\n",
        "#sample_sub = pd.read_csv('sampleSubmission.csv')\n",
        "'''Indicamos parse_dates e infer_datetime_format para que las dechas no sean integer \n",
        "ya que originalmente las columnas de fecha están con el formato 201907'''"
      ],
      "execution_count": 0,
      "outputs": [
        {
          "output_type": "execute_result",
          "data": {
            "text/plain": [
              "'Indicamos parse_dates e infer_datetime_format para que las dechas no sean integer \\nya que originalmente las columnas de fecha están con el formato 201907'"
            ]
          },
          "metadata": {
            "tags": []
          },
          "execution_count": 126
        }
      ]
    },
    {
      "cell_type": "code",
      "metadata": {
        "id": "y1z2ibZJNAD8",
        "colab_type": "code",
        "colab": {}
      },
      "source": [
        "digital_bd = pd.read_csv('ib_base_digital.csv', parse_dates=['codday'], infer_datetime_format=True)\n",
        "rcc_bd = pd.read_csv('ib_base_rcc.csv', parse_dates=['codmes'], infer_datetime_format=True)"
      ],
      "execution_count": 0,
      "outputs": []
    },
    {
      "cell_type": "markdown",
      "metadata": {
        "colab_type": "text",
        "id": "GSUVojP8lLQC"
      },
      "source": [
        "#Data preparation\n",
        "\n"
      ]
    },
    {
      "cell_type": "markdown",
      "metadata": {
        "colab_type": "text",
        "id": "b8eLihNRUseh"
      },
      "source": [
        "To do:\n",
        "- Feature engineering\n",
        "- escalamiento de variables numéricas"
      ]
    },
    {
      "cell_type": "markdown",
      "metadata": {
        "colab_type": "text",
        "id": "Y-Czm2Bh03vr"
      },
      "source": [
        "## Dataframes con codigomes"
      ]
    },
    {
      "cell_type": "markdown",
      "metadata": {
        "colab_type": "text",
        "id": "hJ1jF2ok5bUx"
      },
      "source": [
        "### digital_db"
      ]
    },
    {
      "cell_type": "code",
      "metadata": {
        "colab_type": "code",
        "id": "i7R0gI4OlOxk",
        "outputId": "014da93e-b564-48a1-c5ee-178391614016",
        "colab": {
          "base_uri": "https://localhost:8080/",
          "height": 68
        }
      },
      "source": [
        "#Eliminamos las filas duplicadas digital_db\n",
        "digital_bd = digital_bd.drop_duplicates()\n",
        "print('shape: {}'.format(digital_bd.shape))\n",
        "print('id_persona duplicados: {}'.format(digital_bd.id_persona.duplicated().sum()))\n",
        "print('filas duplicadas: {}'.format(digital_bd.duplicated().sum()))"
      ],
      "execution_count": 0,
      "outputs": [
        {
          "output_type": "stream",
          "text": [
            "shape: (60279, 33)\n",
            "id_persona duplicados: 37187\n",
            "filas duplicadas: 0\n"
          ],
          "name": "stdout"
        }
      ]
    },
    {
      "cell_type": "code",
      "metadata": {
        "colab_type": "code",
        "id": "tX2VCGDjlSt0",
        "outputId": "48d8ec7c-1636-4591-b95a-7de32d3ad1c3",
        "colab": {
          "base_uri": "https://localhost:8080/",
          "height": 119
        }
      },
      "source": [
        "#Creando la columna codmes\n",
        "def crear_codmes(x):\n",
        "  x = x.strftime('%Y-%m-%d')\n",
        "  b = x.split('-')[0]\n",
        "  c = x.split('-')[1]\n",
        "  return b + c\n",
        "digital_bd['codmes'] = digital_bd.codday.apply(crear_codmes)\n",
        "digital_bd.codmes.head() "
      ],
      "execution_count": 0,
      "outputs": [
        {
          "output_type": "execute_result",
          "data": {
            "text/plain": [
              "0    201812\n",
              "1    201811\n",
              "2    201812\n",
              "3    201811\n",
              "4    201904\n",
              "Name: codmes, dtype: object"
            ]
          },
          "metadata": {
            "tags": []
          },
          "execution_count": 115
        }
      ]
    },
    {
      "cell_type": "code",
      "metadata": {
        "colab_type": "code",
        "id": "haTuLFewuZ4b",
        "outputId": "92fc29a8-7547-4c99-8e13-ee41d9ae07a6",
        "colab": {
          "base_uri": "https://localhost:8080/",
          "height": 165
        }
      },
      "source": [
        "#Creando columna prediction_id\n",
        "digital_bd['prediction_id'] = digital_bd.id_persona.apply(str) + '_' + digital_bd.codmes.apply(str)\n",
        "digital_bd.head(2)"
      ],
      "execution_count": 0,
      "outputs": [
        {
          "output_type": "execute_result",
          "data": {
            "text/html": [
              "<div>\n",
              "<style scoped>\n",
              "    .dataframe tbody tr th:only-of-type {\n",
              "        vertical-align: middle;\n",
              "    }\n",
              "\n",
              "    .dataframe tbody tr th {\n",
              "        vertical-align: top;\n",
              "    }\n",
              "\n",
              "    .dataframe thead th {\n",
              "        text-align: right;\n",
              "    }\n",
              "</style>\n",
              "<table border=\"1\" class=\"dataframe\">\n",
              "  <thead>\n",
              "    <tr style=\"text-align: right;\">\n",
              "      <th></th>\n",
              "      <th>codday</th>\n",
              "      <th>id_persona</th>\n",
              "      <th>simu_prestamo</th>\n",
              "      <th>benefit</th>\n",
              "      <th>email</th>\n",
              "      <th>facebook</th>\n",
              "      <th>goog</th>\n",
              "      <th>youtb</th>\n",
              "      <th>compb</th>\n",
              "      <th>movil</th>\n",
              "      <th>desktop</th>\n",
              "      <th>n_rep30</th>\n",
              "      <th>recencia</th>\n",
              "      <th>lima_dig</th>\n",
              "      <th>provincia_dig</th>\n",
              "      <th>extranjero_dig</th>\n",
              "      <th>time_ctasimple</th>\n",
              "      <th>time_mllp</th>\n",
              "      <th>time_mllst</th>\n",
              "      <th>time_ctasld</th>\n",
              "      <th>time_tc</th>\n",
              "      <th>n_sesion</th>\n",
              "      <th>busqtc</th>\n",
              "      <th>busqvisa</th>\n",
              "      <th>busqamex</th>\n",
              "      <th>busqmc</th>\n",
              "      <th>busqcsimp</th>\n",
              "      <th>busqmill</th>\n",
              "      <th>busqcsld</th>\n",
              "      <th>busq</th>\n",
              "      <th>n_pag</th>\n",
              "      <th>android</th>\n",
              "      <th>iphone</th>\n",
              "      <th>codmes</th>\n",
              "      <th>prediction_id</th>\n",
              "    </tr>\n",
              "  </thead>\n",
              "  <tbody>\n",
              "    <tr>\n",
              "      <th>0</th>\n",
              "      <td>2018-12-04</td>\n",
              "      <td>99258</td>\n",
              "      <td>0.0</td>\n",
              "      <td>0</td>\n",
              "      <td>0</td>\n",
              "      <td>1</td>\n",
              "      <td>0</td>\n",
              "      <td>0</td>\n",
              "      <td>0</td>\n",
              "      <td>1</td>\n",
              "      <td>0</td>\n",
              "      <td>1</td>\n",
              "      <td>1.0</td>\n",
              "      <td>0</td>\n",
              "      <td>1</td>\n",
              "      <td>0</td>\n",
              "      <td>0.0</td>\n",
              "      <td>0.0</td>\n",
              "      <td>0.0</td>\n",
              "      <td>0.0</td>\n",
              "      <td>0.0</td>\n",
              "      <td>1</td>\n",
              "      <td>0</td>\n",
              "      <td>0</td>\n",
              "      <td>0</td>\n",
              "      <td>0</td>\n",
              "      <td>0</td>\n",
              "      <td>0</td>\n",
              "      <td>0</td>\n",
              "      <td>0</td>\n",
              "      <td>2</td>\n",
              "      <td>8.0</td>\n",
              "      <td>NaN</td>\n",
              "      <td>201812</td>\n",
              "      <td>99258_201812</td>\n",
              "    </tr>\n",
              "    <tr>\n",
              "      <th>1</th>\n",
              "      <td>2018-11-02</td>\n",
              "      <td>99258</td>\n",
              "      <td>0.0</td>\n",
              "      <td>0</td>\n",
              "      <td>0</td>\n",
              "      <td>1</td>\n",
              "      <td>0</td>\n",
              "      <td>0</td>\n",
              "      <td>0</td>\n",
              "      <td>1</td>\n",
              "      <td>0</td>\n",
              "      <td>0</td>\n",
              "      <td>100.0</td>\n",
              "      <td>1</td>\n",
              "      <td>0</td>\n",
              "      <td>0</td>\n",
              "      <td>0.0</td>\n",
              "      <td>0.0</td>\n",
              "      <td>0.0</td>\n",
              "      <td>0.0</td>\n",
              "      <td>0.0</td>\n",
              "      <td>1</td>\n",
              "      <td>0</td>\n",
              "      <td>0</td>\n",
              "      <td>0</td>\n",
              "      <td>0</td>\n",
              "      <td>0</td>\n",
              "      <td>0</td>\n",
              "      <td>0</td>\n",
              "      <td>0</td>\n",
              "      <td>2</td>\n",
              "      <td>8.0</td>\n",
              "      <td>NaN</td>\n",
              "      <td>201811</td>\n",
              "      <td>99258_201811</td>\n",
              "    </tr>\n",
              "  </tbody>\n",
              "</table>\n",
              "</div>"
            ],
            "text/plain": [
              "      codday  id_persona  simu_prestamo  ...  iphone  codmes  prediction_id\n",
              "0 2018-12-04       99258            0.0  ...     NaN  201812   99258_201812\n",
              "1 2018-11-02       99258            0.0  ...     NaN  201811   99258_201811\n",
              "\n",
              "[2 rows x 35 columns]"
            ]
          },
          "metadata": {
            "tags": []
          },
          "execution_count": 116
        }
      ]
    },
    {
      "cell_type": "code",
      "metadata": {
        "colab_type": "code",
        "id": "XgOJFTm5Olzp",
        "outputId": "0ed2868f-9bbf-438c-e08b-ecf21f219bf8",
        "colab": {
          "base_uri": "https://localhost:8080/",
          "height": 224
        }
      },
      "source": [
        "#Agrupamos sumando los datos de \"número de veces\" y \"tiempo\"\n",
        "lista = ['simu_prestamo', 'benefit', 'email', 'facebook', 'goog', 'youtb', 'compb', \n",
        "         'movil', 'desktop','n_sesion', 'n_pag', 'time_ctasimple']\n",
        "sdf_digit_num = digital_bd.groupby('prediction_id')[lista].sum().reset_index()\n",
        "sdf_digit_num.head()"
      ],
      "execution_count": 0,
      "outputs": [
        {
          "output_type": "execute_result",
          "data": {
            "text/html": [
              "<div>\n",
              "<style scoped>\n",
              "    .dataframe tbody tr th:only-of-type {\n",
              "        vertical-align: middle;\n",
              "    }\n",
              "\n",
              "    .dataframe tbody tr th {\n",
              "        vertical-align: top;\n",
              "    }\n",
              "\n",
              "    .dataframe thead th {\n",
              "        text-align: right;\n",
              "    }\n",
              "</style>\n",
              "<table border=\"1\" class=\"dataframe\">\n",
              "  <thead>\n",
              "    <tr style=\"text-align: right;\">\n",
              "      <th></th>\n",
              "      <th>prediction_id</th>\n",
              "      <th>simu_prestamo</th>\n",
              "      <th>benefit</th>\n",
              "      <th>email</th>\n",
              "      <th>facebook</th>\n",
              "      <th>goog</th>\n",
              "      <th>youtb</th>\n",
              "      <th>compb</th>\n",
              "      <th>movil</th>\n",
              "      <th>desktop</th>\n",
              "      <th>n_sesion</th>\n",
              "      <th>n_pag</th>\n",
              "      <th>time_ctasimple</th>\n",
              "    </tr>\n",
              "  </thead>\n",
              "  <tbody>\n",
              "    <tr>\n",
              "      <th>0</th>\n",
              "      <td>100003_201903</td>\n",
              "      <td>0.0</td>\n",
              "      <td>0</td>\n",
              "      <td>0</td>\n",
              "      <td>2</td>\n",
              "      <td>0</td>\n",
              "      <td>0</td>\n",
              "      <td>0</td>\n",
              "      <td>2</td>\n",
              "      <td>0</td>\n",
              "      <td>2</td>\n",
              "      <td>4</td>\n",
              "      <td>0.0</td>\n",
              "    </tr>\n",
              "    <tr>\n",
              "      <th>1</th>\n",
              "      <td>100014_201901</td>\n",
              "      <td>0.0</td>\n",
              "      <td>0</td>\n",
              "      <td>0</td>\n",
              "      <td>0</td>\n",
              "      <td>10</td>\n",
              "      <td>0</td>\n",
              "      <td>0</td>\n",
              "      <td>0</td>\n",
              "      <td>24</td>\n",
              "      <td>24</td>\n",
              "      <td>61</td>\n",
              "      <td>0.0</td>\n",
              "    </tr>\n",
              "    <tr>\n",
              "      <th>2</th>\n",
              "      <td>100031_201812</td>\n",
              "      <td>0.0</td>\n",
              "      <td>0</td>\n",
              "      <td>0</td>\n",
              "      <td>0</td>\n",
              "      <td>1</td>\n",
              "      <td>0</td>\n",
              "      <td>0</td>\n",
              "      <td>0</td>\n",
              "      <td>1</td>\n",
              "      <td>1</td>\n",
              "      <td>1</td>\n",
              "      <td>0.0</td>\n",
              "    </tr>\n",
              "    <tr>\n",
              "      <th>3</th>\n",
              "      <td>100050_201811</td>\n",
              "      <td>0.0</td>\n",
              "      <td>0</td>\n",
              "      <td>0</td>\n",
              "      <td>1</td>\n",
              "      <td>0</td>\n",
              "      <td>0</td>\n",
              "      <td>0</td>\n",
              "      <td>0</td>\n",
              "      <td>1</td>\n",
              "      <td>1</td>\n",
              "      <td>1</td>\n",
              "      <td>0.0</td>\n",
              "    </tr>\n",
              "    <tr>\n",
              "      <th>4</th>\n",
              "      <td>100050_201901</td>\n",
              "      <td>0.0</td>\n",
              "      <td>0</td>\n",
              "      <td>1</td>\n",
              "      <td>0</td>\n",
              "      <td>0</td>\n",
              "      <td>0</td>\n",
              "      <td>0</td>\n",
              "      <td>0</td>\n",
              "      <td>1</td>\n",
              "      <td>1</td>\n",
              "      <td>8</td>\n",
              "      <td>0.0</td>\n",
              "    </tr>\n",
              "  </tbody>\n",
              "</table>\n",
              "</div>"
            ],
            "text/plain": [
              "   prediction_id  simu_prestamo  benefit  ...  n_sesion  n_pag  time_ctasimple\n",
              "0  100003_201903            0.0        0  ...         2      4             0.0\n",
              "1  100014_201901            0.0        0  ...        24     61             0.0\n",
              "2  100031_201812            0.0        0  ...         1      1             0.0\n",
              "3  100050_201811            0.0        0  ...         1      1             0.0\n",
              "4  100050_201901            0.0        0  ...         1      8             0.0\n",
              "\n",
              "[5 rows x 13 columns]"
            ]
          },
          "metadata": {
            "tags": []
          },
          "execution_count": 117
        }
      ]
    },
    {
      "cell_type": "code",
      "metadata": {
        "colab_type": "code",
        "id": "MTLKjrqq5PvS",
        "outputId": "29e1649e-17f4-4d2c-caba-361c39fa0f72",
        "colab": {
          "base_uri": "https://localhost:8080/",
          "height": 224
        }
      },
      "source": [
        "#Agrupamos sumando los datos de variables binarias cuyos valores son 0 y 1\n",
        "lista = ['busqtc', 'busqvisa', 'busqcsimp', 'busqmill', 'busqcsld', 'busq',\n",
        "         'n_rep30', 'lima_dig', 'provincia_dig', 'extranjero_dig']\n",
        "sdf_digit_bin = digital_bd.groupby('prediction_id')[lista].sum().reset_index()\n",
        "sdf_digit_bin.head()"
      ],
      "execution_count": 0,
      "outputs": [
        {
          "output_type": "execute_result",
          "data": {
            "text/html": [
              "<div>\n",
              "<style scoped>\n",
              "    .dataframe tbody tr th:only-of-type {\n",
              "        vertical-align: middle;\n",
              "    }\n",
              "\n",
              "    .dataframe tbody tr th {\n",
              "        vertical-align: top;\n",
              "    }\n",
              "\n",
              "    .dataframe thead th {\n",
              "        text-align: right;\n",
              "    }\n",
              "</style>\n",
              "<table border=\"1\" class=\"dataframe\">\n",
              "  <thead>\n",
              "    <tr style=\"text-align: right;\">\n",
              "      <th></th>\n",
              "      <th>prediction_id</th>\n",
              "      <th>busqtc</th>\n",
              "      <th>busqvisa</th>\n",
              "      <th>busqcsimp</th>\n",
              "      <th>busqmill</th>\n",
              "      <th>busqcsld</th>\n",
              "      <th>busq</th>\n",
              "      <th>n_rep30</th>\n",
              "      <th>lima_dig</th>\n",
              "      <th>provincia_dig</th>\n",
              "      <th>extranjero_dig</th>\n",
              "    </tr>\n",
              "  </thead>\n",
              "  <tbody>\n",
              "    <tr>\n",
              "      <th>0</th>\n",
              "      <td>100003_201903</td>\n",
              "      <td>0</td>\n",
              "      <td>0</td>\n",
              "      <td>0</td>\n",
              "      <td>0</td>\n",
              "      <td>0</td>\n",
              "      <td>0</td>\n",
              "      <td>1</td>\n",
              "      <td>1</td>\n",
              "      <td>1</td>\n",
              "      <td>0</td>\n",
              "    </tr>\n",
              "    <tr>\n",
              "      <th>1</th>\n",
              "      <td>100014_201901</td>\n",
              "      <td>0</td>\n",
              "      <td>0</td>\n",
              "      <td>0</td>\n",
              "      <td>0</td>\n",
              "      <td>0</td>\n",
              "      <td>0</td>\n",
              "      <td>1</td>\n",
              "      <td>8</td>\n",
              "      <td>0</td>\n",
              "      <td>0</td>\n",
              "    </tr>\n",
              "    <tr>\n",
              "      <th>2</th>\n",
              "      <td>100031_201812</td>\n",
              "      <td>0</td>\n",
              "      <td>0</td>\n",
              "      <td>0</td>\n",
              "      <td>0</td>\n",
              "      <td>0</td>\n",
              "      <td>0</td>\n",
              "      <td>0</td>\n",
              "      <td>0</td>\n",
              "      <td>1</td>\n",
              "      <td>0</td>\n",
              "    </tr>\n",
              "    <tr>\n",
              "      <th>3</th>\n",
              "      <td>100050_201811</td>\n",
              "      <td>0</td>\n",
              "      <td>0</td>\n",
              "      <td>0</td>\n",
              "      <td>0</td>\n",
              "      <td>0</td>\n",
              "      <td>0</td>\n",
              "      <td>1</td>\n",
              "      <td>1</td>\n",
              "      <td>0</td>\n",
              "      <td>0</td>\n",
              "    </tr>\n",
              "    <tr>\n",
              "      <th>4</th>\n",
              "      <td>100050_201901</td>\n",
              "      <td>0</td>\n",
              "      <td>0</td>\n",
              "      <td>0</td>\n",
              "      <td>0</td>\n",
              "      <td>0</td>\n",
              "      <td>0</td>\n",
              "      <td>0</td>\n",
              "      <td>1</td>\n",
              "      <td>0</td>\n",
              "      <td>0</td>\n",
              "    </tr>\n",
              "  </tbody>\n",
              "</table>\n",
              "</div>"
            ],
            "text/plain": [
              "   prediction_id  busqtc  busqvisa  ...  lima_dig  provincia_dig  extranjero_dig\n",
              "0  100003_201903       0         0  ...         1              1               0\n",
              "1  100014_201901       0         0  ...         8              0               0\n",
              "2  100031_201812       0         0  ...         0              1               0\n",
              "3  100050_201811       0         0  ...         1              0               0\n",
              "4  100050_201901       0         0  ...         1              0               0\n",
              "\n",
              "[5 rows x 11 columns]"
            ]
          },
          "metadata": {
            "tags": []
          },
          "execution_count": 118
        }
      ]
    },
    {
      "cell_type": "code",
      "metadata": {
        "colab_type": "code",
        "id": "e9Ay2vu88RcD",
        "outputId": "04f6cd16-2a83-4fd0-dbec-40a507d3fca5",
        "colab": {
          "base_uri": "https://localhost:8080/",
          "height": 255
        }
      },
      "source": [
        "#Agrupamos sumando los datos de variables categoricas\n",
        "#Se omite la columna android y recencia, solo se usa la columna android\n",
        "sdf_digit_cat = digital_bd.groupby('prediction_id')['iphone'].count().reset_index()\n",
        "sdf_digit_cat.iphone.value_counts()"
      ],
      "execution_count": 0,
      "outputs": [
        {
          "output_type": "execute_result",
          "data": {
            "text/plain": [
              "0     29823\n",
              "1      1522\n",
              "2       428\n",
              "3       162\n",
              "4        47\n",
              "5        32\n",
              "6        12\n",
              "7         8\n",
              "8         6\n",
              "12        1\n",
              "11        1\n",
              "10        1\n",
              "9         1\n",
              "Name: iphone, dtype: int64"
            ]
          },
          "metadata": {
            "tags": []
          },
          "execution_count": 119
        }
      ]
    },
    {
      "cell_type": "code",
      "metadata": {
        "colab_type": "code",
        "id": "gRun5cXyCMWN",
        "colab": {}
      },
      "source": [
        "#Haciendo merge a sdfs\n",
        "sdfs = [sdf_digit_num, sdf_digit_bin, sdf_digit_cat] \n",
        "digital_bdc = reduce(lambda right, left: pd.merge(right, left, on='prediction_id', how='outer'), sdfs)"
      ],
      "execution_count": 0,
      "outputs": []
    },
    {
      "cell_type": "code",
      "metadata": {
        "id": "z0uyWucyNNeh",
        "colab_type": "code",
        "colab": {}
      },
      "source": [
        "#Creamos codmes e id_persona\n",
        "digital_bdc['id_persona'] = digital_bdc.prediction_id\n",
        "digital_bdc['codmes'] = digital_bdc.prediction_id\n",
        "\n",
        "def crear_codmes(x):\n",
        "    return int(x.split('_')[1])\n",
        "\n",
        "def crear_idpersona(x):\n",
        "  return int(x.split('_')[0])\n",
        "\n",
        "digital_bdc['codmes'] = digital_bdc.codmes.apply(crear_codmes)\n",
        "digital_bdc['id_persona'] = digital_bdc.id_persona.apply(crear_idpersona)\n",
        "digital_bdc.codmes = digital_bdc.codmes.astype(str)\n",
        "digital_bdc.id_persona = digital_bdc.id_persona.astype(str)"
      ],
      "execution_count": 0,
      "outputs": []
    },
    {
      "cell_type": "code",
      "metadata": {
        "colab_type": "code",
        "id": "QApXZL8PD1Rv",
        "outputId": "e6e8f23c-d2ec-4a68-d125-7a74c485c4d7",
        "colab": {
          "base_uri": "https://localhost:8080/",
          "height": 224
        }
      },
      "source": [
        "digital_bdc.head()"
      ],
      "execution_count": 0,
      "outputs": [
        {
          "output_type": "execute_result",
          "data": {
            "text/html": [
              "<div>\n",
              "<style scoped>\n",
              "    .dataframe tbody tr th:only-of-type {\n",
              "        vertical-align: middle;\n",
              "    }\n",
              "\n",
              "    .dataframe tbody tr th {\n",
              "        vertical-align: top;\n",
              "    }\n",
              "\n",
              "    .dataframe thead th {\n",
              "        text-align: right;\n",
              "    }\n",
              "</style>\n",
              "<table border=\"1\" class=\"dataframe\">\n",
              "  <thead>\n",
              "    <tr style=\"text-align: right;\">\n",
              "      <th></th>\n",
              "      <th>prediction_id</th>\n",
              "      <th>simu_prestamo</th>\n",
              "      <th>benefit</th>\n",
              "      <th>email</th>\n",
              "      <th>facebook</th>\n",
              "      <th>goog</th>\n",
              "      <th>youtb</th>\n",
              "      <th>compb</th>\n",
              "      <th>movil</th>\n",
              "      <th>desktop</th>\n",
              "      <th>n_sesion</th>\n",
              "      <th>n_pag</th>\n",
              "      <th>time_ctasimple</th>\n",
              "      <th>busqtc</th>\n",
              "      <th>busqvisa</th>\n",
              "      <th>busqcsimp</th>\n",
              "      <th>busqmill</th>\n",
              "      <th>busqcsld</th>\n",
              "      <th>busq</th>\n",
              "      <th>n_rep30</th>\n",
              "      <th>lima_dig</th>\n",
              "      <th>provincia_dig</th>\n",
              "      <th>extranjero_dig</th>\n",
              "      <th>iphone</th>\n",
              "      <th>id_persona</th>\n",
              "      <th>codmes</th>\n",
              "    </tr>\n",
              "  </thead>\n",
              "  <tbody>\n",
              "    <tr>\n",
              "      <th>0</th>\n",
              "      <td>100003_201903</td>\n",
              "      <td>0.0</td>\n",
              "      <td>0</td>\n",
              "      <td>0</td>\n",
              "      <td>2</td>\n",
              "      <td>0</td>\n",
              "      <td>0</td>\n",
              "      <td>0</td>\n",
              "      <td>2</td>\n",
              "      <td>0</td>\n",
              "      <td>2</td>\n",
              "      <td>4</td>\n",
              "      <td>0.0</td>\n",
              "      <td>0</td>\n",
              "      <td>0</td>\n",
              "      <td>0</td>\n",
              "      <td>0</td>\n",
              "      <td>0</td>\n",
              "      <td>0</td>\n",
              "      <td>1</td>\n",
              "      <td>1</td>\n",
              "      <td>1</td>\n",
              "      <td>0</td>\n",
              "      <td>0</td>\n",
              "      <td>100003</td>\n",
              "      <td>201903</td>\n",
              "    </tr>\n",
              "    <tr>\n",
              "      <th>1</th>\n",
              "      <td>100014_201901</td>\n",
              "      <td>0.0</td>\n",
              "      <td>0</td>\n",
              "      <td>0</td>\n",
              "      <td>0</td>\n",
              "      <td>10</td>\n",
              "      <td>0</td>\n",
              "      <td>0</td>\n",
              "      <td>0</td>\n",
              "      <td>24</td>\n",
              "      <td>24</td>\n",
              "      <td>61</td>\n",
              "      <td>0.0</td>\n",
              "      <td>0</td>\n",
              "      <td>0</td>\n",
              "      <td>0</td>\n",
              "      <td>0</td>\n",
              "      <td>0</td>\n",
              "      <td>0</td>\n",
              "      <td>1</td>\n",
              "      <td>8</td>\n",
              "      <td>0</td>\n",
              "      <td>0</td>\n",
              "      <td>0</td>\n",
              "      <td>100014</td>\n",
              "      <td>201901</td>\n",
              "    </tr>\n",
              "    <tr>\n",
              "      <th>2</th>\n",
              "      <td>100031_201812</td>\n",
              "      <td>0.0</td>\n",
              "      <td>0</td>\n",
              "      <td>0</td>\n",
              "      <td>0</td>\n",
              "      <td>1</td>\n",
              "      <td>0</td>\n",
              "      <td>0</td>\n",
              "      <td>0</td>\n",
              "      <td>1</td>\n",
              "      <td>1</td>\n",
              "      <td>1</td>\n",
              "      <td>0.0</td>\n",
              "      <td>0</td>\n",
              "      <td>0</td>\n",
              "      <td>0</td>\n",
              "      <td>0</td>\n",
              "      <td>0</td>\n",
              "      <td>0</td>\n",
              "      <td>0</td>\n",
              "      <td>0</td>\n",
              "      <td>1</td>\n",
              "      <td>0</td>\n",
              "      <td>0</td>\n",
              "      <td>100031</td>\n",
              "      <td>201812</td>\n",
              "    </tr>\n",
              "    <tr>\n",
              "      <th>3</th>\n",
              "      <td>100050_201811</td>\n",
              "      <td>0.0</td>\n",
              "      <td>0</td>\n",
              "      <td>0</td>\n",
              "      <td>1</td>\n",
              "      <td>0</td>\n",
              "      <td>0</td>\n",
              "      <td>0</td>\n",
              "      <td>0</td>\n",
              "      <td>1</td>\n",
              "      <td>1</td>\n",
              "      <td>1</td>\n",
              "      <td>0.0</td>\n",
              "      <td>0</td>\n",
              "      <td>0</td>\n",
              "      <td>0</td>\n",
              "      <td>0</td>\n",
              "      <td>0</td>\n",
              "      <td>0</td>\n",
              "      <td>1</td>\n",
              "      <td>1</td>\n",
              "      <td>0</td>\n",
              "      <td>0</td>\n",
              "      <td>0</td>\n",
              "      <td>100050</td>\n",
              "      <td>201811</td>\n",
              "    </tr>\n",
              "    <tr>\n",
              "      <th>4</th>\n",
              "      <td>100050_201901</td>\n",
              "      <td>0.0</td>\n",
              "      <td>0</td>\n",
              "      <td>1</td>\n",
              "      <td>0</td>\n",
              "      <td>0</td>\n",
              "      <td>0</td>\n",
              "      <td>0</td>\n",
              "      <td>0</td>\n",
              "      <td>1</td>\n",
              "      <td>1</td>\n",
              "      <td>8</td>\n",
              "      <td>0.0</td>\n",
              "      <td>0</td>\n",
              "      <td>0</td>\n",
              "      <td>0</td>\n",
              "      <td>0</td>\n",
              "      <td>0</td>\n",
              "      <td>0</td>\n",
              "      <td>0</td>\n",
              "      <td>1</td>\n",
              "      <td>0</td>\n",
              "      <td>0</td>\n",
              "      <td>0</td>\n",
              "      <td>100050</td>\n",
              "      <td>201901</td>\n",
              "    </tr>\n",
              "  </tbody>\n",
              "</table>\n",
              "</div>"
            ],
            "text/plain": [
              "   prediction_id  simu_prestamo  benefit  ...  iphone  id_persona  codmes\n",
              "0  100003_201903            0.0        0  ...       0      100003  201903\n",
              "1  100014_201901            0.0        0  ...       0      100014  201901\n",
              "2  100031_201812            0.0        0  ...       0      100031  201812\n",
              "3  100050_201811            0.0        0  ...       0      100050  201811\n",
              "4  100050_201901            0.0        0  ...       0      100050  201901\n",
              "\n",
              "[5 rows x 26 columns]"
            ]
          },
          "metadata": {
            "tags": []
          },
          "execution_count": 77
        }
      ]
    },
    {
      "cell_type": "code",
      "metadata": {
        "id": "ugr1Kmp9hS2G",
        "colab_type": "code",
        "colab": {}
      },
      "source": [
        "#Exportamos digital_bdc\n",
        "digital_bdc.to_csv('digital_bdc.csv', index=False)"
      ],
      "execution_count": 0,
      "outputs": []
    },
    {
      "cell_type": "markdown",
      "metadata": {
        "colab_type": "text",
        "id": "t67KVbPQPyRs"
      },
      "source": [
        "### train_bd"
      ]
    },
    {
      "cell_type": "code",
      "metadata": {
        "colab_type": "code",
        "id": "6i2S4TKNP2Lu",
        "colab": {}
      },
      "source": [
        "'''\n",
        "#Cambiamos formato de codmes \n",
        "train_bd['codmes'] = pd.to_datetime(train_bd.codmes, format='%Y%m')\n",
        "train_bd.codmes.head()\n",
        "'''"
      ],
      "execution_count": 0,
      "outputs": []
    },
    {
      "cell_type": "markdown",
      "metadata": {
        "colab_type": "text",
        "id": "6uWIxgR9qday"
      },
      "source": [
        "###test_db (falta)"
      ]
    },
    {
      "cell_type": "code",
      "metadata": {
        "colab_type": "code",
        "id": "i1yY1MJdgHzu",
        "colab": {}
      },
      "source": [
        "'''\n",
        "#Damos formato a columna fecha\n",
        "test_bd['codmes'] = pd.to_datetime(test_bd.codmes, format='%Y%m')\n",
        "test_bd.codmes.head()\n",
        "'''"
      ],
      "execution_count": 0,
      "outputs": []
    },
    {
      "cell_type": "markdown",
      "metadata": {
        "colab_type": "text",
        "id": "Xil6vFNoe0Ip"
      },
      "source": [
        "###rcc_bd (tiene codmes e id_persona)"
      ]
    },
    {
      "cell_type": "code",
      "metadata": {
        "colab_type": "code",
        "id": "e5GH66SFtW3-",
        "colab": {}
      },
      "source": [
        "#Drop a la columna clasif\n",
        "rcc_bd = rcc_bd.drop('clasif', axis=1)"
      ],
      "execution_count": 0,
      "outputs": []
    },
    {
      "cell_type": "code",
      "metadata": {
        "colab_type": "code",
        "id": "AoPKiDfFCIwy",
        "outputId": "81e01c31-b4ed-4d72-b1d4-6afda33887cd",
        "colab": {
          "base_uri": "https://localhost:8080/",
          "height": 111
        }
      },
      "source": [
        "#Creando columna prediction_id\n",
        "rcc_bd['prediction_id'] = rcc_bd.id_persona.apply(str) + '_' + rcc_bd.codmes.apply(str)\n",
        "rcc_bd.head(2)"
      ],
      "execution_count": 0,
      "outputs": [
        {
          "output_type": "execute_result",
          "data": {
            "text/html": [
              "<div>\n",
              "<style scoped>\n",
              "    .dataframe tbody tr th:only-of-type {\n",
              "        vertical-align: middle;\n",
              "    }\n",
              "\n",
              "    .dataframe tbody tr th {\n",
              "        vertical-align: top;\n",
              "    }\n",
              "\n",
              "    .dataframe thead th {\n",
              "        text-align: right;\n",
              "    }\n",
              "</style>\n",
              "<table border=\"1\" class=\"dataframe\">\n",
              "  <thead>\n",
              "    <tr style=\"text-align: right;\">\n",
              "      <th></th>\n",
              "      <th>codmes</th>\n",
              "      <th>id_persona</th>\n",
              "      <th>cod_banco</th>\n",
              "      <th>producto</th>\n",
              "      <th>mto_saldo</th>\n",
              "      <th>rango_mora</th>\n",
              "      <th>prediction_id</th>\n",
              "    </tr>\n",
              "  </thead>\n",
              "  <tbody>\n",
              "    <tr>\n",
              "      <th>0</th>\n",
              "      <td>201811</td>\n",
              "      <td>10155</td>\n",
              "      <td>29</td>\n",
              "      <td>PRESTAMOS COMERCIALES</td>\n",
              "      <td>36698.4870</td>\n",
              "      <td>1.0</td>\n",
              "      <td>10155_201811</td>\n",
              "    </tr>\n",
              "    <tr>\n",
              "      <th>1</th>\n",
              "      <td>201804</td>\n",
              "      <td>75442</td>\n",
              "      <td>29</td>\n",
              "      <td>PRESTAMO PERSONAL</td>\n",
              "      <td>7971.1182</td>\n",
              "      <td>1.0</td>\n",
              "      <td>75442_201804</td>\n",
              "    </tr>\n",
              "  </tbody>\n",
              "</table>\n",
              "</div>"
            ],
            "text/plain": [
              "   codmes  id_persona  cod_banco  ...   mto_saldo  rango_mora  prediction_id\n",
              "0  201811       10155         29  ...  36698.4870         1.0   10155_201811\n",
              "1  201804       75442         29  ...   7971.1182         1.0   75442_201804\n",
              "\n",
              "[2 rows x 7 columns]"
            ]
          },
          "metadata": {
            "tags": []
          },
          "execution_count": 128
        }
      ]
    },
    {
      "cell_type": "code",
      "metadata": {
        "colab_type": "code",
        "id": "YvBQXM33NFIt",
        "colab": {}
      },
      "source": [
        "'''\n",
        "#Cambiamos formato de codmes \n",
        "rcc_bd['codmes'] = pd.to_datetime(rcc_bd.codmes, format='%Y%m')\n",
        "rcc_bd.codmes.head()\n",
        "'''"
      ],
      "execution_count": 0,
      "outputs": []
    },
    {
      "cell_type": "markdown",
      "metadata": {
        "colab_type": "text",
        "id": "NQlQdaX_pLW3"
      },
      "source": [
        "####Tratando los missing values"
      ]
    },
    {
      "cell_type": "code",
      "metadata": {
        "colab_type": "code",
        "id": "sVrUrQYapRFu",
        "outputId": "ad553aa6-c31e-4fa0-e404-91a7900f5578",
        "colab": {
          "base_uri": "https://localhost:8080/",
          "height": 153
        }
      },
      "source": [
        "'''\n",
        "#Detectamos si hay missing values\n",
        "rcc_bd.isnull().sum()\n",
        "'''"
      ],
      "execution_count": 0,
      "outputs": [
        {
          "output_type": "execute_result",
          "data": {
            "text/plain": [
              "codmes                 0\n",
              "id_persona             0\n",
              "cod_banco              0\n",
              "producto               0\n",
              "mto_saldo              0\n",
              "rango_mora       4850443\n",
              "prediction_id          0\n",
              "dtype: int64"
            ]
          },
          "metadata": {
            "tags": []
          },
          "execution_count": 18
        }
      ]
    },
    {
      "cell_type": "code",
      "metadata": {
        "colab_type": "code",
        "id": "qzEGvGpbrD33",
        "colab": {}
      },
      "source": [
        "'''\n",
        "rcc_bd[rcc_bd.producto == 'LINEA TOTAL TC'].isnull().sum()\n",
        "'''"
      ],
      "execution_count": 0,
      "outputs": []
    },
    {
      "cell_type": "code",
      "metadata": {
        "colab_type": "code",
        "id": "7dLJTIjBojwA",
        "outputId": "11ac77e4-33b3-49b9-b88d-d6b95ecbe73a",
        "colab": {
          "base_uri": "https://localhost:8080/",
          "height": 111
        }
      },
      "source": [
        "#llenando los missing values en rango_mora\n",
        "rcc_bd.rango_mora.fillna(0, inplace=True)\n",
        "rcc_bd['rango_mora'] = rcc_bd.rango_mora.astype(int)\n",
        "rcc_bd.head(2)"
      ],
      "execution_count": 0,
      "outputs": [
        {
          "output_type": "execute_result",
          "data": {
            "text/html": [
              "<div>\n",
              "<style scoped>\n",
              "    .dataframe tbody tr th:only-of-type {\n",
              "        vertical-align: middle;\n",
              "    }\n",
              "\n",
              "    .dataframe tbody tr th {\n",
              "        vertical-align: top;\n",
              "    }\n",
              "\n",
              "    .dataframe thead th {\n",
              "        text-align: right;\n",
              "    }\n",
              "</style>\n",
              "<table border=\"1\" class=\"dataframe\">\n",
              "  <thead>\n",
              "    <tr style=\"text-align: right;\">\n",
              "      <th></th>\n",
              "      <th>codmes</th>\n",
              "      <th>id_persona</th>\n",
              "      <th>cod_banco</th>\n",
              "      <th>producto</th>\n",
              "      <th>mto_saldo</th>\n",
              "      <th>rango_mora</th>\n",
              "      <th>prediction_id</th>\n",
              "    </tr>\n",
              "  </thead>\n",
              "  <tbody>\n",
              "    <tr>\n",
              "      <th>0</th>\n",
              "      <td>201811</td>\n",
              "      <td>10155</td>\n",
              "      <td>29</td>\n",
              "      <td>PRESTAMOS COMERCIALES</td>\n",
              "      <td>36698.4870</td>\n",
              "      <td>1</td>\n",
              "      <td>10155_201811</td>\n",
              "    </tr>\n",
              "    <tr>\n",
              "      <th>1</th>\n",
              "      <td>201804</td>\n",
              "      <td>75442</td>\n",
              "      <td>29</td>\n",
              "      <td>PRESTAMO PERSONAL</td>\n",
              "      <td>7971.1182</td>\n",
              "      <td>1</td>\n",
              "      <td>75442_201804</td>\n",
              "    </tr>\n",
              "  </tbody>\n",
              "</table>\n",
              "</div>"
            ],
            "text/plain": [
              "   codmes  id_persona  cod_banco  ...   mto_saldo  rango_mora  prediction_id\n",
              "0  201811       10155         29  ...  36698.4870           1   10155_201811\n",
              "1  201804       75442         29  ...   7971.1182           1   75442_201804\n",
              "\n",
              "[2 rows x 7 columns]"
            ]
          },
          "metadata": {
            "tags": []
          },
          "execution_count": 129
        }
      ]
    },
    {
      "cell_type": "markdown",
      "metadata": {
        "colab_type": "text",
        "id": "nFbRdu4vrOCw"
      },
      "source": [
        "Podemos ver que hay valores nulos solo en las columnas clasif y rango_mora, coincidentemente en las columnas en que figura LINEA TOTAL TC de la columna producto. Tiene sentido ya que no existe mora en un línea de crédito. Se debe separar la columna LINEA TOTAL TC del dataframe"
      ]
    },
    {
      "cell_type": "markdown",
      "metadata": {
        "colab_type": "text",
        "id": "0imlsnWBwNy9"
      },
      "source": [
        "#### Creando nuevos dataframes"
      ]
    },
    {
      "cell_type": "markdown",
      "metadata": {
        "colab_type": "text",
        "id": "6_DcGWUtREVf"
      },
      "source": [
        "##### Productos, mto saldo y rango_mora"
      ]
    },
    {
      "cell_type": "code",
      "metadata": {
        "colab_type": "code",
        "id": "TeUgKAQowSqu",
        "outputId": "24d351af-1a97-425e-dab7-894434795607",
        "colab": {
          "base_uri": "https://localhost:8080/",
          "height": 80
        }
      },
      "source": [
        "#Creando df sdf_rcc_lineaTC_bd\n",
        "sdf_rcc_lineaTC = rcc_bd[rcc_bd.producto == 'LINEA TOTAL TC']\n",
        "sdf_rcc_lineaTC = sdf_rcc_lineaTC.groupby('prediction_id')['mto_saldo'].sum().reset_index()\n",
        "sdf_rcc_lineaTC.rename(columns={'mto_saldo':'LINEA_TOTAL_TC'}, inplace=True)\n",
        "sdf_rcc_lineaTC.head(1)"
      ],
      "execution_count": 0,
      "outputs": [
        {
          "output_type": "execute_result",
          "data": {
            "text/html": [
              "<div>\n",
              "<style scoped>\n",
              "    .dataframe tbody tr th:only-of-type {\n",
              "        vertical-align: middle;\n",
              "    }\n",
              "\n",
              "    .dataframe tbody tr th {\n",
              "        vertical-align: top;\n",
              "    }\n",
              "\n",
              "    .dataframe thead th {\n",
              "        text-align: right;\n",
              "    }\n",
              "</style>\n",
              "<table border=\"1\" class=\"dataframe\">\n",
              "  <thead>\n",
              "    <tr style=\"text-align: right;\">\n",
              "      <th></th>\n",
              "      <th>prediction_id</th>\n",
              "      <th>LINEA_TOTAL_TC</th>\n",
              "    </tr>\n",
              "  </thead>\n",
              "  <tbody>\n",
              "    <tr>\n",
              "      <th>0</th>\n",
              "      <td>100000_201712</td>\n",
              "      <td>4343.5</td>\n",
              "    </tr>\n",
              "  </tbody>\n",
              "</table>\n",
              "</div>"
            ],
            "text/plain": [
              "   prediction_id  LINEA_TOTAL_TC\n",
              "0  100000_201712          4343.5"
            ]
          },
          "metadata": {
            "tags": []
          },
          "execution_count": 130
        }
      ]
    },
    {
      "cell_type": "code",
      "metadata": {
        "colab_type": "code",
        "id": "ZbJLb-hJT9aD",
        "outputId": "a3c0e32b-7b47-408d-b09d-22dc74197951",
        "colab": {
          "base_uri": "https://localhost:8080/",
          "height": 80
        }
      },
      "source": [
        "#Creando df sdf_rcc_tarj_compras\n",
        "metodos = {'mto_saldo':'sum','rango_mora':'mean'}\n",
        "sdf_rcc_tarj_compras = rcc_bd[rcc_bd.producto == 'TARJETAS COMPRAS']\n",
        "sdf_rcc_tarj_compras = sdf_rcc_tarj_compras.groupby('prediction_id').agg(metodos).reset_index()\n",
        "sdf_rcc_tarj_compras.rename(columns={'mto_saldo':'TARJETAS_COMPRAS','rango_mora':'MORA_TARJETAS_COMPRAS'}, inplace=True)\n",
        "sdf_rcc_tarj_compras['MORA_TARJETAS_COMPRAS'] = sdf_rcc_tarj_compras.MORA_TARJETAS_COMPRAS.astype(int)\n",
        "sdf_rcc_tarj_compras.head(1)"
      ],
      "execution_count": 0,
      "outputs": [
        {
          "output_type": "execute_result",
          "data": {
            "text/html": [
              "<div>\n",
              "<style scoped>\n",
              "    .dataframe tbody tr th:only-of-type {\n",
              "        vertical-align: middle;\n",
              "    }\n",
              "\n",
              "    .dataframe tbody tr th {\n",
              "        vertical-align: top;\n",
              "    }\n",
              "\n",
              "    .dataframe thead th {\n",
              "        text-align: right;\n",
              "    }\n",
              "</style>\n",
              "<table border=\"1\" class=\"dataframe\">\n",
              "  <thead>\n",
              "    <tr style=\"text-align: right;\">\n",
              "      <th></th>\n",
              "      <th>prediction_id</th>\n",
              "      <th>TARJETAS_COMPRAS</th>\n",
              "      <th>MORA_TARJETAS_COMPRAS</th>\n",
              "    </tr>\n",
              "  </thead>\n",
              "  <tbody>\n",
              "    <tr>\n",
              "      <th>0</th>\n",
              "      <td>100000_201712</td>\n",
              "      <td>932.794</td>\n",
              "      <td>1</td>\n",
              "    </tr>\n",
              "  </tbody>\n",
              "</table>\n",
              "</div>"
            ],
            "text/plain": [
              "   prediction_id  TARJETAS_COMPRAS  MORA_TARJETAS_COMPRAS\n",
              "0  100000_201712           932.794                      1"
            ]
          },
          "metadata": {
            "tags": []
          },
          "execution_count": 131
        }
      ]
    },
    {
      "cell_type": "code",
      "metadata": {
        "colab_type": "code",
        "id": "3XUS58EsdWi-",
        "outputId": "13c6afb0-8754-40a8-8443-2e2d786bf930",
        "colab": {
          "base_uri": "https://localhost:8080/",
          "height": 80
        }
      },
      "source": [
        "#Creando df sdf_rcc_prest_pers\n",
        "metodos = {'mto_saldo':'sum','rango_mora':'mean'}\n",
        "sdf_rcc_prest_pers = rcc_bd[rcc_bd.producto == 'PRESTAMO PERSONAL']\n",
        "sdf_rcc_prest_pers = sdf_rcc_prest_pers.groupby('prediction_id').agg(metodos).reset_index()\n",
        "sdf_rcc_prest_pers.rename(columns={'mto_saldo':'PRESTAMO_PERSONAL', 'rango_mora':'MORA_PRESTAMO_PERSONAL'}, inplace=True)\n",
        "sdf_rcc_prest_pers['MORA_PRESTAMO_PERSONAL'] = sdf_rcc_prest_pers.MORA_PRESTAMO_PERSONAL.astype(int)\n",
        "sdf_rcc_prest_pers.head(1)"
      ],
      "execution_count": 0,
      "outputs": [
        {
          "output_type": "execute_result",
          "data": {
            "text/html": [
              "<div>\n",
              "<style scoped>\n",
              "    .dataframe tbody tr th:only-of-type {\n",
              "        vertical-align: middle;\n",
              "    }\n",
              "\n",
              "    .dataframe tbody tr th {\n",
              "        vertical-align: top;\n",
              "    }\n",
              "\n",
              "    .dataframe thead th {\n",
              "        text-align: right;\n",
              "    }\n",
              "</style>\n",
              "<table border=\"1\" class=\"dataframe\">\n",
              "  <thead>\n",
              "    <tr style=\"text-align: right;\">\n",
              "      <th></th>\n",
              "      <th>prediction_id</th>\n",
              "      <th>PRESTAMO_PERSONAL</th>\n",
              "      <th>MORA_PRESTAMO_PERSONAL</th>\n",
              "    </tr>\n",
              "  </thead>\n",
              "  <tbody>\n",
              "    <tr>\n",
              "      <th>0</th>\n",
              "      <td>100000_201712</td>\n",
              "      <td>1120.5719</td>\n",
              "      <td>1</td>\n",
              "    </tr>\n",
              "  </tbody>\n",
              "</table>\n",
              "</div>"
            ],
            "text/plain": [
              "   prediction_id  PRESTAMO_PERSONAL  MORA_PRESTAMO_PERSONAL\n",
              "0  100000_201712          1120.5719                       1"
            ]
          },
          "metadata": {
            "tags": []
          },
          "execution_count": 132
        }
      ]
    },
    {
      "cell_type": "code",
      "metadata": {
        "colab_type": "code",
        "id": "5ICu3EKgeAP6",
        "outputId": "24a15c92-b1f2-418d-f434-ee9812934822",
        "colab": {
          "base_uri": "https://localhost:8080/",
          "height": 80
        }
      },
      "source": [
        "#Creando df sdf_rcc_tarj_efect\n",
        "metodos = {'mto_saldo':'sum','rango_mora':'mean'}\n",
        "sdf_rcc_tarj_efect = rcc_bd[rcc_bd.producto == 'TARJETAS EFECTIVO']\n",
        "sdf_rcc_tarj_efect = sdf_rcc_tarj_efect.groupby('prediction_id').agg(metodos).reset_index()\n",
        "sdf_rcc_tarj_efect.rename(columns={'mto_saldo':'TARJETAS_EFECTIVO', 'rango_mora':'MORA_TARJETAS_EFECTIVO'}, inplace=True)\n",
        "sdf_rcc_tarj_efect['MORA_TARJETAS_EFECTIVO'] = sdf_rcc_tarj_efect.MORA_TARJETAS_EFECTIVO.astype(int)\n",
        "sdf_rcc_tarj_efect.head(1)"
      ],
      "execution_count": 0,
      "outputs": [
        {
          "output_type": "execute_result",
          "data": {
            "text/html": [
              "<div>\n",
              "<style scoped>\n",
              "    .dataframe tbody tr th:only-of-type {\n",
              "        vertical-align: middle;\n",
              "    }\n",
              "\n",
              "    .dataframe tbody tr th {\n",
              "        vertical-align: top;\n",
              "    }\n",
              "\n",
              "    .dataframe thead th {\n",
              "        text-align: right;\n",
              "    }\n",
              "</style>\n",
              "<table border=\"1\" class=\"dataframe\">\n",
              "  <thead>\n",
              "    <tr style=\"text-align: right;\">\n",
              "      <th></th>\n",
              "      <th>prediction_id</th>\n",
              "      <th>TARJETAS_EFECTIVO</th>\n",
              "      <th>MORA_TARJETAS_EFECTIVO</th>\n",
              "    </tr>\n",
              "  </thead>\n",
              "  <tbody>\n",
              "    <tr>\n",
              "      <th>0</th>\n",
              "      <td>100000_201712</td>\n",
              "      <td>421.6407</td>\n",
              "      <td>1</td>\n",
              "    </tr>\n",
              "  </tbody>\n",
              "</table>\n",
              "</div>"
            ],
            "text/plain": [
              "   prediction_id  TARJETAS_EFECTIVO  MORA_TARJETAS_EFECTIVO\n",
              "0  100000_201712           421.6407                       1"
            ]
          },
          "metadata": {
            "tags": []
          },
          "execution_count": 133
        }
      ]
    },
    {
      "cell_type": "code",
      "metadata": {
        "colab_type": "code",
        "id": "XM53fGF0eW61",
        "outputId": "61d1208f-16df-410a-bf6a-3ded0d9645d7",
        "colab": {
          "base_uri": "https://localhost:8080/",
          "height": 80
        }
      },
      "source": [
        "#Creando df sdf_rcc_prest_comer\n",
        "metodos = {'mto_saldo':'sum','rango_mora':'mean'}\n",
        "sdf_rcc_prest_comer = rcc_bd[rcc_bd.producto == 'PRESTAMOS COMERCIALES']\n",
        "sdf_rcc_prest_comer = sdf_rcc_prest_comer.groupby('prediction_id').agg(metodos).reset_index()\n",
        "sdf_rcc_prest_comer.rename(columns={'mto_saldo':'PRESTAMOS_COMERCIALES', 'rango_mora':'MORA_PRESTAMOS_COMERCIALES'}, inplace=True)\n",
        "sdf_rcc_prest_comer['MORA_PRESTAMOS_COMERCIALES'] = sdf_rcc_prest_comer.MORA_PRESTAMOS_COMERCIALES.astype(int)\n",
        "sdf_rcc_prest_comer.head(1)"
      ],
      "execution_count": 0,
      "outputs": [
        {
          "output_type": "execute_result",
          "data": {
            "text/html": [
              "<div>\n",
              "<style scoped>\n",
              "    .dataframe tbody tr th:only-of-type {\n",
              "        vertical-align: middle;\n",
              "    }\n",
              "\n",
              "    .dataframe tbody tr th {\n",
              "        vertical-align: top;\n",
              "    }\n",
              "\n",
              "    .dataframe thead th {\n",
              "        text-align: right;\n",
              "    }\n",
              "</style>\n",
              "<table border=\"1\" class=\"dataframe\">\n",
              "  <thead>\n",
              "    <tr style=\"text-align: right;\">\n",
              "      <th></th>\n",
              "      <th>prediction_id</th>\n",
              "      <th>PRESTAMOS_COMERCIALES</th>\n",
              "      <th>MORA_PRESTAMOS_COMERCIALES</th>\n",
              "    </tr>\n",
              "  </thead>\n",
              "  <tbody>\n",
              "    <tr>\n",
              "      <th>0</th>\n",
              "      <td>100002_201803</td>\n",
              "      <td>3075.8988</td>\n",
              "      <td>1</td>\n",
              "    </tr>\n",
              "  </tbody>\n",
              "</table>\n",
              "</div>"
            ],
            "text/plain": [
              "   prediction_id  PRESTAMOS_COMERCIALES  MORA_PRESTAMOS_COMERCIALES\n",
              "0  100002_201803              3075.8988                           1"
            ]
          },
          "metadata": {
            "tags": []
          },
          "execution_count": 134
        }
      ]
    },
    {
      "cell_type": "code",
      "metadata": {
        "colab_type": "code",
        "id": "XrTIihvFgUdi",
        "outputId": "e80a6704-ea94-463b-8564-e638a1b617c1",
        "colab": {
          "base_uri": "https://localhost:8080/",
          "height": 80
        }
      },
      "source": [
        "#Creando df sdf_rcc_tarj_otros_prod\n",
        "metodos = {'mto_saldo':'sum','rango_mora':'mean'}\n",
        "sdf_rcc_tarj_otros_prod = rcc_bd[rcc_bd.producto == 'TARJETAS OTROS CONCEPTOS']\n",
        "sdf_rcc_tarj_otros_prod = sdf_rcc_tarj_otros_prod.groupby('prediction_id').agg(metodos).reset_index()\n",
        "sdf_rcc_tarj_otros_prod.rename(columns={'mto_saldo':'TARJ_OTROS_CONCEPTOS', 'rango_mora':'MORA_TARJ_OTROS_CONCEPTOS'}, inplace=True)\n",
        "sdf_rcc_tarj_otros_prod['MORA_TARJ_OTROS_CONCEPTOS'] = sdf_rcc_tarj_otros_prod.MORA_TARJ_OTROS_CONCEPTOS.astype(int)\n",
        "sdf_rcc_tarj_otros_prod.head(1)                 "
      ],
      "execution_count": 0,
      "outputs": [
        {
          "output_type": "execute_result",
          "data": {
            "text/html": [
              "<div>\n",
              "<style scoped>\n",
              "    .dataframe tbody tr th:only-of-type {\n",
              "        vertical-align: middle;\n",
              "    }\n",
              "\n",
              "    .dataframe tbody tr th {\n",
              "        vertical-align: top;\n",
              "    }\n",
              "\n",
              "    .dataframe thead th {\n",
              "        text-align: right;\n",
              "    }\n",
              "</style>\n",
              "<table border=\"1\" class=\"dataframe\">\n",
              "  <thead>\n",
              "    <tr style=\"text-align: right;\">\n",
              "      <th></th>\n",
              "      <th>prediction_id</th>\n",
              "      <th>TARJ_OTROS_CONCEPTOS</th>\n",
              "      <th>MORA_TARJ_OTROS_CONCEPTOS</th>\n",
              "    </tr>\n",
              "  </thead>\n",
              "  <tbody>\n",
              "    <tr>\n",
              "      <th>0</th>\n",
              "      <td>100005_201805</td>\n",
              "      <td>0.0365</td>\n",
              "      <td>1</td>\n",
              "    </tr>\n",
              "  </tbody>\n",
              "</table>\n",
              "</div>"
            ],
            "text/plain": [
              "   prediction_id  TARJ_OTROS_CONCEPTOS  MORA_TARJ_OTROS_CONCEPTOS\n",
              "0  100005_201805                0.0365                          1"
            ]
          },
          "metadata": {
            "tags": []
          },
          "execution_count": 135
        }
      ]
    },
    {
      "cell_type": "code",
      "metadata": {
        "colab_type": "code",
        "id": "E8td9tPcO_bF",
        "outputId": "ed656e79-b343-4a6a-a032-4bcb8aa00ca8",
        "colab": {
          "base_uri": "https://localhost:8080/",
          "height": 80
        }
      },
      "source": [
        "#Creando df sdf_rcc_produc_irrelev\n",
        "prod_imp = ['LINEA TOTAL TC', 'TARJETAS COMPRAS', 'PRESTAMO PERSONAL', \n",
        "            'TARJETAS EFECTIVO', 'PRESTAMOS COMERCIALES', 'TARJETAS OTROS CONCEPTOS']\n",
        "sdf_rcc_produc_irrelev = rcc_bd[~ rcc_bd.producto.isin(prod_imp)]\n",
        "metodos = {'mto_saldo':'sum','rango_mora':'mean'}\n",
        "sdf_rcc_produc_irrelev = sdf_rcc_produc_irrelev.groupby('prediction_id').agg(metodos).reset_index()\n",
        "sdf_rcc_produc_irrelev.rename(columns={'mto_saldo':'PRODUCTOS_BAJO_IMPACTO', 'rango_mora':'MORA_PROD_BAJA_IMP'}, inplace=True)\n",
        "sdf_rcc_produc_irrelev['MORA_PROD_BAJA_IMP'] = sdf_rcc_produc_irrelev.MORA_PROD_BAJA_IMP.astype(int) \n",
        "sdf_rcc_produc_irrelev.head(1)      "
      ],
      "execution_count": 0,
      "outputs": [
        {
          "output_type": "execute_result",
          "data": {
            "text/html": [
              "<div>\n",
              "<style scoped>\n",
              "    .dataframe tbody tr th:only-of-type {\n",
              "        vertical-align: middle;\n",
              "    }\n",
              "\n",
              "    .dataframe tbody tr th {\n",
              "        vertical-align: top;\n",
              "    }\n",
              "\n",
              "    .dataframe thead th {\n",
              "        text-align: right;\n",
              "    }\n",
              "</style>\n",
              "<table border=\"1\" class=\"dataframe\">\n",
              "  <thead>\n",
              "    <tr style=\"text-align: right;\">\n",
              "      <th></th>\n",
              "      <th>prediction_id</th>\n",
              "      <th>PRODUCTOS_BAJO_IMPACTO</th>\n",
              "      <th>MORA_PROD_BAJA_IMP</th>\n",
              "    </tr>\n",
              "  </thead>\n",
              "  <tbody>\n",
              "    <tr>\n",
              "      <th>0</th>\n",
              "      <td>100023_201712</td>\n",
              "      <td>185026.7928</td>\n",
              "      <td>1</td>\n",
              "    </tr>\n",
              "  </tbody>\n",
              "</table>\n",
              "</div>"
            ],
            "text/plain": [
              "   prediction_id  PRODUCTOS_BAJO_IMPACTO  MORA_PROD_BAJA_IMP\n",
              "0  100023_201712             185026.7928                   1"
            ]
          },
          "metadata": {
            "tags": []
          },
          "execution_count": 136
        }
      ]
    },
    {
      "cell_type": "markdown",
      "metadata": {
        "colab_type": "text",
        "id": "EyeFGR5iRlBj"
      },
      "source": [
        "##### cod_banco"
      ]
    },
    {
      "cell_type": "code",
      "metadata": {
        "colab_type": "code",
        "id": "j7rjnYDZRmdy",
        "outputId": "20dc2ab9-bde6-4b5b-bde2-509b4bb6d4e8",
        "colab": {
          "base_uri": "https://localhost:8080/",
          "height": 111
        }
      },
      "source": [
        "sdf_rcc_codb = rcc_bd.groupby('prediction_id')['cod_banco'].count().reset_index()\n",
        "sdf_rcc_codb.head(2)"
      ],
      "execution_count": 0,
      "outputs": [
        {
          "output_type": "execute_result",
          "data": {
            "text/html": [
              "<div>\n",
              "<style scoped>\n",
              "    .dataframe tbody tr th:only-of-type {\n",
              "        vertical-align: middle;\n",
              "    }\n",
              "\n",
              "    .dataframe tbody tr th {\n",
              "        vertical-align: top;\n",
              "    }\n",
              "\n",
              "    .dataframe thead th {\n",
              "        text-align: right;\n",
              "    }\n",
              "</style>\n",
              "<table border=\"1\" class=\"dataframe\">\n",
              "  <thead>\n",
              "    <tr style=\"text-align: right;\">\n",
              "      <th></th>\n",
              "      <th>prediction_id</th>\n",
              "      <th>cod_banco</th>\n",
              "    </tr>\n",
              "  </thead>\n",
              "  <tbody>\n",
              "    <tr>\n",
              "      <th>0</th>\n",
              "      <td>100000_201712</td>\n",
              "      <td>5</td>\n",
              "    </tr>\n",
              "    <tr>\n",
              "      <th>1</th>\n",
              "      <td>100000_201801</td>\n",
              "      <td>5</td>\n",
              "    </tr>\n",
              "  </tbody>\n",
              "</table>\n",
              "</div>"
            ],
            "text/plain": [
              "   prediction_id  cod_banco\n",
              "0  100000_201712          5\n",
              "1  100000_201801          5"
            ]
          },
          "metadata": {
            "tags": []
          },
          "execution_count": 137
        }
      ]
    },
    {
      "cell_type": "markdown",
      "metadata": {
        "colab_type": "text",
        "id": "JltEE_ZP_bJK"
      },
      "source": [
        "##### merge a sdfs"
      ]
    },
    {
      "cell_type": "code",
      "metadata": {
        "colab_type": "code",
        "id": "4QiNj19GI5oz",
        "colab": {}
      },
      "source": [
        "sdfs = [sdf_rcc_lineaTC, sdf_rcc_prest_comer, sdf_rcc_prest_pers, sdf_rcc_produc_irrelev,\n",
        " sdf_rcc_tarj_compras, sdf_rcc_tarj_efect, sdf_rcc_tarj_otros_prod, sdf_rcc_codb]\n",
        "rcc_bd2 = reduce(lambda left,right: pd.merge(left,right,on='prediction_id', how='outer'), sdfs)\n",
        "''' inputamos missin values con el valor 0 ya que esas personas, en ese\n",
        " periodo no tuvieron deuda en esos productos\n",
        " '''\n",
        "\n",
        "rcc_bd2.fillna(0, inplace=True)\n",
        "rcc_bd2['id_persona'] = rcc_bd2.prediction_id\n",
        "rcc_bd2['codmes'] = rcc_bd2.prediction_id\n",
        "\n",
        "def crear_codmes(x):\n",
        "    return int(x.split('_')[1])\n",
        "\n",
        "def crear_idpersona(x):\n",
        "  return int(x.split('_')[0])\n",
        "\n",
        "\n",
        "rcc_bd2['codmes'] = rcc_bd2.codmes.apply(crear_codmes)\n",
        "rcc_bd2['id_persona'] = rcc_bd2.id_persona.apply(crear_idpersona)\n",
        "rcc_bd2.codmes = rcc_bd2.codmes.astype(str)\n",
        "rcc_bd2.id_persona = rcc_bd2.id_persona.astype(str)"
      ],
      "execution_count": 0,
      "outputs": []
    },
    {
      "cell_type": "code",
      "metadata": {
        "colab_type": "code",
        "id": "5yADoNNLM8Qj",
        "outputId": "3753bf56-a769-4f45-cf4f-b13e74c53f20",
        "colab": {
          "base_uri": "https://localhost:8080/",
          "height": 224
        }
      },
      "source": [
        "rcc_bd2.head()"
      ],
      "execution_count": 0,
      "outputs": [
        {
          "output_type": "execute_result",
          "data": {
            "text/html": [
              "<div>\n",
              "<style scoped>\n",
              "    .dataframe tbody tr th:only-of-type {\n",
              "        vertical-align: middle;\n",
              "    }\n",
              "\n",
              "    .dataframe tbody tr th {\n",
              "        vertical-align: top;\n",
              "    }\n",
              "\n",
              "    .dataframe thead th {\n",
              "        text-align: right;\n",
              "    }\n",
              "</style>\n",
              "<table border=\"1\" class=\"dataframe\">\n",
              "  <thead>\n",
              "    <tr style=\"text-align: right;\">\n",
              "      <th></th>\n",
              "      <th>prediction_id</th>\n",
              "      <th>LINEA_TOTAL_TC</th>\n",
              "      <th>PRESTAMOS_COMERCIALES</th>\n",
              "      <th>MORA_PRESTAMOS_COMERCIALES</th>\n",
              "      <th>PRESTAMO_PERSONAL</th>\n",
              "      <th>MORA_PRESTAMO_PERSONAL</th>\n",
              "      <th>PRODUCTOS_BAJO_IMPACTO</th>\n",
              "      <th>MORA_PROD_BAJA_IMP</th>\n",
              "      <th>TARJETAS_COMPRAS</th>\n",
              "      <th>MORA_TARJETAS_COMPRAS</th>\n",
              "      <th>TARJETAS_EFECTIVO</th>\n",
              "      <th>MORA_TARJETAS_EFECTIVO</th>\n",
              "      <th>TARJ_OTROS_CONCEPTOS</th>\n",
              "      <th>MORA_TARJ_OTROS_CONCEPTOS</th>\n",
              "      <th>cod_banco</th>\n",
              "      <th>id_persona</th>\n",
              "      <th>codmes</th>\n",
              "    </tr>\n",
              "  </thead>\n",
              "  <tbody>\n",
              "    <tr>\n",
              "      <th>0</th>\n",
              "      <td>100000_201712</td>\n",
              "      <td>4343.5</td>\n",
              "      <td>0.0</td>\n",
              "      <td>0.0</td>\n",
              "      <td>1120.5719</td>\n",
              "      <td>1.0</td>\n",
              "      <td>0.0</td>\n",
              "      <td>0.0</td>\n",
              "      <td>932.7940</td>\n",
              "      <td>1.0</td>\n",
              "      <td>421.6407</td>\n",
              "      <td>1.0</td>\n",
              "      <td>0.0</td>\n",
              "      <td>0.0</td>\n",
              "      <td>5</td>\n",
              "      <td>100000</td>\n",
              "      <td>201712</td>\n",
              "    </tr>\n",
              "    <tr>\n",
              "      <th>1</th>\n",
              "      <td>100000_201801</td>\n",
              "      <td>4343.5</td>\n",
              "      <td>0.0</td>\n",
              "      <td>0.0</td>\n",
              "      <td>1057.2882</td>\n",
              "      <td>1.0</td>\n",
              "      <td>0.0</td>\n",
              "      <td>0.0</td>\n",
              "      <td>818.0964</td>\n",
              "      <td>1.0</td>\n",
              "      <td>211.4080</td>\n",
              "      <td>1.0</td>\n",
              "      <td>0.0</td>\n",
              "      <td>0.0</td>\n",
              "      <td>5</td>\n",
              "      <td>100000</td>\n",
              "      <td>201801</td>\n",
              "    </tr>\n",
              "    <tr>\n",
              "      <th>2</th>\n",
              "      <td>100000_201802</td>\n",
              "      <td>4343.5</td>\n",
              "      <td>0.0</td>\n",
              "      <td>0.0</td>\n",
              "      <td>993.0263</td>\n",
              "      <td>1.0</td>\n",
              "      <td>0.0</td>\n",
              "      <td>0.0</td>\n",
              "      <td>682.9588</td>\n",
              "      <td>1.0</td>\n",
              "      <td>143.1676</td>\n",
              "      <td>1.0</td>\n",
              "      <td>0.0</td>\n",
              "      <td>0.0</td>\n",
              "      <td>5</td>\n",
              "      <td>100000</td>\n",
              "      <td>201802</td>\n",
              "    </tr>\n",
              "    <tr>\n",
              "      <th>3</th>\n",
              "      <td>100000_201803</td>\n",
              "      <td>4343.5</td>\n",
              "      <td>0.0</td>\n",
              "      <td>0.0</td>\n",
              "      <td>922.8222</td>\n",
              "      <td>1.0</td>\n",
              "      <td>0.0</td>\n",
              "      <td>0.0</td>\n",
              "      <td>569.1372</td>\n",
              "      <td>1.0</td>\n",
              "      <td>72.4379</td>\n",
              "      <td>1.0</td>\n",
              "      <td>0.0</td>\n",
              "      <td>0.0</td>\n",
              "      <td>5</td>\n",
              "      <td>100000</td>\n",
              "      <td>201803</td>\n",
              "    </tr>\n",
              "    <tr>\n",
              "      <th>4</th>\n",
              "      <td>100000_201804</td>\n",
              "      <td>4343.5</td>\n",
              "      <td>0.0</td>\n",
              "      <td>0.0</td>\n",
              "      <td>853.6255</td>\n",
              "      <td>1.0</td>\n",
              "      <td>0.0</td>\n",
              "      <td>0.0</td>\n",
              "      <td>455.3156</td>\n",
              "      <td>1.0</td>\n",
              "      <td>0.0000</td>\n",
              "      <td>0.0</td>\n",
              "      <td>0.0</td>\n",
              "      <td>0.0</td>\n",
              "      <td>4</td>\n",
              "      <td>100000</td>\n",
              "      <td>201804</td>\n",
              "    </tr>\n",
              "  </tbody>\n",
              "</table>\n",
              "</div>"
            ],
            "text/plain": [
              "   prediction_id  LINEA_TOTAL_TC  ...  id_persona  codmes\n",
              "0  100000_201712          4343.5  ...      100000  201712\n",
              "1  100000_201801          4343.5  ...      100000  201801\n",
              "2  100000_201802          4343.5  ...      100000  201802\n",
              "3  100000_201803          4343.5  ...      100000  201803\n",
              "4  100000_201804          4343.5  ...      100000  201804\n",
              "\n",
              "[5 rows x 17 columns]"
            ]
          },
          "metadata": {
            "tags": []
          },
          "execution_count": 82
        }
      ]
    },
    {
      "cell_type": "code",
      "metadata": {
        "colab_type": "code",
        "id": "UCSYXFTOFMgB",
        "colab": {}
      },
      "source": [
        "'''\n",
        "rcc_bd2.isnull().sum()\n",
        "'''"
      ],
      "execution_count": 0,
      "outputs": []
    },
    {
      "cell_type": "code",
      "metadata": {
        "colab_type": "code",
        "id": "1PYnObNKMJJb",
        "colab": {}
      },
      "source": [
        "print('prediction_id duplicados: {}'.format(rcc_bd2.prediction_id.duplicated().sum()))"
      ],
      "execution_count": 0,
      "outputs": []
    },
    {
      "cell_type": "code",
      "metadata": {
        "id": "fzBPpsmPh8cs",
        "colab_type": "code",
        "colab": {}
      },
      "source": [
        "rcc_bd2.to_csv('rcc_bd2.csv', index=False)"
      ],
      "execution_count": 0,
      "outputs": []
    },
    {
      "cell_type": "markdown",
      "metadata": {
        "colab_type": "text",
        "id": "gBvg9C0mQPE6"
      },
      "source": [
        "###Campanias_bd (Descartado)"
      ]
    },
    {
      "cell_type": "markdown",
      "metadata": {
        "colab_type": "text",
        "id": "yWmwUTg61SjH"
      },
      "source": [
        "##Dataframes sin codigomes"
      ]
    },
    {
      "cell_type": "markdown",
      "metadata": {
        "colab_type": "text",
        "id": "3UUZAMdi5hb1"
      },
      "source": [
        "### vehicular_db (descartado)"
      ]
    },
    {
      "cell_type": "code",
      "metadata": {
        "colab_type": "code",
        "id": "PsXOfSzKGtbN",
        "colab": {}
      },
      "source": [
        "'''\n",
        "vehicular_bd.describe()\n",
        "'''"
      ],
      "execution_count": 0,
      "outputs": []
    },
    {
      "cell_type": "code",
      "metadata": {
        "colab_type": "code",
        "id": "HLxID5-XkCKT",
        "colab": {}
      },
      "source": [
        "'''\n",
        "#Eliminamos las filas duplicadas vehicular_bd\n",
        "vehicular_bd = vehicular_bd.drop_duplicates()\n",
        "print('shape: {}'.format(vehicular_bd.shape))\n",
        "print('id_persona duplicados: {}'.format(vehicular_bd.id_persona.duplicated().sum()))\n",
        "print('filas duplicadas: {}'.format(vehicular_bd.duplicated().sum()))\n",
        "'''"
      ],
      "execution_count": 0,
      "outputs": []
    },
    {
      "cell_type": "markdown",
      "metadata": {
        "colab_type": "text",
        "id": "dnTn6rXIC3Mg"
      },
      "source": [
        "#### ¿Qué personas tienen más registros?"
      ]
    },
    {
      "cell_type": "code",
      "metadata": {
        "colab_type": "code",
        "id": "h2dZ-fF0PD7V",
        "colab": {}
      },
      "source": [
        "'''\n",
        "vehicular_bd[]\n",
        "'''"
      ],
      "execution_count": 0,
      "outputs": []
    },
    {
      "cell_type": "code",
      "metadata": {
        "colab_type": "code",
        "id": "X2PWUTM1QhYa",
        "colab": {}
      },
      "source": [
        "'''\n",
        "vehicular_bd[vehicular_bd.id_persona == 25468]\n",
        "'''"
      ],
      "execution_count": 0,
      "outputs": []
    },
    {
      "cell_type": "markdown",
      "metadata": {
        "colab_type": "text",
        "id": "Lp284yhuFaqu"
      },
      "source": [
        "####Tratando los missing values"
      ]
    },
    {
      "cell_type": "code",
      "metadata": {
        "colab_type": "code",
        "id": "LE7mWfo2fOQU",
        "colab": {}
      },
      "source": [
        "'''\n",
        "#Detectamos si hay missing values\n",
        "vehicular_bd.isnull().sum()\n",
        "'''"
      ],
      "execution_count": 0,
      "outputs": []
    },
    {
      "cell_type": "code",
      "metadata": {
        "colab_type": "code",
        "id": "GV4dX0xiFkaB",
        "colab": {}
      },
      "source": [
        "'''\n",
        "#¿Qué id_personas tienen la mayor cantidad de valores nulos en veh_var1?\n",
        "df_null = vehicular_bd[vehicular_bd.veh_var1.isnull()]\n",
        "top_15 = Counter(df_null['id_persona']).most_common(15)\n",
        "print(top_15)\n",
        "'''"
      ],
      "execution_count": 0,
      "outputs": []
    },
    {
      "cell_type": "code",
      "metadata": {
        "colab_type": "code",
        "id": "GA2fmuU6c-ln",
        "colab": {}
      },
      "source": [
        "'''\n",
        "#¿Qué id_personas tienen la mayor cantidad de valores nulos en veh_var2?\n",
        "df_null = vehicular_bd[vehicular_bd.veh_var2.isnull()]\n",
        "top_15 = Counter(df_null['id_persona']).most_common(15)\n",
        "print(top_15)\n",
        "'''"
      ],
      "execution_count": 0,
      "outputs": []
    },
    {
      "cell_type": "markdown",
      "metadata": {
        "colab_type": "text",
        "id": "4rLNQwUUqD4b"
      },
      "source": [
        "\n",
        "Por lo visto, la mejor forma de imputar los missing values será sacar dropear las columnas ya que no son muchas\n"
      ]
    },
    {
      "cell_type": "code",
      "metadata": {
        "colab_type": "code",
        "id": "XPS4UeaYefFf",
        "colab": {}
      },
      "source": [
        "'''\n",
        "#Hacemos drop a los missing values de la columna Marca ya que son solo 56 registros\n",
        "vehicular_bd = vehicular_bd.dropna(how='any')\n",
        "'''"
      ],
      "execution_count": 0,
      "outputs": []
    },
    {
      "cell_type": "code",
      "metadata": {
        "colab_type": "code",
        "id": "eoiBgq9mn1ii",
        "colab": {}
      },
      "source": [
        "'''\n",
        "#Comprobamos que no hay missing values\n",
        "vehicular_bd.isnull().sum()\n",
        "'''"
      ],
      "execution_count": 0,
      "outputs": []
    },
    {
      "cell_type": "code",
      "metadata": {
        "colab_type": "code",
        "id": "xFDalaJTYw_G",
        "colab": {}
      },
      "source": [
        "'''\n",
        "vehicular_bd.shape\n",
        "#Se dropean 5,141 columnas (6.6% del df original)\n",
        "'''"
      ],
      "execution_count": 0,
      "outputs": []
    },
    {
      "cell_type": "markdown",
      "metadata": {
        "colab_type": "text",
        "id": "W5Ff424bqfwD"
      },
      "source": [
        "#### Creando tabla vehicular_bd con id_persona como primary key"
      ]
    },
    {
      "cell_type": "code",
      "metadata": {
        "colab_type": "code",
        "id": "uJE5JMC0rlWu",
        "colab": {}
      },
      "source": [
        "'''\n",
        "#Creampos una serie con la cuenta de las marcas \n",
        "seriex = vehicular_bd.groupby('id_persona')['marca'].agg('count')\n",
        "#creamos un dataframe donde se promedian las variables numéricas para cada id_persona\n",
        "dframex = vehicular_bd.groupby('id_persona')['veh_var1','veh_var2'].mean()\n",
        "'''"
      ],
      "execution_count": 0,
      "outputs": []
    },
    {
      "cell_type": "code",
      "metadata": {
        "colab_type": "code",
        "id": "xzhxO7WoSEo0",
        "colab": {}
      },
      "source": [
        "'''\n",
        "#Unimos seriex y dframex\n",
        "vehicular_bd = pd.merge(seriex, dframex, on='id_persona').reset_index()\n",
        "vehicular_bd.head()\n",
        "'''"
      ],
      "execution_count": 0,
      "outputs": []
    },
    {
      "cell_type": "code",
      "metadata": {
        "colab_type": "code",
        "id": "sQrqEu9rWMK_",
        "colab": {}
      },
      "source": [
        "'''\n",
        "vehicular_bd.marca.value_counts()\n",
        "'''"
      ],
      "execution_count": 0,
      "outputs": []
    },
    {
      "cell_type": "markdown",
      "metadata": {
        "colab_type": "text",
        "id": "o6m31w1Ha_QI"
      },
      "source": [
        "###Sunat_bd"
      ]
    },
    {
      "cell_type": "code",
      "metadata": {
        "colab_type": "code",
        "id": "cERhRVTEbtPn",
        "colab": {}
      },
      "source": [
        "'''\n",
        "#Detectamos si hay missing values\n",
        "sunat_bd.isnull().sum()\n",
        "'''"
      ],
      "execution_count": 0,
      "outputs": []
    },
    {
      "cell_type": "code",
      "metadata": {
        "colab_type": "code",
        "id": "-tXQqovocd1X",
        "outputId": "04ac1733-1d5a-4d91-d418-e1f5cec6afd3",
        "colab": {
          "base_uri": "https://localhost:8080/",
          "height": 204
        }
      },
      "source": [
        "sunat_bdc = sunat_bd.groupby(['id_persona']).agg({'activ_econo':'count','meses_alta':'sum'}).reset_index()\n",
        "#Se usa reset_index para que 'id_persona' no sea el index y siga siendo una columna\n",
        "sunat_bdc.head()"
      ],
      "execution_count": 0,
      "outputs": [
        {
          "output_type": "execute_result",
          "data": {
            "text/html": [
              "<div>\n",
              "<style scoped>\n",
              "    .dataframe tbody tr th:only-of-type {\n",
              "        vertical-align: middle;\n",
              "    }\n",
              "\n",
              "    .dataframe tbody tr th {\n",
              "        vertical-align: top;\n",
              "    }\n",
              "\n",
              "    .dataframe thead th {\n",
              "        text-align: right;\n",
              "    }\n",
              "</style>\n",
              "<table border=\"1\" class=\"dataframe\">\n",
              "  <thead>\n",
              "    <tr style=\"text-align: right;\">\n",
              "      <th></th>\n",
              "      <th>id_persona</th>\n",
              "      <th>activ_econo</th>\n",
              "      <th>meses_alta</th>\n",
              "    </tr>\n",
              "  </thead>\n",
              "  <tbody>\n",
              "    <tr>\n",
              "      <th>0</th>\n",
              "      <td>1</td>\n",
              "      <td>1</td>\n",
              "      <td>273</td>\n",
              "    </tr>\n",
              "    <tr>\n",
              "      <th>1</th>\n",
              "      <td>3</td>\n",
              "      <td>1</td>\n",
              "      <td>30</td>\n",
              "    </tr>\n",
              "    <tr>\n",
              "      <th>2</th>\n",
              "      <td>5</td>\n",
              "      <td>1</td>\n",
              "      <td>46</td>\n",
              "    </tr>\n",
              "    <tr>\n",
              "      <th>3</th>\n",
              "      <td>6</td>\n",
              "      <td>1</td>\n",
              "      <td>307</td>\n",
              "    </tr>\n",
              "    <tr>\n",
              "      <th>4</th>\n",
              "      <td>9</td>\n",
              "      <td>1</td>\n",
              "      <td>159</td>\n",
              "    </tr>\n",
              "  </tbody>\n",
              "</table>\n",
              "</div>"
            ],
            "text/plain": [
              "   id_persona  activ_econo  meses_alta\n",
              "0           1            1         273\n",
              "1           3            1          30\n",
              "2           5            1          46\n",
              "3           6            1         307\n",
              "4           9            1         159"
            ]
          },
          "metadata": {
            "tags": []
          },
          "execution_count": 117
        }
      ]
    },
    {
      "cell_type": "code",
      "metadata": {
        "colab_type": "code",
        "id": "ms3blJ_mVYQg",
        "colab": {}
      },
      "source": [
        "'''\n",
        "sunat_bd.activ_econo.value_counts()\n",
        "'''"
      ],
      "execution_count": 0,
      "outputs": []
    },
    {
      "cell_type": "code",
      "metadata": {
        "id": "PTZNgkP2iYFJ",
        "colab_type": "code",
        "colab": {}
      },
      "source": [
        "sunat_bdc.to_csv('sunat_bdc.csv', index=False)"
      ],
      "execution_count": 0,
      "outputs": []
    },
    {
      "cell_type": "markdown",
      "metadata": {
        "colab_type": "text",
        "id": "Lf7tx_Kk4NzF"
      },
      "source": [
        "###reniec_bd"
      ]
    },
    {
      "cell_type": "code",
      "metadata": {
        "colab_type": "code",
        "id": "AXWxqkgm4Pon",
        "colab": {}
      },
      "source": [
        "'''\n",
        "#Detectamos si hay missing values\n",
        "reniec_bd.isnull().sum()\n",
        "'''"
      ],
      "execution_count": 0,
      "outputs": []
    },
    {
      "cell_type": "code",
      "metadata": {
        "colab_type": "code",
        "id": "pnuJJaUNIdx_",
        "colab": {}
      },
      "source": [
        "'''\n",
        "#Evaluamos los valores que hay en soc_var6\n",
        "reniec_bd.soc_var6.unique()\n",
        "'''"
      ],
      "execution_count": 0,
      "outputs": []
    },
    {
      "cell_type": "code",
      "metadata": {
        "colab_type": "code",
        "id": "oJzUD83QI4ST",
        "outputId": "5df286b6-efa9-4a51-9995-b4c48b585ef2",
        "colab": {
          "base_uri": "https://localhost:8080/",
          "height": 153
        }
      },
      "source": [
        "#Parece ser un feature categórico por lo que se llena los valores nulos con otra variable categótica (0)\n",
        "reniec_bdc = reniec_bd.fillna(0)\n",
        "reniec_bdc.isnull().sum()"
      ],
      "execution_count": 0,
      "outputs": [
        {
          "output_type": "execute_result",
          "data": {
            "text/plain": [
              "id_persona    0\n",
              "soc_var1      0\n",
              "soc_var2      0\n",
              "soc_var3      0\n",
              "soc_var4      0\n",
              "soc_var5      0\n",
              "soc_var6      0\n",
              "dtype: int64"
            ]
          },
          "metadata": {
            "tags": []
          },
          "execution_count": 119
        }
      ]
    },
    {
      "cell_type": "code",
      "metadata": {
        "id": "NTUC7irQizje",
        "colab_type": "code",
        "colab": {}
      },
      "source": [
        "reniec_bdc.to_csv('reniec_bdc.csv', index=False)"
      ],
      "execution_count": 0,
      "outputs": []
    },
    {
      "cell_type": "markdown",
      "metadata": {
        "colab_type": "text",
        "id": "MVtB2p4TZjAy"
      },
      "source": [
        "##Creando train y test dataset"
      ]
    },
    {
      "cell_type": "markdown",
      "metadata": {
        "colab_type": "text",
        "id": "6FhJjvqM5-IY"
      },
      "source": [
        "###Merge las tablas temporales por prediction_id"
      ]
    },
    {
      "cell_type": "code",
      "metadata": {
        "id": "BH1DoK4rjgTb",
        "colab_type": "code",
        "colab": {}
      },
      "source": [
        "#Leyendo train y test\n",
        "train_bd = pd.read_csv('ib_base_inicial_train.csv', parse_dates=['codmes'], infer_datetime_format=True)\n",
        "test_bd = pd.read_csv('ib_base_inicial_test.csv', parse_dates=['codmes'], infer_datetime_format=True)\n",
        "#Leyendo tablas complementarias consulidadas\n",
        "rcc_bd2 = pd.read_csv('rcc_bd2.csv')\n",
        "digital_bdc = pd.read_csv('digital_bdc.csv')\n",
        "reniec_bdc = pd.read_csv('reniec_bdc.csv')\n",
        "sunat_bdc = pd.read_csv('sunat_bdc.csv') "
      ],
      "execution_count": 0,
      "outputs": []
    },
    {
      "cell_type": "code",
      "metadata": {
        "colab_type": "code",
        "id": "33o4ohqPEYkK",
        "colab": {}
      },
      "source": [
        "#Creando los lags mensuales \n",
        "#rcc\n",
        "lag_rcc_1810 = rcc_bd2[rcc_bd2.codmes == 201810]\n",
        "lag_rcc_1811 = rcc_bd2[rcc_bd2.codmes == 201811]\n",
        "lag_rcc_1812 = rcc_bd2[rcc_bd2.codmes == 201812]\n",
        "lag_rcc_1901 = rcc_bd2[rcc_bd2.codmes == 201901]\n",
        "lag_rcc_1902 = rcc_bd2[rcc_bd2.codmes == 201902]\n",
        "lag_rcc_1903 = rcc_bd2[rcc_bd2.codmes == 201903]\n",
        "\n",
        "#digital\n",
        "lag_dig_1811 = digital_bdc[digital_bdc.codmes == 201811]\n",
        "lag_dig_1812 = digital_bdc[digital_bdc.codmes == 201812]\n",
        "lag_dig_1901 = digital_bdc[digital_bdc.codmes == 201901]\n",
        "lag_dig_1902 = digital_bdc[digital_bdc.codmes == 201902]\n",
        "lag_dig_1903 = digital_bdc[digital_bdc.codmes == 201903]\n",
        "lag_dig_1904 = digital_bdc[digital_bdc.codmes == 201904]"
      ],
      "execution_count": 0,
      "outputs": []
    },
    {
      "cell_type": "markdown",
      "metadata": {
        "colab_type": "text",
        "id": "_6N01B-W6KMW"
      },
      "source": [
        "###Creando el train dataset\n"
      ]
    },
    {
      "cell_type": "code",
      "metadata": {
        "colab_type": "code",
        "id": "dffCB_BSiVY9",
        "outputId": "9749e50d-12ee-4e85-f3aa-0b80d8175c3f",
        "colab": {
          "base_uri": "https://localhost:8080/",
          "height": 100
        }
      },
      "source": [
        "#MERGE CON DATAFRAMES ATEMPORALES\n",
        "sdfs = [train_bd, reniec_bdc, sunat_bdc] #ORDENADO DESDE LOS DF CON MAS REGISTROS HASTA EL DE MENOS\n",
        "train_bdc = reduce(lambda left,right: pd.merge(left,right,on='id_persona', how='left'), sdfs)\n",
        "train_bdc['id_persona'] = train_bdc.id_persona.astype(str)\n",
        "train_bdc.head(1)"
      ],
      "execution_count": 0,
      "outputs": [
        {
          "output_type": "execute_result",
          "data": {
            "text/html": [
              "<div>\n",
              "<style scoped>\n",
              "    .dataframe tbody tr th:only-of-type {\n",
              "        vertical-align: middle;\n",
              "    }\n",
              "\n",
              "    .dataframe tbody tr th {\n",
              "        vertical-align: top;\n",
              "    }\n",
              "\n",
              "    .dataframe thead th {\n",
              "        text-align: right;\n",
              "    }\n",
              "</style>\n",
              "<table border=\"1\" class=\"dataframe\">\n",
              "  <thead>\n",
              "    <tr style=\"text-align: right;\">\n",
              "      <th></th>\n",
              "      <th>codmes</th>\n",
              "      <th>id_persona</th>\n",
              "      <th>codtarget</th>\n",
              "      <th>margen</th>\n",
              "      <th>cem</th>\n",
              "      <th>ingreso_neto</th>\n",
              "      <th>linea_ofrecida</th>\n",
              "      <th>soc_var1</th>\n",
              "      <th>soc_var2</th>\n",
              "      <th>soc_var3</th>\n",
              "      <th>soc_var4</th>\n",
              "      <th>soc_var5</th>\n",
              "      <th>soc_var6</th>\n",
              "      <th>activ_econo</th>\n",
              "      <th>meses_alta</th>\n",
              "    </tr>\n",
              "  </thead>\n",
              "  <tbody>\n",
              "    <tr>\n",
              "      <th>0</th>\n",
              "      <td>201901</td>\n",
              "      <td>165747</td>\n",
              "      <td>0</td>\n",
              "      <td>-5.0</td>\n",
              "      <td>1.0</td>\n",
              "      <td>1781.0</td>\n",
              "      <td>1700</td>\n",
              "      <td>0.773585</td>\n",
              "      <td>4.0</td>\n",
              "      <td>1.0</td>\n",
              "      <td>6.0</td>\n",
              "      <td>5.0</td>\n",
              "      <td>5.0</td>\n",
              "      <td>1.0</td>\n",
              "      <td>119.0</td>\n",
              "    </tr>\n",
              "  </tbody>\n",
              "</table>\n",
              "</div>"
            ],
            "text/plain": [
              "   codmes id_persona  codtarget  ...  soc_var6  activ_econo  meses_alta\n",
              "0  201901     165747          0  ...       5.0          1.0       119.0\n",
              "\n",
              "[1 rows x 15 columns]"
            ]
          },
          "metadata": {
            "tags": []
          },
          "execution_count": 185
        }
      ]
    },
    {
      "cell_type": "code",
      "metadata": {
        "colab_type": "code",
        "id": "lkG5a6J6ud8q",
        "outputId": "ebd05824-4fcc-406e-e1da-c974d8f86963",
        "colab": {
          "base_uri": "https://localhost:8080/",
          "height": 100
        }
      },
      "source": [
        "#Creando columna prediction_id\n",
        "train_bdc['prediction_id'] = train_bdc.id_persona.apply(str) + '_' + train_bdc.codmes.apply(str)\n",
        "train_bdc.head(1)"
      ],
      "execution_count": 0,
      "outputs": [
        {
          "output_type": "execute_result",
          "data": {
            "text/html": [
              "<div>\n",
              "<style scoped>\n",
              "    .dataframe tbody tr th:only-of-type {\n",
              "        vertical-align: middle;\n",
              "    }\n",
              "\n",
              "    .dataframe tbody tr th {\n",
              "        vertical-align: top;\n",
              "    }\n",
              "\n",
              "    .dataframe thead th {\n",
              "        text-align: right;\n",
              "    }\n",
              "</style>\n",
              "<table border=\"1\" class=\"dataframe\">\n",
              "  <thead>\n",
              "    <tr style=\"text-align: right;\">\n",
              "      <th></th>\n",
              "      <th>codmes</th>\n",
              "      <th>id_persona</th>\n",
              "      <th>codtarget</th>\n",
              "      <th>margen</th>\n",
              "      <th>cem</th>\n",
              "      <th>ingreso_neto</th>\n",
              "      <th>linea_ofrecida</th>\n",
              "      <th>soc_var1</th>\n",
              "      <th>soc_var2</th>\n",
              "      <th>soc_var3</th>\n",
              "      <th>soc_var4</th>\n",
              "      <th>soc_var5</th>\n",
              "      <th>soc_var6</th>\n",
              "      <th>activ_econo</th>\n",
              "      <th>meses_alta</th>\n",
              "      <th>prediction_id</th>\n",
              "    </tr>\n",
              "  </thead>\n",
              "  <tbody>\n",
              "    <tr>\n",
              "      <th>0</th>\n",
              "      <td>201901</td>\n",
              "      <td>165747</td>\n",
              "      <td>0</td>\n",
              "      <td>-5.0</td>\n",
              "      <td>1.0</td>\n",
              "      <td>1781.0</td>\n",
              "      <td>1700</td>\n",
              "      <td>0.773585</td>\n",
              "      <td>4.0</td>\n",
              "      <td>1.0</td>\n",
              "      <td>6.0</td>\n",
              "      <td>5.0</td>\n",
              "      <td>5.0</td>\n",
              "      <td>1.0</td>\n",
              "      <td>119.0</td>\n",
              "      <td>165747_201901</td>\n",
              "    </tr>\n",
              "  </tbody>\n",
              "</table>\n",
              "</div>"
            ],
            "text/plain": [
              "   codmes id_persona  codtarget  ...  activ_econo  meses_alta  prediction_id\n",
              "0  201901     165747          0  ...          1.0       119.0  165747_201901\n",
              "\n",
              "[1 rows x 16 columns]"
            ]
          },
          "metadata": {
            "tags": []
          },
          "execution_count": 186
        }
      ]
    },
    {
      "cell_type": "code",
      "metadata": {
        "colab_type": "code",
        "id": "r1VijsF6QjPq",
        "colab": {}
      },
      "source": [
        "#Separando train_bd en meses\n",
        "#train_1901 = train_bdc[train_bdc.codmes == '201901']\n",
        "train_1902 = train_bdc[train_bdc.codmes == '201902']\n",
        "train_1903 = train_bdc[train_bdc.codmes == '201903']\n",
        "train_1904 = train_bdc[train_bdc.codmes == '201904']"
      ],
      "execution_count": 0,
      "outputs": []
    },
    {
      "cell_type": "code",
      "metadata": {
        "colab_type": "code",
        "id": "KH6D7aDFCckG",
        "outputId": "eb2fad6d-ecdc-49e4-9147-a21ab3f220dd",
        "colab": {
          "base_uri": "https://localhost:8080/",
          "height": 139
        }
      },
      "source": [
        "#Merge de trains con complementos (1 lag). Se omite train_1901 \n",
        "#ya que no se tiene suficientes datos en tablas complementarias\n",
        "sdfs = [train_1902, lag_rcc_1810, lag_dig_1811]\n",
        "for i in sdfs:\n",
        "  i.id_persona = i.id_persona.astype(str) \n",
        "  #Se convierte en str de nuevo ya que al leer el csv se transforma en integer\n",
        "\n",
        "train_1902 = reduce(lambda right, left: \n",
        "                    pd.merge(right, left.drop(['codmes','prediction_id'], \n",
        "                                              axis=1), on='id_persona', how='left'),sdfs)"
      ],
      "execution_count": 0,
      "outputs": [
        {
          "output_type": "stream",
          "text": [
            "/usr/local/lib/python3.6/dist-packages/pandas/core/generic.py:5208: SettingWithCopyWarning: \n",
            "A value is trying to be set on a copy of a slice from a DataFrame.\n",
            "Try using .loc[row_indexer,col_indexer] = value instead\n",
            "\n",
            "See the caveats in the documentation: http://pandas.pydata.org/pandas-docs/stable/user_guide/indexing.html#returning-a-view-versus-a-copy\n",
            "  self[name] = value\n"
          ],
          "name": "stderr"
        }
      ]
    },
    {
      "cell_type": "code",
      "metadata": {
        "id": "_RCAi43d1Dk0",
        "colab_type": "code",
        "outputId": "e0527b9c-befd-4cc9-9071-24e64a7845f7",
        "colab": {
          "base_uri": "https://localhost:8080/",
          "height": 139
        }
      },
      "source": [
        "sdfs = [train_1903, lag_rcc_1811, lag_dig_1812]\n",
        "for i in sdfs:\n",
        "  i.id_persona = i.id_persona.astype(str)\n",
        "\n",
        "train_1903 = reduce(lambda right, left: \n",
        "                    pd.merge(right, left.drop(['codmes','prediction_id'], \n",
        "                                              axis=1), on='id_persona', how='left'),sdfs)"
      ],
      "execution_count": 0,
      "outputs": [
        {
          "output_type": "stream",
          "text": [
            "/usr/local/lib/python3.6/dist-packages/pandas/core/generic.py:5208: SettingWithCopyWarning: \n",
            "A value is trying to be set on a copy of a slice from a DataFrame.\n",
            "Try using .loc[row_indexer,col_indexer] = value instead\n",
            "\n",
            "See the caveats in the documentation: http://pandas.pydata.org/pandas-docs/stable/user_guide/indexing.html#returning-a-view-versus-a-copy\n",
            "  self[name] = value\n"
          ],
          "name": "stderr"
        }
      ]
    },
    {
      "cell_type": "code",
      "metadata": {
        "id": "MBsUTu1N1KE0",
        "colab_type": "code",
        "outputId": "dc21a39b-6a01-4dc2-f5a6-4fcd576349fe",
        "colab": {
          "base_uri": "https://localhost:8080/",
          "height": 139
        }
      },
      "source": [
        "sdfs = [train_1904,  lag_rcc_1812, lag_dig_1901]\n",
        "for i in sdfs:\n",
        "  i.id_persona = i.id_persona.astype(str)\n",
        "\n",
        "train_1904 = reduce(lambda right, left: \n",
        "                    pd.merge(right, left.drop(['codmes','prediction_id'], \n",
        "                                              axis=1), on='id_persona', how='left'),sdfs)"
      ],
      "execution_count": 0,
      "outputs": [
        {
          "output_type": "stream",
          "text": [
            "/usr/local/lib/python3.6/dist-packages/pandas/core/generic.py:5208: SettingWithCopyWarning: \n",
            "A value is trying to be set on a copy of a slice from a DataFrame.\n",
            "Try using .loc[row_indexer,col_indexer] = value instead\n",
            "\n",
            "See the caveats in the documentation: http://pandas.pydata.org/pandas-docs/stable/user_guide/indexing.html#returning-a-view-versus-a-copy\n",
            "  self[name] = value\n"
          ],
          "name": "stderr"
        }
      ]
    },
    {
      "cell_type": "code",
      "metadata": {
        "colab_type": "code",
        "id": "rJiEcNezC3dq",
        "colab": {}
      },
      "source": [
        "#Concatenamos todos los train en un solo df\n",
        "lista = [train_1902, train_1903, train_1904]\n",
        "train_bdc = pd.concat(lista, ignore_index=True, sort=False) \n",
        "#Se usa sort para que las columnas nose desordenen"
      ],
      "execution_count": 0,
      "outputs": []
    },
    {
      "cell_type": "code",
      "metadata": {
        "colab_type": "code",
        "id": "Ig7hQE0FHkBs",
        "colab": {}
      },
      "source": [
        "#Debido a que solo 6 personas no tiene soc_var, se dropean dichos registros\n",
        "lista = ['soc_var1', 'soc_var2', 'soc_var3', 'soc_var4', 'soc_var5','soc_var6']\n",
        "train_bdc = train_bdc.dropna(subset=lista,how='all')"
      ],
      "execution_count": 0,
      "outputs": []
    },
    {
      "cell_type": "code",
      "metadata": {
        "colab_type": "code",
        "id": "lbx1bScpHqqn",
        "colab": {}
      },
      "source": [
        "#Se reemplazan todos los missing values con 0\n",
        "train_bdc.fillna(0, inplace=True)"
      ],
      "execution_count": 0,
      "outputs": []
    },
    {
      "cell_type": "code",
      "metadata": {
        "colab_type": "code",
        "id": "zZUIKzlIH6zu",
        "outputId": "2fcb6b26-58ac-48fd-b647-6b15081f7fb7",
        "colab": {
          "base_uri": "https://localhost:8080/",
          "height": 224
        }
      },
      "source": [
        "train_bdc.head()"
      ],
      "execution_count": 0,
      "outputs": [
        {
          "output_type": "execute_result",
          "data": {
            "text/html": [
              "<div>\n",
              "<style scoped>\n",
              "    .dataframe tbody tr th:only-of-type {\n",
              "        vertical-align: middle;\n",
              "    }\n",
              "\n",
              "    .dataframe tbody tr th {\n",
              "        vertical-align: top;\n",
              "    }\n",
              "\n",
              "    .dataframe thead th {\n",
              "        text-align: right;\n",
              "    }\n",
              "</style>\n",
              "<table border=\"1\" class=\"dataframe\">\n",
              "  <thead>\n",
              "    <tr style=\"text-align: right;\">\n",
              "      <th></th>\n",
              "      <th>codmes</th>\n",
              "      <th>id_persona</th>\n",
              "      <th>codtarget</th>\n",
              "      <th>margen</th>\n",
              "      <th>cem</th>\n",
              "      <th>ingreso_neto</th>\n",
              "      <th>linea_ofrecida</th>\n",
              "      <th>soc_var1</th>\n",
              "      <th>soc_var2</th>\n",
              "      <th>soc_var3</th>\n",
              "      <th>soc_var4</th>\n",
              "      <th>soc_var5</th>\n",
              "      <th>soc_var6</th>\n",
              "      <th>activ_econo</th>\n",
              "      <th>meses_alta</th>\n",
              "      <th>prediction_id</th>\n",
              "      <th>LINEA_TOTAL_TC</th>\n",
              "      <th>PRESTAMOS_COMERCIALES</th>\n",
              "      <th>MORA_PRESTAMOS_COMERCIALES</th>\n",
              "      <th>PRESTAMO_PERSONAL</th>\n",
              "      <th>MORA_PRESTAMO_PERSONAL</th>\n",
              "      <th>PRODUCTOS_BAJO_IMPACTO</th>\n",
              "      <th>MORA_PROD_BAJA_IMP</th>\n",
              "      <th>TARJETAS_COMPRAS</th>\n",
              "      <th>MORA_TARJETAS_COMPRAS</th>\n",
              "      <th>TARJETAS_EFECTIVO</th>\n",
              "      <th>MORA_TARJETAS_EFECTIVO</th>\n",
              "      <th>TARJ_OTROS_CONCEPTOS</th>\n",
              "      <th>MORA_TARJ_OTROS_CONCEPTOS</th>\n",
              "      <th>cod_banco</th>\n",
              "      <th>simu_prestamo</th>\n",
              "      <th>benefit</th>\n",
              "      <th>email</th>\n",
              "      <th>facebook</th>\n",
              "      <th>goog</th>\n",
              "      <th>youtb</th>\n",
              "      <th>compb</th>\n",
              "      <th>movil</th>\n",
              "      <th>desktop</th>\n",
              "      <th>n_sesion</th>\n",
              "      <th>n_pag</th>\n",
              "      <th>time_ctasimple</th>\n",
              "      <th>busqtc</th>\n",
              "      <th>busqvisa</th>\n",
              "      <th>busqcsimp</th>\n",
              "      <th>busqmill</th>\n",
              "      <th>busqcsld</th>\n",
              "      <th>busq</th>\n",
              "      <th>n_rep30</th>\n",
              "      <th>lima_dig</th>\n",
              "      <th>provincia_dig</th>\n",
              "      <th>extranjero_dig</th>\n",
              "      <th>iphone</th>\n",
              "    </tr>\n",
              "  </thead>\n",
              "  <tbody>\n",
              "    <tr>\n",
              "      <th>0</th>\n",
              "      <td>201902</td>\n",
              "      <td>2651</td>\n",
              "      <td>0</td>\n",
              "      <td>-5.0</td>\n",
              "      <td>4507.0</td>\n",
              "      <td>9344.0</td>\n",
              "      <td>23300</td>\n",
              "      <td>0.547170</td>\n",
              "      <td>4.0</td>\n",
              "      <td>2.0</td>\n",
              "      <td>6.0</td>\n",
              "      <td>5.0</td>\n",
              "      <td>11.0</td>\n",
              "      <td>1.0</td>\n",
              "      <td>2.0</td>\n",
              "      <td>2651_201902</td>\n",
              "      <td>9417.000</td>\n",
              "      <td>0.0000</td>\n",
              "      <td>0.0</td>\n",
              "      <td>14778.2733</td>\n",
              "      <td>1.0</td>\n",
              "      <td>46339.5459</td>\n",
              "      <td>1.0</td>\n",
              "      <td>803.5840</td>\n",
              "      <td>1.0</td>\n",
              "      <td>6827.5440</td>\n",
              "      <td>1.0</td>\n",
              "      <td>0.4380</td>\n",
              "      <td>1.0</td>\n",
              "      <td>6.0</td>\n",
              "      <td>0.0</td>\n",
              "      <td>0.0</td>\n",
              "      <td>0.0</td>\n",
              "      <td>0.0</td>\n",
              "      <td>0.0</td>\n",
              "      <td>0.0</td>\n",
              "      <td>0.0</td>\n",
              "      <td>0.0</td>\n",
              "      <td>0.0</td>\n",
              "      <td>0.0</td>\n",
              "      <td>0.0</td>\n",
              "      <td>0.0</td>\n",
              "      <td>0.0</td>\n",
              "      <td>0.0</td>\n",
              "      <td>0.0</td>\n",
              "      <td>0.0</td>\n",
              "      <td>0.0</td>\n",
              "      <td>0.0</td>\n",
              "      <td>0.0</td>\n",
              "      <td>0.0</td>\n",
              "      <td>0.0</td>\n",
              "      <td>0.0</td>\n",
              "      <td>0.0</td>\n",
              "    </tr>\n",
              "    <tr>\n",
              "      <th>1</th>\n",
              "      <td>201902</td>\n",
              "      <td>5164</td>\n",
              "      <td>0</td>\n",
              "      <td>-5.0</td>\n",
              "      <td>310.0</td>\n",
              "      <td>3166.0</td>\n",
              "      <td>6300</td>\n",
              "      <td>0.528302</td>\n",
              "      <td>4.0</td>\n",
              "      <td>1.0</td>\n",
              "      <td>6.0</td>\n",
              "      <td>5.0</td>\n",
              "      <td>10.0</td>\n",
              "      <td>1.0</td>\n",
              "      <td>44.0</td>\n",
              "      <td>5164_201902</td>\n",
              "      <td>15380.589</td>\n",
              "      <td>8910.8618</td>\n",
              "      <td>1.0</td>\n",
              "      <td>0.0000</td>\n",
              "      <td>0.0</td>\n",
              "      <td>0.0000</td>\n",
              "      <td>0.0</td>\n",
              "      <td>151.5918</td>\n",
              "      <td>1.0</td>\n",
              "      <td>4542.1987</td>\n",
              "      <td>1.0</td>\n",
              "      <td>0.0000</td>\n",
              "      <td>0.0</td>\n",
              "      <td>6.0</td>\n",
              "      <td>0.0</td>\n",
              "      <td>0.0</td>\n",
              "      <td>0.0</td>\n",
              "      <td>0.0</td>\n",
              "      <td>0.0</td>\n",
              "      <td>0.0</td>\n",
              "      <td>0.0</td>\n",
              "      <td>0.0</td>\n",
              "      <td>0.0</td>\n",
              "      <td>0.0</td>\n",
              "      <td>0.0</td>\n",
              "      <td>0.0</td>\n",
              "      <td>0.0</td>\n",
              "      <td>0.0</td>\n",
              "      <td>0.0</td>\n",
              "      <td>0.0</td>\n",
              "      <td>0.0</td>\n",
              "      <td>0.0</td>\n",
              "      <td>0.0</td>\n",
              "      <td>0.0</td>\n",
              "      <td>0.0</td>\n",
              "      <td>0.0</td>\n",
              "      <td>0.0</td>\n",
              "    </tr>\n",
              "    <tr>\n",
              "      <th>2</th>\n",
              "      <td>201902</td>\n",
              "      <td>81364</td>\n",
              "      <td>0</td>\n",
              "      <td>-5.0</td>\n",
              "      <td>791.0</td>\n",
              "      <td>1870.0</td>\n",
              "      <td>1800</td>\n",
              "      <td>0.584906</td>\n",
              "      <td>4.0</td>\n",
              "      <td>2.0</td>\n",
              "      <td>1.0</td>\n",
              "      <td>2.0</td>\n",
              "      <td>9.0</td>\n",
              "      <td>0.0</td>\n",
              "      <td>0.0</td>\n",
              "      <td>81364_201902</td>\n",
              "      <td>365.000</td>\n",
              "      <td>0.0000</td>\n",
              "      <td>0.0</td>\n",
              "      <td>0.0000</td>\n",
              "      <td>0.0</td>\n",
              "      <td>0.0000</td>\n",
              "      <td>0.0</td>\n",
              "      <td>0.0000</td>\n",
              "      <td>0.0</td>\n",
              "      <td>170.3455</td>\n",
              "      <td>1.0</td>\n",
              "      <td>0.0000</td>\n",
              "      <td>0.0</td>\n",
              "      <td>2.0</td>\n",
              "      <td>0.0</td>\n",
              "      <td>0.0</td>\n",
              "      <td>0.0</td>\n",
              "      <td>0.0</td>\n",
              "      <td>0.0</td>\n",
              "      <td>0.0</td>\n",
              "      <td>0.0</td>\n",
              "      <td>0.0</td>\n",
              "      <td>0.0</td>\n",
              "      <td>0.0</td>\n",
              "      <td>0.0</td>\n",
              "      <td>0.0</td>\n",
              "      <td>0.0</td>\n",
              "      <td>0.0</td>\n",
              "      <td>0.0</td>\n",
              "      <td>0.0</td>\n",
              "      <td>0.0</td>\n",
              "      <td>0.0</td>\n",
              "      <td>0.0</td>\n",
              "      <td>0.0</td>\n",
              "      <td>0.0</td>\n",
              "      <td>0.0</td>\n",
              "      <td>0.0</td>\n",
              "    </tr>\n",
              "    <tr>\n",
              "      <th>3</th>\n",
              "      <td>201902</td>\n",
              "      <td>206604</td>\n",
              "      <td>1</td>\n",
              "      <td>-5.0</td>\n",
              "      <td>531.0</td>\n",
              "      <td>2520.0</td>\n",
              "      <td>8800</td>\n",
              "      <td>0.867925</td>\n",
              "      <td>4.0</td>\n",
              "      <td>2.0</td>\n",
              "      <td>6.0</td>\n",
              "      <td>5.0</td>\n",
              "      <td>6.0</td>\n",
              "      <td>0.0</td>\n",
              "      <td>0.0</td>\n",
              "      <td>206604_201902</td>\n",
              "      <td>11680.000</td>\n",
              "      <td>0.0000</td>\n",
              "      <td>0.0</td>\n",
              "      <td>0.0000</td>\n",
              "      <td>0.0</td>\n",
              "      <td>0.0000</td>\n",
              "      <td>0.0</td>\n",
              "      <td>2401.9920</td>\n",
              "      <td>1.0</td>\n",
              "      <td>0.0000</td>\n",
              "      <td>0.0</td>\n",
              "      <td>687.3242</td>\n",
              "      <td>1.0</td>\n",
              "      <td>7.0</td>\n",
              "      <td>0.0</td>\n",
              "      <td>0.0</td>\n",
              "      <td>0.0</td>\n",
              "      <td>0.0</td>\n",
              "      <td>0.0</td>\n",
              "      <td>0.0</td>\n",
              "      <td>0.0</td>\n",
              "      <td>0.0</td>\n",
              "      <td>0.0</td>\n",
              "      <td>0.0</td>\n",
              "      <td>0.0</td>\n",
              "      <td>0.0</td>\n",
              "      <td>0.0</td>\n",
              "      <td>0.0</td>\n",
              "      <td>0.0</td>\n",
              "      <td>0.0</td>\n",
              "      <td>0.0</td>\n",
              "      <td>0.0</td>\n",
              "      <td>0.0</td>\n",
              "      <td>0.0</td>\n",
              "      <td>0.0</td>\n",
              "      <td>0.0</td>\n",
              "      <td>0.0</td>\n",
              "    </tr>\n",
              "    <tr>\n",
              "      <th>4</th>\n",
              "      <td>201902</td>\n",
              "      <td>236904</td>\n",
              "      <td>0</td>\n",
              "      <td>-5.0</td>\n",
              "      <td>409.0</td>\n",
              "      <td>1955.0</td>\n",
              "      <td>3900</td>\n",
              "      <td>0.886792</td>\n",
              "      <td>4.0</td>\n",
              "      <td>2.0</td>\n",
              "      <td>6.0</td>\n",
              "      <td>5.0</td>\n",
              "      <td>3.0</td>\n",
              "      <td>0.0</td>\n",
              "      <td>0.0</td>\n",
              "      <td>236904_201902</td>\n",
              "      <td>17556.500</td>\n",
              "      <td>0.0000</td>\n",
              "      <td>0.0</td>\n",
              "      <td>0.0000</td>\n",
              "      <td>0.0</td>\n",
              "      <td>0.0000</td>\n",
              "      <td>0.0</td>\n",
              "      <td>0.0000</td>\n",
              "      <td>0.0</td>\n",
              "      <td>0.0000</td>\n",
              "      <td>0.0</td>\n",
              "      <td>0.0000</td>\n",
              "      <td>0.0</td>\n",
              "      <td>2.0</td>\n",
              "      <td>0.0</td>\n",
              "      <td>0.0</td>\n",
              "      <td>0.0</td>\n",
              "      <td>0.0</td>\n",
              "      <td>0.0</td>\n",
              "      <td>0.0</td>\n",
              "      <td>0.0</td>\n",
              "      <td>0.0</td>\n",
              "      <td>0.0</td>\n",
              "      <td>0.0</td>\n",
              "      <td>0.0</td>\n",
              "      <td>0.0</td>\n",
              "      <td>0.0</td>\n",
              "      <td>0.0</td>\n",
              "      <td>0.0</td>\n",
              "      <td>0.0</td>\n",
              "      <td>0.0</td>\n",
              "      <td>0.0</td>\n",
              "      <td>0.0</td>\n",
              "      <td>0.0</td>\n",
              "      <td>0.0</td>\n",
              "      <td>0.0</td>\n",
              "      <td>0.0</td>\n",
              "    </tr>\n",
              "  </tbody>\n",
              "</table>\n",
              "</div>"
            ],
            "text/plain": [
              "   codmes id_persona  codtarget  ...  provincia_dig  extranjero_dig  iphone\n",
              "0  201902       2651          0  ...            0.0             0.0     0.0\n",
              "1  201902       5164          0  ...            0.0             0.0     0.0\n",
              "2  201902      81364          0  ...            0.0             0.0     0.0\n",
              "3  201902     206604          1  ...            0.0             0.0     0.0\n",
              "4  201902     236904          0  ...            0.0             0.0     0.0\n",
              "\n",
              "[5 rows x 53 columns]"
            ]
          },
          "metadata": {
            "tags": []
          },
          "execution_count": 203
        }
      ]
    },
    {
      "cell_type": "code",
      "metadata": {
        "colab_type": "code",
        "id": "_Uysl3fGIYhH",
        "outputId": "0af96b93-ca28-4260-ac64-54ee0d80f8d2",
        "colab": {
          "base_uri": "https://localhost:8080/",
          "height": 68
        }
      },
      "source": [
        "print('shape: {}'.format(train_bdc.shape))\n",
        "print('prediction_id duplicados: {}'.format(train_bdc.prediction_id.duplicated().sum()))\n",
        "print('filas duplicadas: {}'.format(train_bdc.duplicated().sum()))"
      ],
      "execution_count": 0,
      "outputs": [
        {
          "output_type": "stream",
          "text": [
            "shape: (158570, 53)\n",
            "prediction_id duplicados: 0\n",
            "filas duplicadas: 0\n"
          ],
          "name": "stdout"
        }
      ]
    },
    {
      "cell_type": "code",
      "metadata": {
        "colab_type": "code",
        "id": "-IJt6CrYH91c",
        "colab": {}
      },
      "source": [
        "#Exportando tabla\n",
        "train_bdc.to_csv('Dataset_train.csv', index=False)"
      ],
      "execution_count": 0,
      "outputs": []
    },
    {
      "cell_type": "markdown",
      "metadata": {
        "colab_type": "text",
        "id": "dBEuvaUIJfEx"
      },
      "source": [
        "###Creando el test dataset"
      ]
    },
    {
      "cell_type": "code",
      "metadata": {
        "id": "xAK2M2BDSQSU",
        "colab_type": "code",
        "colab": {}
      },
      "source": [
        "test_bd = pd.read_csv('ib_base_inicial_test.csv', parse_dates=['codmes'], infer_datetime_format=True)"
      ],
      "execution_count": 0,
      "outputs": []
    },
    {
      "cell_type": "code",
      "metadata": {
        "colab_type": "code",
        "id": "ja3qR-zfJgHJ",
        "outputId": "08ae06aa-e057-4ca4-c736-a3207709a57f",
        "colab": {
          "base_uri": "https://localhost:8080/",
          "height": 100
        }
      },
      "source": [
        "#MERGE CON DATAFRAMES ATEMPORALES\n",
        "sdfs = [test_bd, reniec_bdc, sunat_bdc] #ORDENADO DESDE LOS DF CON MAS REGISTROS HASTA EL DE MENOS\n",
        "test_bdc = reduce(lambda left,right: pd.merge(left,right,on='id_persona', how='left'), sdfs)\n",
        "test_bdc['id_persona'] = test_bdc.id_persona.astype(str)\n",
        "test_bdc.head(1)"
      ],
      "execution_count": 0,
      "outputs": [
        {
          "output_type": "execute_result",
          "data": {
            "text/html": [
              "<div>\n",
              "<style scoped>\n",
              "    .dataframe tbody tr th:only-of-type {\n",
              "        vertical-align: middle;\n",
              "    }\n",
              "\n",
              "    .dataframe tbody tr th {\n",
              "        vertical-align: top;\n",
              "    }\n",
              "\n",
              "    .dataframe thead th {\n",
              "        text-align: right;\n",
              "    }\n",
              "</style>\n",
              "<table border=\"1\" class=\"dataframe\">\n",
              "  <thead>\n",
              "    <tr style=\"text-align: right;\">\n",
              "      <th></th>\n",
              "      <th>codmes</th>\n",
              "      <th>id_persona</th>\n",
              "      <th>cem</th>\n",
              "      <th>ingreso_neto</th>\n",
              "      <th>linea_ofrecida</th>\n",
              "      <th>prediction_id</th>\n",
              "      <th>soc_var1</th>\n",
              "      <th>soc_var2</th>\n",
              "      <th>soc_var3</th>\n",
              "      <th>soc_var4</th>\n",
              "      <th>soc_var5</th>\n",
              "      <th>soc_var6</th>\n",
              "      <th>activ_econo</th>\n",
              "      <th>meses_alta</th>\n",
              "    </tr>\n",
              "  </thead>\n",
              "  <tbody>\n",
              "    <tr>\n",
              "      <th>0</th>\n",
              "      <td>201907</td>\n",
              "      <td>123381</td>\n",
              "      <td>1.0</td>\n",
              "      <td>1340.0</td>\n",
              "      <td>2600</td>\n",
              "      <td>123381_201907</td>\n",
              "      <td>0.679245</td>\n",
              "      <td>4.0</td>\n",
              "      <td>1.0</td>\n",
              "      <td>6.0</td>\n",
              "      <td>5.0</td>\n",
              "      <td>4.0</td>\n",
              "      <td>NaN</td>\n",
              "      <td>NaN</td>\n",
              "    </tr>\n",
              "  </tbody>\n",
              "</table>\n",
              "</div>"
            ],
            "text/plain": [
              "   codmes id_persona  cem  ...  soc_var6  activ_econo meses_alta\n",
              "0  201907     123381  1.0  ...       4.0          NaN        NaN\n",
              "\n",
              "[1 rows x 14 columns]"
            ]
          },
          "metadata": {
            "tags": []
          },
          "execution_count": 243
        }
      ]
    },
    {
      "cell_type": "code",
      "metadata": {
        "colab_type": "code",
        "id": "XftblKuqKWI5",
        "colab": {}
      },
      "source": [
        "#Separando test_bd en meses\n",
        "test_1905 = test_bdc[test_bdc.codmes == '201905']\n",
        "test_1906 = test_bdc[test_bdc.codmes == '201906']\n",
        "test_1907 = test_bdc[test_bdc.codmes == '201907']"
      ],
      "execution_count": 0,
      "outputs": []
    },
    {
      "cell_type": "code",
      "metadata": {
        "colab_type": "code",
        "id": "1mhgVBH6L1Gd",
        "outputId": "bbba86f4-6568-4e75-d51d-8f798f80fc05",
        "colab": {
          "base_uri": "https://localhost:8080/",
          "height": 139
        }
      },
      "source": [
        "#Merge de tests con complementos (1 lag). Se omite train_1901 \n",
        "#ya que no se tiene suficientes datos en tablas complementarias\n",
        "sdfs = [test_1905, lag_rcc_1901, lag_dig_1902]\n",
        "for i in sdfs:\n",
        "  i.id_persona = i.id_persona.astype(str) \n",
        "  #Se convierte en str de nuevo ya que al leer el csv se transforma en integer\n",
        "\n",
        "test_1905 = reduce(lambda right, left: \n",
        "                    pd.merge(right, left.drop(['codmes','prediction_id'], \n",
        "                                              axis=1), on='id_persona', how='left'),sdfs)"
      ],
      "execution_count": 0,
      "outputs": [
        {
          "output_type": "stream",
          "text": [
            "/usr/local/lib/python3.6/dist-packages/pandas/core/generic.py:5208: SettingWithCopyWarning: \n",
            "A value is trying to be set on a copy of a slice from a DataFrame.\n",
            "Try using .loc[row_indexer,col_indexer] = value instead\n",
            "\n",
            "See the caveats in the documentation: http://pandas.pydata.org/pandas-docs/stable/user_guide/indexing.html#returning-a-view-versus-a-copy\n",
            "  self[name] = value\n"
          ],
          "name": "stderr"
        }
      ]
    },
    {
      "cell_type": "code",
      "metadata": {
        "id": "G3Hs0v_RNLS6",
        "colab_type": "code",
        "outputId": "7bcfe0fb-5bff-422d-9d64-1b8be4289963",
        "colab": {
          "base_uri": "https://localhost:8080/",
          "height": 139
        }
      },
      "source": [
        "#Merge de tests con complementos (1 lag). Se omite train_1901 \n",
        "#ya que no se tiene suficientes datos en tablas complementarias\n",
        "sdfs = [test_1906, lag_rcc_1902, lag_dig_1903]\n",
        "for i in sdfs:\n",
        "  i.id_persona = i.id_persona.astype(str) \n",
        "  #Se convierte en str de nuevo ya que al leer el csv se transforma en integer\n",
        "\n",
        "test_1906 = reduce(lambda right, left: \n",
        "                    pd.merge(right, left.drop(['codmes','prediction_id'], \n",
        "                                              axis=1), on='id_persona', how='left'),sdfs)"
      ],
      "execution_count": 0,
      "outputs": [
        {
          "output_type": "stream",
          "text": [
            "/usr/local/lib/python3.6/dist-packages/pandas/core/generic.py:5208: SettingWithCopyWarning: \n",
            "A value is trying to be set on a copy of a slice from a DataFrame.\n",
            "Try using .loc[row_indexer,col_indexer] = value instead\n",
            "\n",
            "See the caveats in the documentation: http://pandas.pydata.org/pandas-docs/stable/user_guide/indexing.html#returning-a-view-versus-a-copy\n",
            "  self[name] = value\n"
          ],
          "name": "stderr"
        }
      ]
    },
    {
      "cell_type": "code",
      "metadata": {
        "id": "NuGno8myNQ1t",
        "colab_type": "code",
        "outputId": "ebd48004-93a8-4c74-eb1a-fab1bc6ea4f5",
        "colab": {
          "base_uri": "https://localhost:8080/",
          "height": 139
        }
      },
      "source": [
        "#Merge de tests con complementos (1 lag). Se omite train_1901 \n",
        "#ya que no se tiene suficientes datos en tablas complementarias\n",
        "sdfs = [test_1907, lag_rcc_1903, lag_dig_1904]\n",
        "for i in sdfs:\n",
        "  i.id_persona = i.id_persona.astype(str) \n",
        "  #Se convierte en str de nuevo ya que al leer el csv se transforma en integer\n",
        "\n",
        "test_1907 = reduce(lambda right, left: \n",
        "                    pd.merge(right, left.drop(['codmes','prediction_id'], \n",
        "                                              axis=1), on='id_persona', how='left'),sdfs)"
      ],
      "execution_count": 0,
      "outputs": [
        {
          "output_type": "stream",
          "text": [
            "/usr/local/lib/python3.6/dist-packages/pandas/core/generic.py:5208: SettingWithCopyWarning: \n",
            "A value is trying to be set on a copy of a slice from a DataFrame.\n",
            "Try using .loc[row_indexer,col_indexer] = value instead\n",
            "\n",
            "See the caveats in the documentation: http://pandas.pydata.org/pandas-docs/stable/user_guide/indexing.html#returning-a-view-versus-a-copy\n",
            "  self[name] = value\n"
          ],
          "name": "stderr"
        }
      ]
    },
    {
      "cell_type": "code",
      "metadata": {
        "id": "f9cP4DybNh59",
        "colab_type": "code",
        "colab": {}
      },
      "source": [
        "#Concatenamos todos los test en un solo df\n",
        "lista = [test_1905, test_1906, test_1907]\n",
        "test_bdc = pd.concat(lista, ignore_index=True, sort=False) \n",
        "#Se usa sort para que las columnas nose desordenen"
      ],
      "execution_count": 0,
      "outputs": []
    },
    {
      "cell_type": "code",
      "metadata": {
        "id": "15pHJYqlPQcb",
        "colab_type": "code",
        "colab": {}
      },
      "source": [
        "#A pesar de que solo 23 personas no tiene soc_var, no se dropean dichos registros\n",
        "#Se reemplazan todos los missing values con 0\n",
        "test_bdc.fillna(0, inplace=True)"
      ],
      "execution_count": 0,
      "outputs": []
    },
    {
      "cell_type": "code",
      "metadata": {
        "id": "5Xyz_mcLRB4q",
        "colab_type": "code",
        "outputId": "e123012b-cba3-4457-83b4-a8387db2e0ae",
        "colab": {
          "base_uri": "https://localhost:8080/",
          "height": 85
        }
      },
      "source": [
        "print('shape: {}'.format(test_bdc.shape))\n",
        "print('id_persona duplicados: {}'.format(test_bdc.id_persona.duplicated().sum()))\n",
        "print('prediction_id duplicados: {}'.format(test_bdc.prediction_id.duplicated().sum()))\n",
        "print('filas duplicadas: {}'.format(test_bdc.duplicated().sum()))"
      ],
      "execution_count": 0,
      "outputs": [
        {
          "output_type": "stream",
          "text": [
            "shape: (178685, 51)\n",
            "id_persona duplicados: 36069\n",
            "prediction_id duplicados: 0\n",
            "filas duplicadas: 0\n"
          ],
          "name": "stdout"
        }
      ]
    },
    {
      "cell_type": "code",
      "metadata": {
        "id": "NLfYlWSUQ7Q7",
        "colab_type": "code",
        "colab": {}
      },
      "source": [
        "#Exportando tabla\n",
        "test_bdc.to_csv('Dataset_test.csv', index=False)"
      ],
      "execution_count": 0,
      "outputs": []
    },
    {
      "cell_type": "markdown",
      "metadata": {
        "colab_type": "text",
        "id": "rhleJUFrTS1d"
      },
      "source": [
        "#Modeling"
      ]
    },
    {
      "cell_type": "markdown",
      "metadata": {
        "colab_type": "text",
        "id": "iaVs1ahUWYyQ"
      },
      "source": [
        "##  training "
      ]
    },
    {
      "cell_type": "markdown",
      "metadata": {
        "colab_type": "text",
        "id": "K4PtTwFmTYUf"
      },
      "source": [
        "Hacer:\n",
        "- Cross validation -  para evitar overfitting\n"
      ]
    }
  ]
}