{
 "cells": [
  {
   "cell_type": "markdown",
   "metadata": {},
   "source": [
    "Importar librerías"
   ]
  },
  {
   "cell_type": "code",
   "execution_count": 2,
   "metadata": {
    "jupyter": {
     "source_hidden": true
    }
   },
   "outputs": [],
   "source": [
    "import pandas as pd\n",
    "import numpy as np\n",
    "import seaborn as sns\n",
    "import matplotlib.pyplot as plt\n",
    "import psycopg2\n",
    "import warnings\n",
    "warnings.filterwarnings(\"ignore\")"
   ]
  },
  {
   "cell_type": "markdown",
   "metadata": {},
   "source": [
    "Fuente de funciones para obteción de muestras: https://www.kaggle.com/flaviobossolan/stratified-sampling-python "
   ]
  },
  {
   "cell_type": "code",
   "execution_count": 3,
   "metadata": {
    "jupyter": {
     "source_hidden": true
    }
   },
   "outputs": [],
   "source": [
    "def excluir_comercio(df,columna,limite_mayor, limite_menor):\n",
    "    global df1\n",
    "    df1 = df[((mrch[columna] <= limite_mayor) & \n",
    "               (mrch[columna] >= limite_menor))\n",
    "             |(mrch[columna] == 0)]\n",
    "    print('por {}: {}'.format(columna, df1.shape))\n",
    "\n",
    "def stratified_sample(df, strata, size=None, seed=None, keep_index= True):\n",
    "    '''\n",
    "    It samples data from a pandas dataframe using strata. These functions use\n",
    "    proportionate stratification:\n",
    "    n1 = (N1/N) * n\n",
    "    where:\n",
    "        - n1 is the sample size of stratum 1\n",
    "        - N1 is the population size of stratum 1\n",
    "        - N is the total population size\n",
    "        - n is the sampling size\n",
    "    Parameters\n",
    "    ----------\n",
    "    :df: pandas dataframe from which data will be sampled.\n",
    "    :strata: list containing columns that will be used in the stratified sampling.\n",
    "    :size: sampling size. If not informed, a sampling size will be calculated\n",
    "        using Cochran adjusted sampling formula:\n",
    "        cochran_n = (Z**2 * p * q) /e**2\n",
    "        where:\n",
    "            - Z is the z-value. In this case we use 1.96 representing 95%\n",
    "            - p is the estimated proportion of the population which has an\n",
    "                attribute. In this case we use 0.5\n",
    "            - q is 1-p\n",
    "            - e is the margin of error\n",
    "        This formula is adjusted as follows:\n",
    "        adjusted_cochran = cochran_n / 1+((cochran_n -1)/N)\n",
    "        where:\n",
    "            - cochran_n = result of the previous formula\n",
    "            - N is the population size\n",
    "    :seed: sampling seed\n",
    "    :keep_index: if True, it keeps a column with the original population index indicator\n",
    "    \n",
    "    Returns\n",
    "    -------\n",
    "    A sampled pandas dataframe based in a set of strata.\n",
    "    Examples\n",
    "    --------\n",
    "    >> df.head()\n",
    "    \tid  sex age city \n",
    "    0\t123 M   20  XYZ\n",
    "    1\t456 M   25  XYZ\n",
    "    2\t789 M   21  YZX\n",
    "    3\t987 F   40  ZXY\n",
    "    4\t654 M   45  ZXY\n",
    "    ...\n",
    "    # This returns a sample stratified by sex and city containing 30% of the size of\n",
    "    # the original data\n",
    "    >> stratified = stratified_sample(df=df, strata=['sex', 'city'], size=0.3)\n",
    "    Requirements\n",
    "    ------------\n",
    "    - pandas\n",
    "    - numpy\n",
    "    '''\n",
    "    population = len(df)\n",
    "    size = __smpl_size(population, size)\n",
    "    tmp = df[strata]\n",
    "    tmp['size'] = 1\n",
    "    tmp_grpd = tmp.groupby(strata).count().reset_index()\n",
    "    tmp_grpd['samp_size'] = round(size/population * tmp_grpd['size']).astype(int)\n",
    "\n",
    "    # controlling variable to create the dataframe or append to it\n",
    "    first = True \n",
    "    for i in range(len(tmp_grpd)):\n",
    "        # query generator for each iteration\n",
    "        qry=''\n",
    "        for s in range(len(strata)):\n",
    "            stratum = strata[s]\n",
    "            value = tmp_grpd.iloc[i][stratum]\n",
    "            n = tmp_grpd.iloc[i]['samp_size']\n",
    "\n",
    "            if type(value) == str:\n",
    "                value = \"'\" + str(value) + \"'\"\n",
    "            \n",
    "            if s != len(strata)-1:\n",
    "                qry = qry + stratum + ' == ' + str(value) +' & '\n",
    "            else:\n",
    "                qry = qry + stratum + ' == ' + str(value)\n",
    "        \n",
    "        # final dataframe\n",
    "        if first:\n",
    "            stratified_df = df.query(qry).sample(n=n, random_state=seed).reset_index(drop=(not keep_index))\n",
    "            first = False\n",
    "        else:\n",
    "            tmp_df = df.query(qry).sample(n=n, random_state=seed).reset_index(drop=(not keep_index))\n",
    "            stratified_df = stratified_df.append(tmp_df, ignore_index=True)\n",
    "    \n",
    "    return stratified_df\n",
    "\n",
    "\n",
    "\n",
    "def stratified_sample_report(df, strata, size=None):\n",
    "    '''\n",
    "    Generates a dataframe reporting the counts in each stratum and the counts\n",
    "    for the final sampled dataframe.\n",
    "    Parameters\n",
    "    ----------\n",
    "    :df: pandas dataframe from which data will be sampled.\n",
    "    :strata: list containing columns that will be used in the stratified sampling.\n",
    "    :size: sampling size. If not informed, a sampling size will be calculated\n",
    "        using Cochran adjusted sampling formula:\n",
    "        cochran_n = (Z**2 * p * q) /e**2\n",
    "        where:\n",
    "            - Z is the z-value. In this case we use 1.96 representing 95%\n",
    "            - p is the estimated proportion of the population which has an\n",
    "                attribute. In this case we use 0.5\n",
    "            - q is 1-p\n",
    "            - e is the margin of error\n",
    "        This formula is adjusted as follows:\n",
    "        adjusted_cochran = cochran_n / 1+((cochran_n -1)/N)\n",
    "        where:\n",
    "            - cochran_n = result of the previous formula\n",
    "            - N is the population size\n",
    "    Returns\n",
    "    -------\n",
    "    A dataframe reporting the counts in each stratum and the counts\n",
    "    for the final sampled dataframe.\n",
    "    '''\n",
    "    population = len(df)\n",
    "    size = __smpl_size(population, size)\n",
    "    tmp = df[strata]\n",
    "    tmp['size'] = 1\n",
    "    tmp_grpd = tmp.groupby(strata).count().reset_index()\n",
    "    tmp_grpd['samp_size'] = round(size/population * tmp_grpd['size']).astype(int)\n",
    "    return tmp_grpd\n",
    "\n",
    "\n",
    "def __smpl_size(population, size):\n",
    "    '''\n",
    "    A function to compute the sample size. If not informed, a sampling \n",
    "    size will be calculated using Cochran adjusted sampling formula:\n",
    "        cochran_n = (Z**2 * p * q) /e**2\n",
    "        where:\n",
    "            - Z is the z-value. In this case we use 1.96 representing 95%\n",
    "            - p is the estimated proportion of the population which has an\n",
    "                attribute. In this case we use 0.5\n",
    "            - q is 1-p\n",
    "            - e is the margin of error\n",
    "        This formula is adjusted as follows:\n",
    "        adjusted_cochran = cochran_n / 1+((cochran_n -1)/N)\n",
    "        where:\n",
    "            - cochran_n = result of the previous formula\n",
    "            - N is the population size\n",
    "    Parameters\n",
    "    ----------\n",
    "        :population: population size\n",
    "        :size: sample size (default = None)\n",
    "    Returns\n",
    "    -------\n",
    "    Calculated sample size to be used in the functions:\n",
    "        - stratified_sample\n",
    "        - stratified_sample_report\n",
    "    '''\n",
    "    if size is None:\n",
    "        cochran_n = round(((1.96)**2 * 0.5 * 0.5)/ 0.02**2)\n",
    "        n = round(cochran_n/(1+((cochran_n -1) /population)))\n",
    "    elif size >= 0 and size < 1:\n",
    "        n = round(population * size)\n",
    "    elif size < 0:\n",
    "        raise ValueError('Parameter \"size\" must be an integer or a proportion between 0 and 0.99.')\n",
    "    elif size >= 1:\n",
    "        n = size\n",
    "    return n"
   ]
  },
  {
   "cell_type": "markdown",
   "metadata": {},
   "source": [
    "## Muestreo\n",
    "---"
   ]
  },
  {
   "cell_type": "markdown",
   "metadata": {},
   "source": [
    "Cálculo de tamaño de muestra"
   ]
  },
  {
   "cell_type": "markdown",
   "metadata": {},
   "source": [
    "Deben estar grabados en la memoria del kernel los siguientes dataframes:\n",
    "- qr_mrch (población): todos los individuos de la población con las variables que se usarán para estratificar la muestra.\n",
    "- mrch_m (población muestreable): En caso de que se quiera retirar determindos individuos de la población antes de hacer el muestreo."
   ]
  },
  {
   "cell_type": "code",
   "execution_count": 398,
   "metadata": {
    "jupyter": {
     "source_hidden": true
    }
   },
   "outputs": [
    {
     "name": "stdout",
     "output_type": "stream",
     "text": [
      "poblacion: 4932\n",
      "base_muestreable: 4932\n",
      "proporcion para muestra: 0.05\n",
      "proporcion para grupo: 0.025\n",
      "n: 246\n",
      "Tamaño de cada grupo: 123\n"
     ]
    }
   ],
   "source": [
    "poblacion = qr_mrch.shape[0]\n",
    "base_muestreable = mrch_m.shape[0]\n",
    "proporcion_n = 0.05\n",
    "proporcion_grupo = proporcion_n/2\n",
    "mi = round(base_muestreable*proporcion_n)\n",
    "if mi%2 == 0:\n",
    "    n = mi\n",
    "else:\n",
    "    n = mi-1\n",
    "g = round(n/2)\n",
    "print('poblacion: {}'.format(poblacion))\n",
    "print('base_muestreable: {}'.format(base_muestreable))\n",
    "print('proporcion para muestra: {}'.format(proporcion_n))\n",
    "print('proporcion para grupo: {}'.format(proporcion_grupo))\n",
    "print('n: {}'.format(n))\n",
    "print('Tamaño de cada grupo: {}'.format(g))"
   ]
  },
  {
   "cell_type": "markdown",
   "metadata": {},
   "source": [
    "Reporte de estratos"
   ]
  },
  {
   "cell_type": "code",
   "execution_count": null,
   "metadata": {},
   "outputs": [],
   "source": [
    "reporte_estratos_sampledf = stratified_sample_report(mrch_m, ['variable_1', 'variable_2','variable_3'],n)\n",
    "print(reporte_estratos_sampledf.shape)\n",
    "reporte_estratos_sampledf.head(1)"
   ]
  },
  {
   "cell_type": "markdown",
   "metadata": {},
   "source": [
    "sample_df"
   ]
  },
  {
   "cell_type": "code",
   "execution_count": null,
   "metadata": {},
   "outputs": [],
   "source": [
    "df = pd.DataFrame(mrch_m,copy=True)\n",
    "sample_df = stratified_sample(df, ['variable_1', 'variable_2','variable_3'], size=n, seed=123, keep_index=False)\n",
    "#gc = cantidad de muestras en el grupo de control\n",
    "gc = round(sample_df.shape[0]/2)\n",
    "print('n = {}'.format(n))\n",
    "print(sample_df.shape)\n",
    "sample_df.head(1)"
   ]
  },
  {
   "cell_type": "markdown",
   "metadata": {},
   "source": [
    "sample grupo de control"
   ]
  },
  {
   "cell_type": "code",
   "execution_count": null,
   "metadata": {},
   "outputs": [],
   "source": [
    "df = pd.DataFrame(sample_df,copy=True)\n",
    "sample_g_cont = stratified_sample(df, ['variable_1', 'variable_2','variable_3'], size=gc, seed=123, keep_index=False)\n",
    "#ge = cantidad de muestras en el grupo experimental\n",
    "ge = sample_g_cont.shape[0]\n",
    "print('gc = {}'.format(gc))\n",
    "print(sample_g_cont.shape)\n",
    "sample_g_cont.head(1)"
   ]
  }
 ],
 "metadata": {
  "kernelspec": {
   "display_name": "Python 3",
   "language": "python",
   "name": "python3"
  },
  "language_info": {
   "codemirror_mode": {
    "name": "ipython",
    "version": 3
   },
   "file_extension": ".py",
   "mimetype": "text/x-python",
   "name": "python",
   "nbconvert_exporter": "python",
   "pygments_lexer": "ipython3",
   "version": "3.7.4"
  }
 },
 "nbformat": 4,
 "nbformat_minor": 4
}
