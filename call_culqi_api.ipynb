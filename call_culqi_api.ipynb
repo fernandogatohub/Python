{
 "cells": [
  {
   "cell_type": "markdown",
   "metadata": {},
   "source": [
    "Se muestra el uso de una clase hecha para crear de manera rápida cargos de prueba llamando al API de Culqi. Es un buen ejemplo del uso de las librerías de Python requests y json.\n",
    "\n",
    "Se ha usado información pública de la documentación oficial de Culqi: https://docs.culqi.com/"
   ]
  },
  {
   "cell_type": "code",
   "execution_count": null,
   "metadata": {
    "id": "08W65VR8ky_t"
   },
   "outputs": [],
   "source": [
    "#Import libraries\n",
    "import pandas as pd\n",
    "import numpy as np\n",
    "import requests\n",
    "import json"
   ]
  },
  {
   "cell_type": "code",
   "execution_count": null,
   "metadata": {
    "id": "kCFO-Awyky_u"
   },
   "outputs": [],
   "source": [
    "class transactioner():\n",
    "    def __init__(self,sk,pk,token_request):\n",
    "        with open(token_request) as json_file: \n",
    "            self.token_request = json.load(json_file)\n",
    "        self.sk = sk\n",
    "        self.pk = pk\n",
    "    \n",
    "    def create_token(self):\n",
    "        auth_tk = \"Bearer \"+self.pk\n",
    "        headers = {\"Content-Type\":\"application/json\",\"Authorization\":auth_tk}\n",
    "        token_response = requests.post(url = \"https://secure.culqi.com/v2/tokens\", \n",
    "                                       data = json.dumps(self.token_request), \n",
    "                                       headers=headers).json()\n",
    "        return token_response\n",
    "    \n",
    "    def create_charge(self,charge_request):\n",
    "        with open(charge_request) as json_file: \n",
    "            charge_request = json.load(json_file)\n",
    "        token = self.create_token()['id']\n",
    "        charge_request['source_id'] = token\n",
    "        auth_chr = \"Bearer \"+self.sk\n",
    "        headers = {\"Content-Type\":\"application/json\",\"Authorization\":auth_chr}\n",
    "        charge_response = requests.post(url = \"https://api.culqi.com/v2/charges\",\n",
    "                                        data = json.dumps(charge_request),\n",
    "                                        headers=headers).json()\n",
    "        return charge_response"
   ]
  },
  {
   "cell_type": "markdown",
   "metadata": {},
   "source": [
    "Deben estar en el working directory dos archivos json:\n",
    "- token_request_testcard.json\n",
    "- charge_request.json\n",
    "\n",
    "Se muestran a continuación"
   ]
  },
  {
   "cell_type": "markdown",
   "metadata": {},
   "source": [
    "#token_request_testcard.json\n",
    "{\n",
    "  \"card_number\": \"4111111111111111\",\n",
    "  \"cvv\": \"123\",\n",
    "  \"expiration_month\": \"09\",\n",
    "  \"expiration_year\": \"2025\",\n",
    "  \"email\": \"any_email@domain.com\"\n",
    "}"
   ]
  },
  {
   "cell_type": "code",
   "execution_count": null,
   "metadata": {},
   "outputs": [],
   "source": [
    "#charge_request.json\n",
    "{\n",
    "  \"amount\": \"400\",\n",
    "  \"currency_code\": \"PEN\",\n",
    "  \"source_id\":\"anyting\",\n",
    "  \"description\":\"anything\",\n",
    "  \"email\": \"any_email@domain.com\",\n",
    "  \"capture\": false\n",
    "}"
   ]
  },
  {
   "cell_type": "code",
   "execution_count": null,
   "metadata": {},
   "outputs": [],
   "source": [
    "#Obteniendo el json de cargo usando una tarjeta  de pruebas\n",
    "trx = transactioner('sk_test_############', \n",
    "              'pk_test_############',\n",
    "              'token_request_testcard.json')\n",
    "trx.create_charge('charge_request.json')"
   ]
  }
 ],
 "metadata": {
  "colab": {
   "collapsed_sections": [],
   "name": "rules_tester.ipynb",
   "provenance": []
  },
  "kernelspec": {
   "display_name": "Python 3",
   "language": "python",
   "name": "python3"
  },
  "language_info": {
   "codemirror_mode": {
    "name": "ipython",
    "version": 3
   },
   "file_extension": ".py",
   "mimetype": "text/x-python",
   "name": "python",
   "nbconvert_exporter": "python",
   "pygments_lexer": "ipython3",
   "version": "3.7.4"
  }
 },
 "nbformat": 4,
 "nbformat_minor": 1
}
