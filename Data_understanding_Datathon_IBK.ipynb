{
  "nbformat": 4,
  "nbformat_minor": 0,
  "metadata": {
    "colab": {
      "name": "Data understanding: Datathon IBK.ipynb",
      "provenance": [],
      "collapsed_sections": [],
      "toc_visible": true
    },
    "kernelspec": {
      "name": "python3",
      "display_name": "Python 3"
    }
  },
  "cells": [
    {
      "cell_type": "code",
      "metadata": {
        "id": "AK1oPLRq9W3Y",
        "colab_type": "code",
        "outputId": "2d5de136-9d0a-421a-de69-90461a88d8c6",
        "colab": {
          "base_uri": "https://localhost:8080/",
          "height": 122
        }
      },
      "source": [
        "from google.colab import drive\n",
        "drive.mount('/content/drive')"
      ],
      "execution_count": 0,
      "outputs": [
        {
          "output_type": "stream",
          "text": [
            "Go to this URL in a browser: https://accounts.google.com/o/oauth2/auth?client_id=947318989803-6bn6qk8qdgf4n4g3pfee6491hc0brc4i.apps.googleusercontent.com&redirect_uri=urn%3aietf%3awg%3aoauth%3a2.0%3aoob&response_type=code&scope=email%20https%3a%2f%2fwww.googleapis.com%2fauth%2fdocs.test%20https%3a%2f%2fwww.googleapis.com%2fauth%2fdrive%20https%3a%2f%2fwww.googleapis.com%2fauth%2fdrive.photos.readonly%20https%3a%2f%2fwww.googleapis.com%2fauth%2fpeopleapi.readonly\n",
            "\n",
            "Enter your authorization code:\n",
            "··········\n",
            "Mounted at /content/drive\n"
          ],
          "name": "stdout"
        }
      ]
    },
    {
      "cell_type": "code",
      "metadata": {
        "id": "Luw1wsDqDBkS",
        "colab_type": "code",
        "outputId": "29739a25-ef11-4e00-e114-8262b5f0a2b0",
        "colab": {
          "base_uri": "https://localhost:8080/",
          "height": 34
        }
      },
      "source": [
        "cd /content/drive/My Drive/Datathon Interbank"
      ],
      "execution_count": 0,
      "outputs": [
        {
          "output_type": "stream",
          "text": [
            "/content/drive/My Drive/Datathon Interbank\n"
          ],
          "name": "stdout"
        }
      ]
    },
    {
      "cell_type": "markdown",
      "metadata": {
        "id": "qqSKNm0NigoT",
        "colab_type": "text"
      },
      "source": [
        "### Lectura  de datos"
      ]
    },
    {
      "cell_type": "code",
      "metadata": {
        "id": "sW3Ff2172rSC",
        "colab_type": "code",
        "colab": {}
      },
      "source": [
        "import pandas as pd\n",
        "from sklearn.preprocessing import Imputer\n",
        "from collections import Counter\n",
        "import numpy as np\n",
        "import seaborn as sns\n",
        "import matplotlib.pyplot as plt\n",
        "from functools import reduce"
      ],
      "execution_count": 0,
      "outputs": []
    },
    {
      "cell_type": "code",
      "metadata": {
        "id": "Akxnw_ped7F0",
        "colab_type": "code",
        "outputId": "a63fe060-3300-4f0f-8d7f-972aa962204d",
        "colab": {
          "base_uri": "https://localhost:8080/",
          "height": 54
        }
      },
      "source": [
        "#Leemos los datos\n",
        "train_bd = pd.read_csv('ib_base_inicial_train.csv', parse_dates=['codmes'], infer_datetime_format=True)\n",
        "test_bd = pd.read_csv('ib_base_inicial_test.csv', parse_dates=['codmes'], infer_datetime_format=True)\n",
        "campanias_bd = pd.read_csv('ib_base_campanias.csv', parse_dates=['codmes'], infer_datetime_format=True)\n",
        "digital_bd = pd.read_csv('ib_base_digital.csv', parse_dates=['codday'], infer_datetime_format=True)\n",
        "rcc_bd = pd.read_csv('ib_base_rcc.csv', parse_dates=['codmes'], infer_datetime_format=True)\n",
        "reniec_bd = pd.read_csv('ib_base_reniec.csv')\n",
        "sunat_bd = pd.read_csv('ib_base_sunat.csv')\n",
        "vehicular_bd = pd.read_csv('ib_base_vehicular.csv')\n",
        "sample_sub = pd.read_csv('sampleSubmission.csv')\n",
        "'''Indicamos parse_dates e infer_datetime_format para que las dechas no sean integer \n",
        "ya que originalmente las columnas de fecha están con el formato 201907'''"
      ],
      "execution_count": 0,
      "outputs": [
        {
          "output_type": "execute_result",
          "data": {
            "text/plain": [
              "'Indicamos parse_dates e infer_datetime_format para que las dechas no sean integer \\nya que originalmente las columnas de fecha están con el formato 201907'"
            ]
          },
          "metadata": {
            "tags": []
          },
          "execution_count": 4
        }
      ]
    },
    {
      "cell_type": "markdown",
      "metadata": {
        "id": "1l-1tQvTGadO",
        "colab_type": "text"
      },
      "source": [
        "# Data understanding\n"
      ]
    },
    {
      "cell_type": "markdown",
      "metadata": {
        "id": "LVlJHMY0iDvI",
        "colab_type": "text"
      },
      "source": [
        "### Resumen de los CSVs"
      ]
    },
    {
      "cell_type": "code",
      "metadata": {
        "id": "gp3pSBzsQ9r2",
        "colab_type": "code",
        "colab": {}
      },
      "source": [
        "#Creamos un dataframe que muestre los shapes de cada csv\n",
        "lista_csvs = [train_bd, test_bd, campanias_bd, digital_bd, rcc_bd, reniec_bd, sunat_bd, vehicular_bd]\n",
        "lista_nombres_csvs =  ['train_bd', 'test_bd', 'campanias_bd', 'digital_bd', 'rcc_bd', \n",
        "                       'reniec_bd', 'sunat_bd', 'vehicular_bd']\n",
        "lista_shapes = []\n",
        "for i in lista_csvs:\n",
        "  lista_shapes.append(i.shape)\n",
        "libreriax = {'Nombres': lista_nombres_csvs, 'Shapes': lista_shapes}\n",
        "tabla_shapes = pd.DataFrame(libreriax)"
      ],
      "execution_count": 0,
      "outputs": []
    },
    {
      "cell_type": "code",
      "metadata": {
        "id": "op9wYviUZL_Z",
        "colab_type": "code",
        "outputId": "afd4de86-9aca-4f7f-c521-189c84ce9a84",
        "colab": {
          "base_uri": "https://localhost:8080/",
          "height": 297
        }
      },
      "source": [
        "tabla_shapes"
      ],
      "execution_count": 0,
      "outputs": [
        {
          "output_type": "execute_result",
          "data": {
            "text/html": [
              "<div>\n",
              "<style scoped>\n",
              "    .dataframe tbody tr th:only-of-type {\n",
              "        vertical-align: middle;\n",
              "    }\n",
              "\n",
              "    .dataframe tbody tr th {\n",
              "        vertical-align: top;\n",
              "    }\n",
              "\n",
              "    .dataframe thead th {\n",
              "        text-align: right;\n",
              "    }\n",
              "</style>\n",
              "<table border=\"1\" class=\"dataframe\">\n",
              "  <thead>\n",
              "    <tr style=\"text-align: right;\">\n",
              "      <th></th>\n",
              "      <th>Nombres</th>\n",
              "      <th>Shapes</th>\n",
              "    </tr>\n",
              "  </thead>\n",
              "  <tbody>\n",
              "    <tr>\n",
              "      <th>0</th>\n",
              "      <td>train_bd</td>\n",
              "      <td>(212665, 7)</td>\n",
              "    </tr>\n",
              "    <tr>\n",
              "      <th>1</th>\n",
              "      <td>test_bd</td>\n",
              "      <td>(178685, 6)</td>\n",
              "    </tr>\n",
              "    <tr>\n",
              "      <th>2</th>\n",
              "      <td>campanias_bd</td>\n",
              "      <td>(4890317, 4)</td>\n",
              "    </tr>\n",
              "    <tr>\n",
              "      <th>3</th>\n",
              "      <td>digital_bd</td>\n",
              "      <td>(171728, 33)</td>\n",
              "    </tr>\n",
              "    <tr>\n",
              "      <th>4</th>\n",
              "      <td>rcc_bd</td>\n",
              "      <td>(11705553, 7)</td>\n",
              "    </tr>\n",
              "    <tr>\n",
              "      <th>5</th>\n",
              "      <td>reniec_bd</td>\n",
              "      <td>(256351, 7)</td>\n",
              "    </tr>\n",
              "    <tr>\n",
              "      <th>6</th>\n",
              "      <td>sunat_bd</td>\n",
              "      <td>(196336, 3)</td>\n",
              "    </tr>\n",
              "    <tr>\n",
              "      <th>7</th>\n",
              "      <td>vehicular_bd</td>\n",
              "      <td>(76954, 4)</td>\n",
              "    </tr>\n",
              "  </tbody>\n",
              "</table>\n",
              "</div>"
            ],
            "text/plain": [
              "        Nombres         Shapes\n",
              "0      train_bd    (212665, 7)\n",
              "1       test_bd    (178685, 6)\n",
              "2  campanias_bd   (4890317, 4)\n",
              "3    digital_bd   (171728, 33)\n",
              "4        rcc_bd  (11705553, 7)\n",
              "5     reniec_bd    (256351, 7)\n",
              "6      sunat_bd    (196336, 3)\n",
              "7  vehicular_bd     (76954, 4)"
            ]
          },
          "metadata": {
            "tags": []
          },
          "execution_count": 38
        }
      ]
    },
    {
      "cell_type": "markdown",
      "metadata": {
        "id": "FPnzTkE4CKyn",
        "colab_type": "text"
      },
      "source": [
        "###sample_sub\n"
      ]
    },
    {
      "cell_type": "code",
      "metadata": {
        "id": "Q6QHOygSCP08",
        "colab_type": "code",
        "outputId": "2fdfb984-0fb6-4199-8af1-0a383521faef",
        "colab": {
          "base_uri": "https://localhost:8080/",
          "height": 204
        }
      },
      "source": [
        "sample_sub.head()"
      ],
      "execution_count": 0,
      "outputs": [
        {
          "output_type": "execute_result",
          "data": {
            "text/html": [
              "<div>\n",
              "<style scoped>\n",
              "    .dataframe tbody tr th:only-of-type {\n",
              "        vertical-align: middle;\n",
              "    }\n",
              "\n",
              "    .dataframe tbody tr th {\n",
              "        vertical-align: top;\n",
              "    }\n",
              "\n",
              "    .dataframe thead th {\n",
              "        text-align: right;\n",
              "    }\n",
              "</style>\n",
              "<table border=\"1\" class=\"dataframe\">\n",
              "  <thead>\n",
              "    <tr style=\"text-align: right;\">\n",
              "      <th></th>\n",
              "      <th>prediction_id</th>\n",
              "      <th>class</th>\n",
              "    </tr>\n",
              "  </thead>\n",
              "  <tbody>\n",
              "    <tr>\n",
              "      <th>0</th>\n",
              "      <td>1_201906</td>\n",
              "      <td>1</td>\n",
              "    </tr>\n",
              "    <tr>\n",
              "      <th>1</th>\n",
              "      <td>4_201906</td>\n",
              "      <td>1</td>\n",
              "    </tr>\n",
              "    <tr>\n",
              "      <th>2</th>\n",
              "      <td>4_201905</td>\n",
              "      <td>1</td>\n",
              "    </tr>\n",
              "    <tr>\n",
              "      <th>3</th>\n",
              "      <td>6_201906</td>\n",
              "      <td>1</td>\n",
              "    </tr>\n",
              "    <tr>\n",
              "      <th>4</th>\n",
              "      <td>7_201905</td>\n",
              "      <td>1</td>\n",
              "    </tr>\n",
              "  </tbody>\n",
              "</table>\n",
              "</div>"
            ],
            "text/plain": [
              "  prediction_id  class\n",
              "0      1_201906      1\n",
              "1      4_201906      1\n",
              "2      4_201905      1\n",
              "3      6_201906      1\n",
              "4      7_201905      1"
            ]
          },
          "metadata": {
            "tags": []
          },
          "execution_count": 25
        }
      ]
    },
    {
      "cell_type": "code",
      "metadata": {
        "id": "I4YY9A95CWlF",
        "colab_type": "code",
        "outputId": "8cc1dffe-ef13-4482-cd71-5f60f2916d87",
        "colab": {
          "base_uri": "https://localhost:8080/",
          "height": 68
        }
      },
      "source": [
        "print('shape: {}'.format(sample_sub.shape))\n",
        "print('prediction_id duplicados: {}'.format(sample_sub.prediction_id.duplicated().sum()))\n",
        "print('filas duplicadas: {}'.format(sample_sub.duplicated().sum()))"
      ],
      "execution_count": 0,
      "outputs": [
        {
          "output_type": "stream",
          "text": [
            "shape: (178685, 2)\n",
            "prediction_id duplicados: 0\n",
            "filas duplicadas: 0\n"
          ],
          "name": "stdout"
        }
      ]
    },
    {
      "cell_type": "markdown",
      "metadata": {
        "id": "fBnrQg4Ui0_E",
        "colab_type": "text"
      },
      "source": [
        "### test_bd\n",
        "\n",
        "\"We expect the solution file to have 178685 prediction rows\" \n",
        "Solo interbank conoce los valores de la fila codtarget de este df, con el cual calculará el margen que deja el modelo. \n",
        "\n",
        "predictionid: codigo de cliente_mes en que se le ofreció ofreció tarjeta"
      ]
    },
    {
      "cell_type": "code",
      "metadata": {
        "id": "kDGzETKchsRw",
        "colab_type": "code",
        "outputId": "bce30bd7-eb04-4aa1-bda6-41ab42b1c74b",
        "colab": {
          "base_uri": "https://localhost:8080/",
          "height": 204
        }
      },
      "source": [
        "test_bd.head()"
      ],
      "execution_count": 0,
      "outputs": [
        {
          "output_type": "execute_result",
          "data": {
            "text/html": [
              "<div>\n",
              "<style scoped>\n",
              "    .dataframe tbody tr th:only-of-type {\n",
              "        vertical-align: middle;\n",
              "    }\n",
              "\n",
              "    .dataframe tbody tr th {\n",
              "        vertical-align: top;\n",
              "    }\n",
              "\n",
              "    .dataframe thead th {\n",
              "        text-align: right;\n",
              "    }\n",
              "</style>\n",
              "<table border=\"1\" class=\"dataframe\">\n",
              "  <thead>\n",
              "    <tr style=\"text-align: right;\">\n",
              "      <th></th>\n",
              "      <th>codmes</th>\n",
              "      <th>id_persona</th>\n",
              "      <th>cem</th>\n",
              "      <th>ingreso_neto</th>\n",
              "      <th>linea_ofrecida</th>\n",
              "      <th>prediction_id</th>\n",
              "    </tr>\n",
              "  </thead>\n",
              "  <tbody>\n",
              "    <tr>\n",
              "      <th>0</th>\n",
              "      <td>201907</td>\n",
              "      <td>123381</td>\n",
              "      <td>1.0</td>\n",
              "      <td>1340.0</td>\n",
              "      <td>2600</td>\n",
              "      <td>123381_201907</td>\n",
              "    </tr>\n",
              "    <tr>\n",
              "      <th>1</th>\n",
              "      <td>201906</td>\n",
              "      <td>125277</td>\n",
              "      <td>1412.0</td>\n",
              "      <td>3166.0</td>\n",
              "      <td>4700</td>\n",
              "      <td>125277_201906</td>\n",
              "    </tr>\n",
              "    <tr>\n",
              "      <th>2</th>\n",
              "      <td>201906</td>\n",
              "      <td>9564</td>\n",
              "      <td>389.0</td>\n",
              "      <td>2575.0</td>\n",
              "      <td>5100</td>\n",
              "      <td>9564_201906</td>\n",
              "    </tr>\n",
              "    <tr>\n",
              "      <th>3</th>\n",
              "      <td>201906</td>\n",
              "      <td>249494</td>\n",
              "      <td>302.0</td>\n",
              "      <td>1355.0</td>\n",
              "      <td>1300</td>\n",
              "      <td>249494_201906</td>\n",
              "    </tr>\n",
              "    <tr>\n",
              "      <th>4</th>\n",
              "      <td>201907</td>\n",
              "      <td>131234</td>\n",
              "      <td>2130.0</td>\n",
              "      <td>10486.0</td>\n",
              "      <td>52400</td>\n",
              "      <td>131234_201907</td>\n",
              "    </tr>\n",
              "  </tbody>\n",
              "</table>\n",
              "</div>"
            ],
            "text/plain": [
              "   codmes  id_persona     cem  ingreso_neto  linea_ofrecida  prediction_id\n",
              "0  201907      123381     1.0        1340.0            2600  123381_201907\n",
              "1  201906      125277  1412.0        3166.0            4700  125277_201906\n",
              "2  201906        9564   389.0        2575.0            5100    9564_201906\n",
              "3  201906      249494   302.0        1355.0            1300  249494_201906\n",
              "4  201907      131234  2130.0       10486.0           52400  131234_201907"
            ]
          },
          "metadata": {
            "tags": []
          },
          "execution_count": 5
        }
      ]
    },
    {
      "cell_type": "code",
      "metadata": {
        "id": "A0Y92FjEDK9x",
        "colab_type": "code",
        "outputId": "f1835498-3a15-4ba4-dee3-cf88cbce41ee",
        "colab": {
          "base_uri": "https://localhost:8080/",
          "height": 297
        }
      },
      "source": [
        "test_bd.describe()"
      ],
      "execution_count": 0,
      "outputs": [
        {
          "output_type": "execute_result",
          "data": {
            "text/html": [
              "<div>\n",
              "<style scoped>\n",
              "    .dataframe tbody tr th:only-of-type {\n",
              "        vertical-align: middle;\n",
              "    }\n",
              "\n",
              "    .dataframe tbody tr th {\n",
              "        vertical-align: top;\n",
              "    }\n",
              "\n",
              "    .dataframe thead th {\n",
              "        text-align: right;\n",
              "    }\n",
              "</style>\n",
              "<table border=\"1\" class=\"dataframe\">\n",
              "  <thead>\n",
              "    <tr style=\"text-align: right;\">\n",
              "      <th></th>\n",
              "      <th>id_persona</th>\n",
              "      <th>cem</th>\n",
              "      <th>ingreso_neto</th>\n",
              "      <th>linea_ofrecida</th>\n",
              "    </tr>\n",
              "  </thead>\n",
              "  <tbody>\n",
              "    <tr>\n",
              "      <th>count</th>\n",
              "      <td>178685.000000</td>\n",
              "      <td>178685.000000</td>\n",
              "      <td>178685.000000</td>\n",
              "      <td>178685.000000</td>\n",
              "    </tr>\n",
              "    <tr>\n",
              "      <th>mean</th>\n",
              "      <td>131351.092655</td>\n",
              "      <td>873.700870</td>\n",
              "      <td>3161.657151</td>\n",
              "      <td>8475.244704</td>\n",
              "    </tr>\n",
              "    <tr>\n",
              "      <th>std</th>\n",
              "      <td>73934.985401</td>\n",
              "      <td>1065.917666</td>\n",
              "      <td>2475.833304</td>\n",
              "      <td>11288.907454</td>\n",
              "    </tr>\n",
              "    <tr>\n",
              "      <th>min</th>\n",
              "      <td>1.000000</td>\n",
              "      <td>0.000000</td>\n",
              "      <td>750.000000</td>\n",
              "      <td>700.000000</td>\n",
              "    </tr>\n",
              "    <tr>\n",
              "      <th>25%</th>\n",
              "      <td>67469.000000</td>\n",
              "      <td>331.000000</td>\n",
              "      <td>1892.000000</td>\n",
              "      <td>1600.000000</td>\n",
              "    </tr>\n",
              "    <tr>\n",
              "      <th>50%</th>\n",
              "      <td>133050.000000</td>\n",
              "      <td>651.000000</td>\n",
              "      <td>2662.000000</td>\n",
              "      <td>4200.000000</td>\n",
              "    </tr>\n",
              "    <tr>\n",
              "      <th>75%</th>\n",
              "      <td>195907.000000</td>\n",
              "      <td>1068.000000</td>\n",
              "      <td>3585.000000</td>\n",
              "      <td>10600.000000</td>\n",
              "    </tr>\n",
              "    <tr>\n",
              "      <th>max</th>\n",
              "      <td>256375.000000</td>\n",
              "      <td>76716.000000</td>\n",
              "      <td>131309.000000</td>\n",
              "      <td>100000.000000</td>\n",
              "    </tr>\n",
              "  </tbody>\n",
              "</table>\n",
              "</div>"
            ],
            "text/plain": [
              "          id_persona            cem   ingreso_neto  linea_ofrecida\n",
              "count  178685.000000  178685.000000  178685.000000   178685.000000\n",
              "mean   131351.092655     873.700870    3161.657151     8475.244704\n",
              "std     73934.985401    1065.917666    2475.833304    11288.907454\n",
              "min         1.000000       0.000000     750.000000      700.000000\n",
              "25%     67469.000000     331.000000    1892.000000     1600.000000\n",
              "50%    133050.000000     651.000000    2662.000000     4200.000000\n",
              "75%    195907.000000    1068.000000    3585.000000    10600.000000\n",
              "max    256375.000000   76716.000000  131309.000000   100000.000000"
            ]
          },
          "metadata": {
            "tags": []
          },
          "execution_count": 13
        }
      ]
    },
    {
      "cell_type": "code",
      "metadata": {
        "id": "uLnZnzqXi9wm",
        "colab_type": "code",
        "outputId": "8205a2f1-0610-4653-f058-5ddb3a448835",
        "colab": {
          "base_uri": "https://localhost:8080/",
          "height": 85
        }
      },
      "source": [
        "print('shape: {}'.format(test_bd.shape))\n",
        "print('id_persona duplicados: {}'.format(test_bd.id_persona.duplicated().sum()))\n",
        "print('prediction_id duplicados: {}'.format(test_bd.prediction_id.duplicated().sum()))\n",
        "print('filas duplicadas: {}'.format(test_bd.duplicated().sum()))"
      ],
      "execution_count": 0,
      "outputs": [
        {
          "output_type": "stream",
          "text": [
            "shape: (178685, 6)\n",
            "id_persona duplicados: 36069\n",
            "prediction_id duplicados: 0\n",
            "filas duplicadas: 0\n"
          ],
          "name": "stdout"
        }
      ]
    },
    {
      "cell_type": "code",
      "metadata": {
        "id": "bxsUwXpNtG2x",
        "colab_type": "code",
        "outputId": "dd987be4-57cc-4dad-d0cb-f4ea0438d8d2",
        "colab": {
          "base_uri": "https://localhost:8080/",
          "height": 419
        }
      },
      "source": [
        "#Filas con id_persona duplicado (ordenado de mayor a menor)\n",
        "test_bd.loc[test_bd.id_persona.duplicated(keep=False),:].sort_values(by=['id_persona'])"
      ],
      "execution_count": 0,
      "outputs": [
        {
          "output_type": "execute_result",
          "data": {
            "text/html": [
              "<div>\n",
              "<style scoped>\n",
              "    .dataframe tbody tr th:only-of-type {\n",
              "        vertical-align: middle;\n",
              "    }\n",
              "\n",
              "    .dataframe tbody tr th {\n",
              "        vertical-align: top;\n",
              "    }\n",
              "\n",
              "    .dataframe thead th {\n",
              "        text-align: right;\n",
              "    }\n",
              "</style>\n",
              "<table border=\"1\" class=\"dataframe\">\n",
              "  <thead>\n",
              "    <tr style=\"text-align: right;\">\n",
              "      <th></th>\n",
              "      <th>codmes</th>\n",
              "      <th>id_persona</th>\n",
              "      <th>cem</th>\n",
              "      <th>ingreso_neto</th>\n",
              "      <th>linea_ofrecida</th>\n",
              "      <th>prediction_id</th>\n",
              "    </tr>\n",
              "  </thead>\n",
              "  <tbody>\n",
              "    <tr>\n",
              "      <th>31016</th>\n",
              "      <td>201905</td>\n",
              "      <td>4</td>\n",
              "      <td>62.0</td>\n",
              "      <td>1700.0</td>\n",
              "      <td>1000</td>\n",
              "      <td>4_201905</td>\n",
              "    </tr>\n",
              "    <tr>\n",
              "      <th>28165</th>\n",
              "      <td>201906</td>\n",
              "      <td>4</td>\n",
              "      <td>75.0</td>\n",
              "      <td>1717.0</td>\n",
              "      <td>1000</td>\n",
              "      <td>4_201906</td>\n",
              "    </tr>\n",
              "    <tr>\n",
              "      <th>110323</th>\n",
              "      <td>201905</td>\n",
              "      <td>9</td>\n",
              "      <td>631.0</td>\n",
              "      <td>1962.0</td>\n",
              "      <td>1900</td>\n",
              "      <td>9_201905</td>\n",
              "    </tr>\n",
              "    <tr>\n",
              "      <th>115458</th>\n",
              "      <td>201906</td>\n",
              "      <td>9</td>\n",
              "      <td>2280.0</td>\n",
              "      <td>4253.0</td>\n",
              "      <td>19100</td>\n",
              "      <td>9_201906</td>\n",
              "    </tr>\n",
              "    <tr>\n",
              "      <th>65378</th>\n",
              "      <td>201907</td>\n",
              "      <td>17</td>\n",
              "      <td>456.0</td>\n",
              "      <td>1735.0</td>\n",
              "      <td>4300</td>\n",
              "      <td>17_201907</td>\n",
              "    </tr>\n",
              "    <tr>\n",
              "      <th>...</th>\n",
              "      <td>...</td>\n",
              "      <td>...</td>\n",
              "      <td>...</td>\n",
              "      <td>...</td>\n",
              "      <td>...</td>\n",
              "      <td>...</td>\n",
              "    </tr>\n",
              "    <tr>\n",
              "      <th>28950</th>\n",
              "      <td>201906</td>\n",
              "      <td>256342</td>\n",
              "      <td>512.0</td>\n",
              "      <td>2234.0</td>\n",
              "      <td>8900</td>\n",
              "      <td>256342_201906</td>\n",
              "    </tr>\n",
              "    <tr>\n",
              "      <th>37024</th>\n",
              "      <td>201907</td>\n",
              "      <td>256358</td>\n",
              "      <td>1423.0</td>\n",
              "      <td>3166.0</td>\n",
              "      <td>6300</td>\n",
              "      <td>256358_201907</td>\n",
              "    </tr>\n",
              "    <tr>\n",
              "      <th>43271</th>\n",
              "      <td>201905</td>\n",
              "      <td>256358</td>\n",
              "      <td>1125.0</td>\n",
              "      <td>3166.0</td>\n",
              "      <td>14200</td>\n",
              "      <td>256358_201905</td>\n",
              "    </tr>\n",
              "    <tr>\n",
              "      <th>63351</th>\n",
              "      <td>201905</td>\n",
              "      <td>256365</td>\n",
              "      <td>1138.0</td>\n",
              "      <td>3166.0</td>\n",
              "      <td>4700</td>\n",
              "      <td>256365_201905</td>\n",
              "    </tr>\n",
              "    <tr>\n",
              "      <th>64050</th>\n",
              "      <td>201907</td>\n",
              "      <td>256365</td>\n",
              "      <td>732.0</td>\n",
              "      <td>3166.0</td>\n",
              "      <td>7900</td>\n",
              "      <td>256365_201907</td>\n",
              "    </tr>\n",
              "  </tbody>\n",
              "</table>\n",
              "<p>67889 rows × 6 columns</p>\n",
              "</div>"
            ],
            "text/plain": [
              "        codmes  id_persona     cem  ingreso_neto  linea_ofrecida  prediction_id\n",
              "31016   201905           4    62.0        1700.0            1000       4_201905\n",
              "28165   201906           4    75.0        1717.0            1000       4_201906\n",
              "110323  201905           9   631.0        1962.0            1900       9_201905\n",
              "115458  201906           9  2280.0        4253.0           19100       9_201906\n",
              "65378   201907          17   456.0        1735.0            4300      17_201907\n",
              "...        ...         ...     ...           ...             ...            ...\n",
              "28950   201906      256342   512.0        2234.0            8900  256342_201906\n",
              "37024   201907      256358  1423.0        3166.0            6300  256358_201907\n",
              "43271   201905      256358  1125.0        3166.0           14200  256358_201905\n",
              "63351   201905      256365  1138.0        3166.0            4700  256365_201905\n",
              "64050   201907      256365   732.0        3166.0            7900  256365_201907\n",
              "\n",
              "[67889 rows x 6 columns]"
            ]
          },
          "metadata": {
            "tags": []
          },
          "execution_count": 27
        }
      ]
    },
    {
      "cell_type": "code",
      "metadata": {
        "id": "AwZ6hXlnUl5D",
        "colab_type": "code",
        "outputId": "31613be5-cd48-4e1c-8dad-49ecb4c00871",
        "colab": {
          "base_uri": "https://localhost:8080/",
          "height": 85
        }
      },
      "source": [
        "test_bd.codmes.value_counts()"
      ],
      "execution_count": 0,
      "outputs": [
        {
          "output_type": "execute_result",
          "data": {
            "text/plain": [
              "201907    61720\n",
              "201905    58595\n",
              "201906    58370\n",
              "Name: codmes, dtype: int64"
            ]
          },
          "metadata": {
            "tags": []
          },
          "execution_count": 6
        }
      ]
    },
    {
      "cell_type": "markdown",
      "metadata": {
        "id": "ZELJ0vX6ly43",
        "colab_type": "text"
      },
      "source": [
        "### train_bd\n",
        "\n",
        "codtarget es el target que se buscará predecir"
      ]
    },
    {
      "cell_type": "code",
      "metadata": {
        "id": "S9ph1Ik3f4o1",
        "colab_type": "code",
        "outputId": "7b651226-600f-4673-9c80-5c5ce76d96f4",
        "colab": {
          "base_uri": "https://localhost:8080/",
          "height": 204
        }
      },
      "source": [
        "train_bd.head()"
      ],
      "execution_count": 0,
      "outputs": [
        {
          "output_type": "execute_result",
          "data": {
            "text/html": [
              "<div>\n",
              "<style scoped>\n",
              "    .dataframe tbody tr th:only-of-type {\n",
              "        vertical-align: middle;\n",
              "    }\n",
              "\n",
              "    .dataframe tbody tr th {\n",
              "        vertical-align: top;\n",
              "    }\n",
              "\n",
              "    .dataframe thead th {\n",
              "        text-align: right;\n",
              "    }\n",
              "</style>\n",
              "<table border=\"1\" class=\"dataframe\">\n",
              "  <thead>\n",
              "    <tr style=\"text-align: right;\">\n",
              "      <th></th>\n",
              "      <th>codmes</th>\n",
              "      <th>id_persona</th>\n",
              "      <th>codtarget</th>\n",
              "      <th>margen</th>\n",
              "      <th>cem</th>\n",
              "      <th>ingreso_neto</th>\n",
              "      <th>linea_ofrecida</th>\n",
              "    </tr>\n",
              "  </thead>\n",
              "  <tbody>\n",
              "    <tr>\n",
              "      <th>0</th>\n",
              "      <td>201901</td>\n",
              "      <td>165747</td>\n",
              "      <td>0</td>\n",
              "      <td>-5.00</td>\n",
              "      <td>1.0</td>\n",
              "      <td>1781.0</td>\n",
              "      <td>1700</td>\n",
              "    </tr>\n",
              "    <tr>\n",
              "      <th>1</th>\n",
              "      <td>201903</td>\n",
              "      <td>100117</td>\n",
              "      <td>0</td>\n",
              "      <td>-5.00</td>\n",
              "      <td>478.0</td>\n",
              "      <td>2106.0</td>\n",
              "      <td>2100</td>\n",
              "    </tr>\n",
              "    <tr>\n",
              "      <th>2</th>\n",
              "      <td>201901</td>\n",
              "      <td>65751</td>\n",
              "      <td>1</td>\n",
              "      <td>342.99</td>\n",
              "      <td>687.0</td>\n",
              "      <td>3083.0</td>\n",
              "      <td>4600</td>\n",
              "    </tr>\n",
              "    <tr>\n",
              "      <th>3</th>\n",
              "      <td>201901</td>\n",
              "      <td>58047</td>\n",
              "      <td>0</td>\n",
              "      <td>-5.00</td>\n",
              "      <td>182.0</td>\n",
              "      <td>1814.0</td>\n",
              "      <td>3600</td>\n",
              "    </tr>\n",
              "    <tr>\n",
              "      <th>4</th>\n",
              "      <td>201901</td>\n",
              "      <td>113221</td>\n",
              "      <td>0</td>\n",
              "      <td>-5.00</td>\n",
              "      <td>582.0</td>\n",
              "      <td>2153.0</td>\n",
              "      <td>4300</td>\n",
              "    </tr>\n",
              "  </tbody>\n",
              "</table>\n",
              "</div>"
            ],
            "text/plain": [
              "   codmes  id_persona  codtarget  margen    cem  ingreso_neto  linea_ofrecida\n",
              "0  201901      165747          0   -5.00    1.0        1781.0            1700\n",
              "1  201903      100117          0   -5.00  478.0        2106.0            2100\n",
              "2  201901       65751          1  342.99  687.0        3083.0            4600\n",
              "3  201901       58047          0   -5.00  182.0        1814.0            3600\n",
              "4  201901      113221          0   -5.00  582.0        2153.0            4300"
            ]
          },
          "metadata": {
            "tags": []
          },
          "execution_count": 6
        }
      ]
    },
    {
      "cell_type": "code",
      "metadata": {
        "id": "8pvEp1vplpIP",
        "colab_type": "code",
        "outputId": "ae648cb8-a8b7-4872-97d1-afee18e3d54d",
        "colab": {
          "base_uri": "https://localhost:8080/",
          "height": 297
        }
      },
      "source": [
        "train_bd.describe()"
      ],
      "execution_count": 0,
      "outputs": [
        {
          "output_type": "execute_result",
          "data": {
            "text/html": [
              "<div>\n",
              "<style scoped>\n",
              "    .dataframe tbody tr th:only-of-type {\n",
              "        vertical-align: middle;\n",
              "    }\n",
              "\n",
              "    .dataframe tbody tr th {\n",
              "        vertical-align: top;\n",
              "    }\n",
              "\n",
              "    .dataframe thead th {\n",
              "        text-align: right;\n",
              "    }\n",
              "</style>\n",
              "<table border=\"1\" class=\"dataframe\">\n",
              "  <thead>\n",
              "    <tr style=\"text-align: right;\">\n",
              "      <th></th>\n",
              "      <th>codmes</th>\n",
              "      <th>id_persona</th>\n",
              "      <th>codtarget</th>\n",
              "      <th>margen</th>\n",
              "      <th>cem</th>\n",
              "      <th>ingreso_neto</th>\n",
              "      <th>linea_ofrecida</th>\n",
              "    </tr>\n",
              "  </thead>\n",
              "  <tbody>\n",
              "    <tr>\n",
              "      <th>count</th>\n",
              "      <td>212665.000000</td>\n",
              "      <td>212665.000000</td>\n",
              "      <td>212665.000000</td>\n",
              "      <td>212665.000000</td>\n",
              "      <td>212665.000000</td>\n",
              "      <td>212665.000000</td>\n",
              "      <td>212665.000000</td>\n",
              "    </tr>\n",
              "    <tr>\n",
              "      <th>mean</th>\n",
              "      <td>201902.556881</td>\n",
              "      <td>127773.211173</td>\n",
              "      <td>0.145638</td>\n",
              "      <td>7.534526</td>\n",
              "      <td>867.481424</td>\n",
              "      <td>3136.008953</td>\n",
              "      <td>8100.679002</td>\n",
              "    </tr>\n",
              "    <tr>\n",
              "      <th>std</th>\n",
              "      <td>1.149051</td>\n",
              "      <td>73075.565353</td>\n",
              "      <td>0.352743</td>\n",
              "      <td>70.209438</td>\n",
              "      <td>1075.129778</td>\n",
              "      <td>2492.327322</td>\n",
              "      <td>10970.943116</td>\n",
              "    </tr>\n",
              "    <tr>\n",
              "      <th>min</th>\n",
              "      <td>201901.000000</td>\n",
              "      <td>1.000000</td>\n",
              "      <td>0.000000</td>\n",
              "      <td>-728.990000</td>\n",
              "      <td>0.000000</td>\n",
              "      <td>653.000000</td>\n",
              "      <td>700.000000</td>\n",
              "    </tr>\n",
              "    <tr>\n",
              "      <th>25%</th>\n",
              "      <td>201901.000000</td>\n",
              "      <td>63944.000000</td>\n",
              "      <td>0.000000</td>\n",
              "      <td>-5.000000</td>\n",
              "      <td>344.000000</td>\n",
              "      <td>1889.000000</td>\n",
              "      <td>1700.000000</td>\n",
              "    </tr>\n",
              "    <tr>\n",
              "      <th>50%</th>\n",
              "      <td>201903.000000</td>\n",
              "      <td>128109.000000</td>\n",
              "      <td>0.000000</td>\n",
              "      <td>-5.000000</td>\n",
              "      <td>650.000000</td>\n",
              "      <td>2662.000000</td>\n",
              "      <td>4200.000000</td>\n",
              "    </tr>\n",
              "    <tr>\n",
              "      <th>75%</th>\n",
              "      <td>201904.000000</td>\n",
              "      <td>190473.000000</td>\n",
              "      <td>0.000000</td>\n",
              "      <td>-5.000000</td>\n",
              "      <td>1064.000000</td>\n",
              "      <td>3467.000000</td>\n",
              "      <td>9800.000000</td>\n",
              "    </tr>\n",
              "    <tr>\n",
              "      <th>max</th>\n",
              "      <td>201904.000000</td>\n",
              "      <td>256375.000000</td>\n",
              "      <td>1.000000</td>\n",
              "      <td>4687.022200</td>\n",
              "      <td>61709.000000</td>\n",
              "      <td>109531.000000</td>\n",
              "      <td>100000.000000</td>\n",
              "    </tr>\n",
              "  </tbody>\n",
              "</table>\n",
              "</div>"
            ],
            "text/plain": [
              "              codmes     id_persona  ...   ingreso_neto  linea_ofrecida\n",
              "count  212665.000000  212665.000000  ...  212665.000000   212665.000000\n",
              "mean   201902.556881  127773.211173  ...    3136.008953     8100.679002\n",
              "std         1.149051   73075.565353  ...    2492.327322    10970.943116\n",
              "min    201901.000000       1.000000  ...     653.000000      700.000000\n",
              "25%    201901.000000   63944.000000  ...    1889.000000     1700.000000\n",
              "50%    201903.000000  128109.000000  ...    2662.000000     4200.000000\n",
              "75%    201904.000000  190473.000000  ...    3467.000000     9800.000000\n",
              "max    201904.000000  256375.000000  ...  109531.000000   100000.000000\n",
              "\n",
              "[8 rows x 7 columns]"
            ]
          },
          "metadata": {
            "tags": []
          },
          "execution_count": 20
        }
      ]
    },
    {
      "cell_type": "code",
      "metadata": {
        "id": "0dXde_dXaLNq",
        "colab_type": "code",
        "outputId": "111288a2-8ced-4a5a-fcf7-41697184bc15",
        "colab": {
          "base_uri": "https://localhost:8080/",
          "height": 296
        }
      },
      "source": [
        "sns.scatterplot(x='codtarget', y=\"margen\", data=train_bd)"
      ],
      "execution_count": 0,
      "outputs": [
        {
          "output_type": "execute_result",
          "data": {
            "text/plain": [
              "<matplotlib.axes._subplots.AxesSubplot at 0x7f6a5eec4208>"
            ]
          },
          "metadata": {
            "tags": []
          },
          "execution_count": 5
        },
        {
          "output_type": "display_data",
          "data": {
            "image/png": "[encoded data removed]",
            "text/plain": [
              "<Figure size 432x288 with 1 Axes>"
            ]
          },
          "metadata": {
            "tags": []
          }
        }
      ]
    },
    {
      "cell_type": "code",
      "metadata": {
        "id": "5gMUNetu54EW",
        "colab_type": "code",
        "outputId": "7f071c91-8b7d-4725-c7ef-10bc96c1c560",
        "colab": {
          "base_uri": "https://localhost:8080/",
          "height": 296
        }
      },
      "source": [
        "sns.boxplot(x=train_bd['codmes'])"
      ],
      "execution_count": 0,
      "outputs": [
        {
          "output_type": "execute_result",
          "data": {
            "text/plain": [
              "<matplotlib.axes._subplots.AxesSubplot at 0x7f33083261d0>"
            ]
          },
          "metadata": {
            "tags": []
          },
          "execution_count": 38
        },
        {
          "output_type": "display_data",
          "data": {
            "image/png": "[encoded data removed]",
            "text/plain": [
              "<Figure size 432x288 with 1 Axes>"
            ]
          },
          "metadata": {
            "tags": []
          }
        }
      ]
    },
    {
      "cell_type": "code",
      "metadata": {
        "id": "k-BTh_ssl3HN",
        "colab_type": "code",
        "outputId": "90db933d-e334-42be-bef0-b58f0776eb96",
        "colab": {
          "base_uri": "https://localhost:8080/",
          "height": 68
        }
      },
      "source": [
        "print('shape: {}'.format(train_bd.shape))\n",
        "print('id_persona duplicados: {}'.format(train_bd.id_persona.duplicated().sum()))\n",
        "print('filas duplicadas: {}'.format(train_bd.duplicated().sum()))"
      ],
      "execution_count": 0,
      "outputs": [
        {
          "output_type": "stream",
          "text": [
            "shape: (212665, 7)\n",
            "id_persona duplicados: 46811\n",
            "filas duplicadas: 0\n"
          ],
          "name": "stdout"
        }
      ]
    },
    {
      "cell_type": "code",
      "metadata": {
        "id": "jKje1vOzbhds",
        "colab_type": "code",
        "outputId": "286a782c-38e0-45e4-a0a0-fa8d8e610843",
        "colab": {
          "base_uri": "https://localhost:8080/",
          "height": 419
        }
      },
      "source": [
        "#Personas que obtuvieron una tarjeta pero generaron un margen negativo\n",
        "train_bd[(train_bd.codtarget == 1) & (train_bd.margen < -5)].sort_values(by='margen')"
      ],
      "execution_count": 0,
      "outputs": [
        {
          "output_type": "execute_result",
          "data": {
            "text/html": [
              "<div>\n",
              "<style scoped>\n",
              "    .dataframe tbody tr th:only-of-type {\n",
              "        vertical-align: middle;\n",
              "    }\n",
              "\n",
              "    .dataframe tbody tr th {\n",
              "        vertical-align: top;\n",
              "    }\n",
              "\n",
              "    .dataframe thead th {\n",
              "        text-align: right;\n",
              "    }\n",
              "</style>\n",
              "<table border=\"1\" class=\"dataframe\">\n",
              "  <thead>\n",
              "    <tr style=\"text-align: right;\">\n",
              "      <th></th>\n",
              "      <th>codmes</th>\n",
              "      <th>id_persona</th>\n",
              "      <th>codtarget</th>\n",
              "      <th>margen</th>\n",
              "      <th>cem</th>\n",
              "      <th>ingreso_neto</th>\n",
              "      <th>linea_ofrecida</th>\n",
              "    </tr>\n",
              "  </thead>\n",
              "  <tbody>\n",
              "    <tr>\n",
              "      <th>189807</th>\n",
              "      <td>201904</td>\n",
              "      <td>104774</td>\n",
              "      <td>1</td>\n",
              "      <td>-728.99000</td>\n",
              "      <td>4434.0</td>\n",
              "      <td>8664.0</td>\n",
              "      <td>36300</td>\n",
              "    </tr>\n",
              "    <tr>\n",
              "      <th>76423</th>\n",
              "      <td>201904</td>\n",
              "      <td>197634</td>\n",
              "      <td>1</td>\n",
              "      <td>-399.51000</td>\n",
              "      <td>818.0</td>\n",
              "      <td>3083.0</td>\n",
              "      <td>13800</td>\n",
              "    </tr>\n",
              "    <tr>\n",
              "      <th>66299</th>\n",
              "      <td>201904</td>\n",
              "      <td>85159</td>\n",
              "      <td>1</td>\n",
              "      <td>-349.55000</td>\n",
              "      <td>1.0</td>\n",
              "      <td>1954.0</td>\n",
              "      <td>1000</td>\n",
              "    </tr>\n",
              "    <tr>\n",
              "      <th>64394</th>\n",
              "      <td>201903</td>\n",
              "      <td>37288</td>\n",
              "      <td>1</td>\n",
              "      <td>-340.96000</td>\n",
              "      <td>3188.0</td>\n",
              "      <td>7728.0</td>\n",
              "      <td>38600</td>\n",
              "    </tr>\n",
              "    <tr>\n",
              "      <th>121758</th>\n",
              "      <td>201901</td>\n",
              "      <td>13318</td>\n",
              "      <td>1</td>\n",
              "      <td>-221.59000</td>\n",
              "      <td>1.0</td>\n",
              "      <td>3257.0</td>\n",
              "      <td>17900</td>\n",
              "    </tr>\n",
              "    <tr>\n",
              "      <th>...</th>\n",
              "      <td>...</td>\n",
              "      <td>...</td>\n",
              "      <td>...</td>\n",
              "      <td>...</td>\n",
              "      <td>...</td>\n",
              "      <td>...</td>\n",
              "      <td>...</td>\n",
              "    </tr>\n",
              "    <tr>\n",
              "      <th>159164</th>\n",
              "      <td>201902</td>\n",
              "      <td>77669</td>\n",
              "      <td>1</td>\n",
              "      <td>-5.01000</td>\n",
              "      <td>498.0</td>\n",
              "      <td>1787.0</td>\n",
              "      <td>1700</td>\n",
              "    </tr>\n",
              "    <tr>\n",
              "      <th>85811</th>\n",
              "      <td>201904</td>\n",
              "      <td>224605</td>\n",
              "      <td>1</td>\n",
              "      <td>-5.01000</td>\n",
              "      <td>794.0</td>\n",
              "      <td>2115.0</td>\n",
              "      <td>4200</td>\n",
              "    </tr>\n",
              "    <tr>\n",
              "      <th>100662</th>\n",
              "      <td>201902</td>\n",
              "      <td>212540</td>\n",
              "      <td>1</td>\n",
              "      <td>-5.01000</td>\n",
              "      <td>1377.0</td>\n",
              "      <td>3126.0</td>\n",
              "      <td>7800</td>\n",
              "    </tr>\n",
              "    <tr>\n",
              "      <th>86992</th>\n",
              "      <td>201903</td>\n",
              "      <td>124134</td>\n",
              "      <td>1</td>\n",
              "      <td>-5.01000</td>\n",
              "      <td>570.0</td>\n",
              "      <td>1729.0</td>\n",
              "      <td>1000</td>\n",
              "    </tr>\n",
              "    <tr>\n",
              "      <th>196993</th>\n",
              "      <td>201902</td>\n",
              "      <td>229888</td>\n",
              "      <td>1</td>\n",
              "      <td>-5.00915</td>\n",
              "      <td>799.0</td>\n",
              "      <td>2524.0</td>\n",
              "      <td>10000</td>\n",
              "    </tr>\n",
              "  </tbody>\n",
              "</table>\n",
              "<p>1853 rows × 7 columns</p>\n",
              "</div>"
            ],
            "text/plain": [
              "        codmes  id_persona  codtarget  ...     cem  ingreso_neto  linea_ofrecida\n",
              "189807  201904      104774          1  ...  4434.0        8664.0           36300\n",
              "76423   201904      197634          1  ...   818.0        3083.0           13800\n",
              "66299   201904       85159          1  ...     1.0        1954.0            1000\n",
              "64394   201903       37288          1  ...  3188.0        7728.0           38600\n",
              "121758  201901       13318          1  ...     1.0        3257.0           17900\n",
              "...        ...         ...        ...  ...     ...           ...             ...\n",
              "159164  201902       77669          1  ...   498.0        1787.0            1700\n",
              "85811   201904      224605          1  ...   794.0        2115.0            4200\n",
              "100662  201902      212540          1  ...  1377.0        3126.0            7800\n",
              "86992   201903      124134          1  ...   570.0        1729.0            1000\n",
              "196993  201902      229888          1  ...   799.0        2524.0           10000\n",
              "\n",
              "[1853 rows x 7 columns]"
            ]
          },
          "metadata": {
            "tags": []
          },
          "execution_count": 7
        }
      ]
    },
    {
      "cell_type": "markdown",
      "metadata": {
        "id": "7eV32MaudAsc",
        "colab_type": "text"
      },
      "source": [
        "Hay personas que obtuvieron una tarjeta de crédito pero se espera que tengan un margen negativo. la clave para ganar está en detectar estas personas que no son rentables pero obtendrán una tarjeta"
      ]
    },
    {
      "cell_type": "code",
      "metadata": {
        "id": "49bCdcnMfh1c",
        "colab_type": "code",
        "outputId": "2398e47a-a148-4f19-ddce-c9c559252560",
        "colab": {
          "base_uri": "https://localhost:8080/",
          "height": 49
        }
      },
      "source": [
        "#Personas que no obtuvieron una tarjeta pero generaron un margen positivo\n",
        "train_bd[(train_bd.codtarget == 0) & (train_bd.margen > 0)].sort_values(by='margen')"
      ],
      "execution_count": 0,
      "outputs": [
        {
          "output_type": "execute_result",
          "data": {
            "text/html": [
              "<div>\n",
              "<style scoped>\n",
              "    .dataframe tbody tr th:only-of-type {\n",
              "        vertical-align: middle;\n",
              "    }\n",
              "\n",
              "    .dataframe tbody tr th {\n",
              "        vertical-align: top;\n",
              "    }\n",
              "\n",
              "    .dataframe thead th {\n",
              "        text-align: right;\n",
              "    }\n",
              "</style>\n",
              "<table border=\"1\" class=\"dataframe\">\n",
              "  <thead>\n",
              "    <tr style=\"text-align: right;\">\n",
              "      <th></th>\n",
              "      <th>codmes</th>\n",
              "      <th>id_persona</th>\n",
              "      <th>codtarget</th>\n",
              "      <th>margen</th>\n",
              "      <th>cem</th>\n",
              "      <th>ingreso_neto</th>\n",
              "      <th>linea_ofrecida</th>\n",
              "    </tr>\n",
              "  </thead>\n",
              "  <tbody>\n",
              "  </tbody>\n",
              "</table>\n",
              "</div>"
            ],
            "text/plain": [
              "Empty DataFrame\n",
              "Columns: [codmes, id_persona, codtarget, margen, cem, ingreso_neto, linea_ofrecida]\n",
              "Index: []"
            ]
          },
          "metadata": {
            "tags": []
          },
          "execution_count": 9
        }
      ]
    },
    {
      "cell_type": "code",
      "metadata": {
        "id": "-ruKmUqZg-RL",
        "colab_type": "code",
        "outputId": "8efae5f1-c4da-4823-b1cb-b87689386d66",
        "colab": {
          "base_uri": "https://localhost:8080/",
          "height": 49
        }
      },
      "source": [
        "#Personas que no obtuvieron una tarjeta y no generaron un margen mayor a -5\n",
        "train_bd[(train_bd.codtarget == 0) & (train_bd.margen < -5)].sort_values(by='margen')"
      ],
      "execution_count": 0,
      "outputs": [
        {
          "output_type": "execute_result",
          "data": {
            "text/html": [
              "<div>\n",
              "<style scoped>\n",
              "    .dataframe tbody tr th:only-of-type {\n",
              "        vertical-align: middle;\n",
              "    }\n",
              "\n",
              "    .dataframe tbody tr th {\n",
              "        vertical-align: top;\n",
              "    }\n",
              "\n",
              "    .dataframe thead th {\n",
              "        text-align: right;\n",
              "    }\n",
              "</style>\n",
              "<table border=\"1\" class=\"dataframe\">\n",
              "  <thead>\n",
              "    <tr style=\"text-align: right;\">\n",
              "      <th></th>\n",
              "      <th>codmes</th>\n",
              "      <th>id_persona</th>\n",
              "      <th>codtarget</th>\n",
              "      <th>margen</th>\n",
              "      <th>cem</th>\n",
              "      <th>ingreso_neto</th>\n",
              "      <th>linea_ofrecida</th>\n",
              "    </tr>\n",
              "  </thead>\n",
              "  <tbody>\n",
              "  </tbody>\n",
              "</table>\n",
              "</div>"
            ],
            "text/plain": [
              "Empty DataFrame\n",
              "Columns: [codmes, id_persona, codtarget, margen, cem, ingreso_neto, linea_ofrecida]\n",
              "Index: []"
            ]
          },
          "metadata": {
            "tags": []
          },
          "execution_count": 10
        }
      ]
    },
    {
      "cell_type": "markdown",
      "metadata": {
        "id": "bAqW-xEUhJ-G",
        "colab_type": "text"
      },
      "source": [
        "### Campanias_bd\n",
        "Personas que ya estuvieron en campanias. Las personas estuvieron en más de una campania"
      ]
    },
    {
      "cell_type": "code",
      "metadata": {
        "id": "-NeVve3Qh3Dh",
        "colab_type": "code",
        "outputId": "0de001a7-41d0-4deb-cf86-1728f2d5d8c8",
        "colab": {
          "base_uri": "https://localhost:8080/",
          "height": 204
        }
      },
      "source": [
        "campanias_bd.head()"
      ],
      "execution_count": 0,
      "outputs": [
        {
          "output_type": "execute_result",
          "data": {
            "text/html": [
              "<div>\n",
              "<style scoped>\n",
              "    .dataframe tbody tr th:only-of-type {\n",
              "        vertical-align: middle;\n",
              "    }\n",
              "\n",
              "    .dataframe tbody tr th {\n",
              "        vertical-align: top;\n",
              "    }\n",
              "\n",
              "    .dataframe thead th {\n",
              "        text-align: right;\n",
              "    }\n",
              "</style>\n",
              "<table border=\"1\" class=\"dataframe\">\n",
              "  <thead>\n",
              "    <tr style=\"text-align: right;\">\n",
              "      <th></th>\n",
              "      <th>codmes</th>\n",
              "      <th>id_persona</th>\n",
              "      <th>producto</th>\n",
              "      <th>canal_asignado</th>\n",
              "    </tr>\n",
              "  </thead>\n",
              "  <tbody>\n",
              "    <tr>\n",
              "      <th>0</th>\n",
              "      <td>201801</td>\n",
              "      <td>213598</td>\n",
              "      <td>Adelanto de Sueldo</td>\n",
              "      <td>RED DE TIENDAS</td>\n",
              "    </tr>\n",
              "    <tr>\n",
              "      <th>1</th>\n",
              "      <td>201801</td>\n",
              "      <td>237325</td>\n",
              "      <td>Adelanto de Sueldo</td>\n",
              "      <td>RED DE TIENDAS</td>\n",
              "    </tr>\n",
              "    <tr>\n",
              "      <th>2</th>\n",
              "      <td>201801</td>\n",
              "      <td>82808</td>\n",
              "      <td>Adquisición Convenios</td>\n",
              "      <td>FFVV</td>\n",
              "    </tr>\n",
              "    <tr>\n",
              "      <th>3</th>\n",
              "      <td>201801</td>\n",
              "      <td>90555</td>\n",
              "      <td>Adquisición Convenios</td>\n",
              "      <td>FFVV</td>\n",
              "    </tr>\n",
              "    <tr>\n",
              "      <th>4</th>\n",
              "      <td>201801</td>\n",
              "      <td>93408</td>\n",
              "      <td>Adquisición Convenios</td>\n",
              "      <td>FFVV</td>\n",
              "    </tr>\n",
              "  </tbody>\n",
              "</table>\n",
              "</div>"
            ],
            "text/plain": [
              "   codmes  id_persona               producto  canal_asignado\n",
              "0  201801      213598     Adelanto de Sueldo  RED DE TIENDAS\n",
              "1  201801      237325     Adelanto de Sueldo  RED DE TIENDAS\n",
              "2  201801       82808  Adquisición Convenios            FFVV\n",
              "3  201801       90555  Adquisición Convenios            FFVV\n",
              "4  201801       93408  Adquisición Convenios            FFVV"
            ]
          },
          "metadata": {
            "tags": []
          },
          "execution_count": 9
        }
      ]
    },
    {
      "cell_type": "code",
      "metadata": {
        "id": "G75B1iQOuEM7",
        "colab_type": "code",
        "outputId": "95d2c02d-a4f1-4bb8-8ae2-4120cb1b4c24",
        "colab": {
          "base_uri": "https://localhost:8080/",
          "height": 296
        }
      },
      "source": [
        "sns.boxplot(x=campanias_bd['codmes'])"
      ],
      "execution_count": 0,
      "outputs": [
        {
          "output_type": "execute_result",
          "data": {
            "text/plain": [
              "<matplotlib.axes._subplots.AxesSubplot at 0x7f330a112048>"
            ]
          },
          "metadata": {
            "tags": []
          },
          "execution_count": 35
        },
        {
          "output_type": "display_data",
          "data": {
            "image/png": "[encoded data removed]",
            "text/plain": [
              "<Figure size 432x288 with 1 Axes>"
            ]
          },
          "metadata": {
            "tags": []
          }
        }
      ]
    },
    {
      "cell_type": "code",
      "metadata": {
        "id": "eIKOywVnl_rW",
        "colab_type": "code",
        "outputId": "c2eb5edf-85cd-44cf-d56d-81feea5830c8",
        "colab": {
          "base_uri": "https://localhost:8080/",
          "height": 51
        }
      },
      "source": [
        "print('mes minimo: {}'.format(campanias_bd.codmes.min()))\n",
        "print('mes máximo: {}'.format(campanias_bd.codmes.max()))"
      ],
      "execution_count": 0,
      "outputs": [
        {
          "output_type": "stream",
          "text": [
            "mes minimo: 201801\n",
            "mes máximo: 201904\n"
          ],
          "name": "stdout"
        }
      ]
    },
    {
      "cell_type": "code",
      "metadata": {
        "id": "V78uYJ7uhN6T",
        "colab_type": "code",
        "outputId": "dd9b5ffc-2978-40c5-c177-38623ffa1a7c",
        "colab": {
          "base_uri": "https://localhost:8080/",
          "height": 68
        }
      },
      "source": [
        "print('shape: {}'.format(campanias_bd.shape))\n",
        "print('id_persona duplicados: {}'.format(campanias_bd.id_persona.duplicated().sum()))\n",
        "print('filas duplicadas: {}'.format(campanias_bd.duplicated().sum()))"
      ],
      "execution_count": 0,
      "outputs": [
        {
          "output_type": "stream",
          "text": [
            "shape: (4890317, 4)\n",
            "id_persona duplicados: 4650297\n",
            "filas duplicadas: 0\n"
          ],
          "name": "stdout"
        }
      ]
    },
    {
      "cell_type": "code",
      "metadata": {
        "id": "cABU-HsKhtrU",
        "colab_type": "code",
        "outputId": "329f770f-0ee3-4154-c02b-9f84a178e80d",
        "colab": {
          "base_uri": "https://localhost:8080/",
          "height": 34
        }
      },
      "source": [
        "campanias_bd.id_persona.nunique()"
      ],
      "execution_count": 0,
      "outputs": [
        {
          "output_type": "execute_result",
          "data": {
            "text/plain": [
              "240020"
            ]
          },
          "metadata": {
            "tags": []
          },
          "execution_count": 37
        }
      ]
    },
    {
      "cell_type": "code",
      "metadata": {
        "id": "FXcJx3joSYqy",
        "colab_type": "code",
        "outputId": "fee030c1-282d-41fe-cfac-7805cc20d1c5",
        "colab": {
          "base_uri": "https://localhost:8080/",
          "height": 1000
        }
      },
      "source": [
        "campanias_bd.producto.value_counts()"
      ],
      "execution_count": 0,
      "outputs": [
        {
          "output_type": "execute_result",
          "data": {
            "text/plain": [
              "Adquisición TC                       1446983\n",
              "Combos                                519145\n",
              "CD-Ataque                             485166\n",
              "Préstamos Personales                  442874\n",
              "Cuenta Sueldo                         326886\n",
              "Crédito Vehicular                     296455\n",
              "Cuenta Sueldo Independiente           235601\n",
              "CTS                                   166649\n",
              "Combos TC+CUENTA+APP                  137743\n",
              "Préstamo Express                      131849\n",
              "Membresia                              82481\n",
              "Retencion TC                           77674\n",
              "Cuenta Millonaria                      76703\n",
              "Adquisición Convenios                  63114\n",
              "Combos CUENTA+APP                      44392\n",
              "Combos TC + PA                         33699\n",
              "ExtraCash                              28832\n",
              "Crédito Hipotecario                    28062\n",
              "Pago Automatico                        23146\n",
              "CD Préstamos                           22658\n",
              "Depósito a Plazo                       19693\n",
              "Combos TC+PA                           18393\n",
              "Retención                              16562\n",
              "Convenios Compra Deuda No Cliente      14388\n",
              "Cuenta Millonaria SuperTasa            13928\n",
              "Incremento Linea                       12574\n",
              "CD-Defensa                             12003\n",
              "Trading                                11106\n",
              "Seguro Blindado de TC                   9947\n",
              "Cuenta Simple                           8343\n",
              "Membresía                               7569\n",
              "Upgrade                                 4924\n",
              "Seguro Oncosalud                        4585\n",
              "Certificado Bancario                    4179\n",
              "Convenios Ampliaciones                  3254\n",
              "Seguros                                 2972\n",
              "Seguro Contra Accidentes                2374\n",
              "Hipotecario                             2201\n",
              "Seguro Renta Hospitalaria               2105\n",
              "Seguro Asistencia Completa              1541\n",
              "Préstamos Reenganche                    1247\n",
              "Seguro Salud                            1226\n",
              "Seguro Vida Retorno                      931\n",
              "Seguro Dental                            908\n",
              "Upgrade TC                               744\n",
              "Seguro Accidentes REMARK                 669\n",
              "Convenios Compra Deuda Cliente           615\n",
              "Adelanto de Sueldo                       614\n",
              "ExtraCash Ataque                         333\n",
              "Seguro Vehicular                         312\n",
              "Seguro Viajes                            310\n",
              "Alcancía                                 253\n",
              "Depósito a Plazo Jubilacion              199\n",
              "Plazo                                     71\n",
              "Combos Cuenta Sueldo + APP                55\n",
              "Cartera ABP                               28\n",
              "TELEVENTAS                                 9\n",
              "Depósito a Plazo Renovacion                6\n",
              "Déposito a Plazo Renovacion                1\n",
              "Name: producto, dtype: int64"
            ]
          },
          "metadata": {
            "tags": []
          },
          "execution_count": 35
        }
      ]
    },
    {
      "cell_type": "code",
      "metadata": {
        "id": "rw0nALewenCX",
        "colab_type": "code",
        "outputId": "6659fe83-c8db-45d2-a823-2f509373b201",
        "colab": {
          "base_uri": "https://localhost:8080/",
          "height": 731
        }
      },
      "source": [
        "campanias_bd.canal_asignado.value_counts()"
      ],
      "execution_count": 0,
      "outputs": [
        {
          "output_type": "execute_result",
          "data": {
            "text/plain": [
              "RED DE TIENDAS         3185899\n",
              "TELEVENTAS              881086\n",
              "FFVV                     87220\n",
              "BOLSA                    75082\n",
              "Red de Tiendas           54875\n",
              "BANCA TELEFONICA         43754\n",
              "GT                       29948\n",
              "RED_DE_TIENDAS           27040\n",
              "BOLSA(EX-E)              21669\n",
              "CALL EXTERNO             15594\n",
              "ATM/BPI                   8993\n",
              "BOLSA(EX)                 7989\n",
              "TLV CD                    6353\n",
              "EBP                       5860\n",
              "EXPRESS                   4478\n",
              "BOLSA(EX-P)               4456\n",
              "TLV BD                    3992\n",
              "GT(EX)                    1620\n",
              "TLV                       1125\n",
              "ABP                       1094\n",
              "TLV SEGMENTOS             1048\n",
              "EBP_LIMA                  1007\n",
              "BOLSA(E)                   445\n",
              "CARTERAS                   203\n",
              "BOLSA(P)                   171\n",
              "CARTERA                    139\n",
              "TLV(EX)                    113\n",
              "BOLSA(EX-T)                 79\n",
              "EXPRESS-ABP                 29\n",
              "EBP LIMA                    24\n",
              "ER                          13\n",
              "AC_PROV                      9\n",
              "CAV                          8\n",
              "GT_CAV                       4\n",
              "BOLSA(T)                     3\n",
              "S1P                          3\n",
              "EBP PROVINCIA                3\n",
              "SOMOS_UNO_PROVINCIA          2\n",
              "EXPRESS ABP                  2\n",
              "EBP VENTA                    1\n",
              "CARTERA_PRO                  1\n",
              "Name: canal_asignado, dtype: int64"
            ]
          },
          "metadata": {
            "tags": []
          },
          "execution_count": 36
        }
      ]
    },
    {
      "cell_type": "markdown",
      "metadata": {
        "id": "PFBvXk8fgqqo",
        "colab_type": "text"
      },
      "source": [
        "El dataset de campanias es un distractor, puede resultar en ruido para el modelo. Por ese motivo no se usará para el modelo"
      ]
    },
    {
      "cell_type": "markdown",
      "metadata": {
        "id": "eQ5qaC2agVwr",
        "colab_type": "text"
      },
      "source": [
        "### digital_bd\n",
        "Actividad digital de las personas. Muchas filas duplicadas. Puede haber varios registros por persona en diferentes días"
      ]
    },
    {
      "cell_type": "code",
      "metadata": {
        "id": "CIdro8imkrPx",
        "colab_type": "code",
        "outputId": "0798df79-2892-4cc9-ad6e-f1a334d156b5",
        "colab": {
          "base_uri": "https://localhost:8080/",
          "height": 309
        }
      },
      "source": [
        "digital_bd.head()"
      ],
      "execution_count": 0,
      "outputs": [
        {
          "output_type": "execute_result",
          "data": {
            "text/html": [
              "<div>\n",
              "<style scoped>\n",
              "    .dataframe tbody tr th:only-of-type {\n",
              "        vertical-align: middle;\n",
              "    }\n",
              "\n",
              "    .dataframe tbody tr th {\n",
              "        vertical-align: top;\n",
              "    }\n",
              "\n",
              "    .dataframe thead th {\n",
              "        text-align: right;\n",
              "    }\n",
              "</style>\n",
              "<table border=\"1\" class=\"dataframe\">\n",
              "  <thead>\n",
              "    <tr style=\"text-align: right;\">\n",
              "      <th></th>\n",
              "      <th>codday</th>\n",
              "      <th>id_persona</th>\n",
              "      <th>simu_prestamo</th>\n",
              "      <th>benefit</th>\n",
              "      <th>email</th>\n",
              "      <th>facebook</th>\n",
              "      <th>goog</th>\n",
              "      <th>youtb</th>\n",
              "      <th>compb</th>\n",
              "      <th>movil</th>\n",
              "      <th>desktop</th>\n",
              "      <th>n_rep30</th>\n",
              "      <th>recencia</th>\n",
              "      <th>lima_dig</th>\n",
              "      <th>provincia_dig</th>\n",
              "      <th>extranjero_dig</th>\n",
              "      <th>time_ctasimple</th>\n",
              "      <th>time_mllp</th>\n",
              "      <th>time_mllst</th>\n",
              "      <th>time_ctasld</th>\n",
              "      <th>time_tc</th>\n",
              "      <th>n_sesion</th>\n",
              "      <th>busqtc</th>\n",
              "      <th>busqvisa</th>\n",
              "      <th>busqamex</th>\n",
              "      <th>busqmc</th>\n",
              "      <th>busqcsimp</th>\n",
              "      <th>busqmill</th>\n",
              "      <th>busqcsld</th>\n",
              "      <th>busq</th>\n",
              "      <th>n_pag</th>\n",
              "      <th>android</th>\n",
              "      <th>iphone</th>\n",
              "    </tr>\n",
              "  </thead>\n",
              "  <tbody>\n",
              "    <tr>\n",
              "      <th>0</th>\n",
              "      <td>2018-12-04</td>\n",
              "      <td>99258</td>\n",
              "      <td>0.0</td>\n",
              "      <td>0</td>\n",
              "      <td>0</td>\n",
              "      <td>1</td>\n",
              "      <td>0</td>\n",
              "      <td>0</td>\n",
              "      <td>0</td>\n",
              "      <td>1</td>\n",
              "      <td>0</td>\n",
              "      <td>1</td>\n",
              "      <td>1.0</td>\n",
              "      <td>0</td>\n",
              "      <td>1</td>\n",
              "      <td>0</td>\n",
              "      <td>0.0</td>\n",
              "      <td>0.0</td>\n",
              "      <td>0.0</td>\n",
              "      <td>0.0</td>\n",
              "      <td>0.0</td>\n",
              "      <td>1</td>\n",
              "      <td>0</td>\n",
              "      <td>0</td>\n",
              "      <td>0</td>\n",
              "      <td>0</td>\n",
              "      <td>0</td>\n",
              "      <td>0</td>\n",
              "      <td>0</td>\n",
              "      <td>0</td>\n",
              "      <td>2</td>\n",
              "      <td>8.0</td>\n",
              "      <td>NaN</td>\n",
              "    </tr>\n",
              "    <tr>\n",
              "      <th>1</th>\n",
              "      <td>2018-11-02</td>\n",
              "      <td>99258</td>\n",
              "      <td>0.0</td>\n",
              "      <td>0</td>\n",
              "      <td>0</td>\n",
              "      <td>1</td>\n",
              "      <td>0</td>\n",
              "      <td>0</td>\n",
              "      <td>0</td>\n",
              "      <td>1</td>\n",
              "      <td>0</td>\n",
              "      <td>0</td>\n",
              "      <td>100.0</td>\n",
              "      <td>1</td>\n",
              "      <td>0</td>\n",
              "      <td>0</td>\n",
              "      <td>0.0</td>\n",
              "      <td>0.0</td>\n",
              "      <td>0.0</td>\n",
              "      <td>0.0</td>\n",
              "      <td>0.0</td>\n",
              "      <td>1</td>\n",
              "      <td>0</td>\n",
              "      <td>0</td>\n",
              "      <td>0</td>\n",
              "      <td>0</td>\n",
              "      <td>0</td>\n",
              "      <td>0</td>\n",
              "      <td>0</td>\n",
              "      <td>0</td>\n",
              "      <td>2</td>\n",
              "      <td>8.0</td>\n",
              "      <td>NaN</td>\n",
              "    </tr>\n",
              "    <tr>\n",
              "      <th>2</th>\n",
              "      <td>2018-12-03</td>\n",
              "      <td>99258</td>\n",
              "      <td>0.0</td>\n",
              "      <td>0</td>\n",
              "      <td>0</td>\n",
              "      <td>2</td>\n",
              "      <td>0</td>\n",
              "      <td>0</td>\n",
              "      <td>0</td>\n",
              "      <td>2</td>\n",
              "      <td>0</td>\n",
              "      <td>1</td>\n",
              "      <td>8.0</td>\n",
              "      <td>0</td>\n",
              "      <td>1</td>\n",
              "      <td>0</td>\n",
              "      <td>0.0</td>\n",
              "      <td>0.0</td>\n",
              "      <td>0.0</td>\n",
              "      <td>0.0</td>\n",
              "      <td>0.0</td>\n",
              "      <td>2</td>\n",
              "      <td>0</td>\n",
              "      <td>0</td>\n",
              "      <td>0</td>\n",
              "      <td>0</td>\n",
              "      <td>0</td>\n",
              "      <td>0</td>\n",
              "      <td>0</td>\n",
              "      <td>0</td>\n",
              "      <td>4</td>\n",
              "      <td>8.0</td>\n",
              "      <td>NaN</td>\n",
              "    </tr>\n",
              "    <tr>\n",
              "      <th>3</th>\n",
              "      <td>2018-11-18</td>\n",
              "      <td>99258</td>\n",
              "      <td>0.0</td>\n",
              "      <td>0</td>\n",
              "      <td>0</td>\n",
              "      <td>1</td>\n",
              "      <td>0</td>\n",
              "      <td>0</td>\n",
              "      <td>0</td>\n",
              "      <td>1</td>\n",
              "      <td>0</td>\n",
              "      <td>1</td>\n",
              "      <td>8.0</td>\n",
              "      <td>1</td>\n",
              "      <td>0</td>\n",
              "      <td>0</td>\n",
              "      <td>0.0</td>\n",
              "      <td>0.0</td>\n",
              "      <td>0.0</td>\n",
              "      <td>0.0</td>\n",
              "      <td>0.0</td>\n",
              "      <td>1</td>\n",
              "      <td>0</td>\n",
              "      <td>0</td>\n",
              "      <td>0</td>\n",
              "      <td>0</td>\n",
              "      <td>0</td>\n",
              "      <td>0</td>\n",
              "      <td>0</td>\n",
              "      <td>0</td>\n",
              "      <td>1</td>\n",
              "      <td>8.0</td>\n",
              "      <td>NaN</td>\n",
              "    </tr>\n",
              "    <tr>\n",
              "      <th>4</th>\n",
              "      <td>2019-04-02</td>\n",
              "      <td>147297</td>\n",
              "      <td>0.0</td>\n",
              "      <td>0</td>\n",
              "      <td>0</td>\n",
              "      <td>1</td>\n",
              "      <td>0</td>\n",
              "      <td>0</td>\n",
              "      <td>0</td>\n",
              "      <td>1</td>\n",
              "      <td>0</td>\n",
              "      <td>0</td>\n",
              "      <td>100.0</td>\n",
              "      <td>0</td>\n",
              "      <td>1</td>\n",
              "      <td>0</td>\n",
              "      <td>0.0</td>\n",
              "      <td>0.0</td>\n",
              "      <td>0.0</td>\n",
              "      <td>0.0</td>\n",
              "      <td>0.0</td>\n",
              "      <td>1</td>\n",
              "      <td>0</td>\n",
              "      <td>0</td>\n",
              "      <td>0</td>\n",
              "      <td>0</td>\n",
              "      <td>0</td>\n",
              "      <td>0</td>\n",
              "      <td>0</td>\n",
              "      <td>0</td>\n",
              "      <td>5</td>\n",
              "      <td>8.0</td>\n",
              "      <td>NaN</td>\n",
              "    </tr>\n",
              "  </tbody>\n",
              "</table>\n",
              "</div>"
            ],
            "text/plain": [
              "      codday  id_persona  simu_prestamo  benefit  ...  busq  n_pag  android  iphone\n",
              "0 2018-12-04       99258            0.0        0  ...     0      2      8.0     NaN\n",
              "1 2018-11-02       99258            0.0        0  ...     0      2      8.0     NaN\n",
              "2 2018-12-03       99258            0.0        0  ...     0      4      8.0     NaN\n",
              "3 2018-11-18       99258            0.0        0  ...     0      1      8.0     NaN\n",
              "4 2019-04-02      147297            0.0        0  ...     0      5      8.0     NaN\n",
              "\n",
              "[5 rows x 33 columns]"
            ]
          },
          "metadata": {
            "tags": []
          },
          "execution_count": 7
        }
      ]
    },
    {
      "cell_type": "code",
      "metadata": {
        "id": "kqfHfAOGesnE",
        "colab_type": "code",
        "outputId": "e0fa9dc8-3e25-4122-c796-68ad5ecfbda6",
        "colab": {
          "base_uri": "https://localhost:8080/",
          "height": 68
        }
      },
      "source": [
        "print('shape: {}'.format(digital_bd.shape))\n",
        "print('id_persona duplicados: {}'.format(digital_bd.id_persona.duplicated().sum()))\n",
        "print('filas duplicadas: {}'.format(digital_bd.duplicated().sum()))"
      ],
      "execution_count": 0,
      "outputs": [
        {
          "output_type": "stream",
          "text": [
            "shape: (171728, 33)\n",
            "id_persona duplicados: 148636\n",
            "filas duplicadas: 111449\n"
          ],
          "name": "stdout"
        }
      ]
    },
    {
      "cell_type": "code",
      "metadata": {
        "id": "SK74WLQUjFsT",
        "colab_type": "code",
        "outputId": "e14c0884-150e-43c6-e18e-387ddc9970a8",
        "colab": {
          "base_uri": "https://localhost:8080/",
          "height": 595
        }
      },
      "source": [
        "digital_bd.nunique()"
      ],
      "execution_count": 0,
      "outputs": [
        {
          "output_type": "execute_result",
          "data": {
            "text/plain": [
              "codday              170\n",
              "id_persona        23092\n",
              "simu_prestamo         5\n",
              "benefit              10\n",
              "email                 9\n",
              "facebook              7\n",
              "goog                 11\n",
              "youtb                 3\n",
              "compb                 4\n",
              "movil                11\n",
              "desktop              13\n",
              "n_rep30               2\n",
              "recencia              5\n",
              "lima_dig              2\n",
              "provincia_dig         2\n",
              "extranjero_dig        2\n",
              "time_ctasimple      254\n",
              "time_mllp             1\n",
              "time_mllst            1\n",
              "time_ctasld           1\n",
              "time_tc               1\n",
              "n_sesion             13\n",
              "busqtc                2\n",
              "busqvisa              2\n",
              "busqamex              1\n",
              "busqmc                1\n",
              "busqcsimp             2\n",
              "busqmill              2\n",
              "busqcsld              2\n",
              "busq                  2\n",
              "n_pag               140\n",
              "android               6\n",
              "iphone                5\n",
              "dtype: int64"
            ]
          },
          "metadata": {
            "tags": []
          },
          "execution_count": 41
        }
      ]
    },
    {
      "cell_type": "code",
      "metadata": {
        "id": "Vuy_PBH640-a",
        "colab_type": "code",
        "outputId": "88539e0c-fc1e-4262-f983-6c0c767bb0af",
        "colab": {
          "base_uri": "https://localhost:8080/",
          "height": 595
        }
      },
      "source": [
        "digital_bd.dtypes"
      ],
      "execution_count": 0,
      "outputs": [
        {
          "output_type": "execute_result",
          "data": {
            "text/plain": [
              "codday            datetime64[ns]\n",
              "id_persona                 int64\n",
              "simu_prestamo            float64\n",
              "benefit                    int64\n",
              "email                      int64\n",
              "facebook                   int64\n",
              "goog                       int64\n",
              "youtb                      int64\n",
              "compb                      int64\n",
              "movil                      int64\n",
              "desktop                    int64\n",
              "n_rep30                    int64\n",
              "recencia                 float64\n",
              "lima_dig                   int64\n",
              "provincia_dig              int64\n",
              "extranjero_dig             int64\n",
              "time_ctasimple           float64\n",
              "time_mllp                float64\n",
              "time_mllst               float64\n",
              "time_ctasld              float64\n",
              "time_tc                  float64\n",
              "n_sesion                   int64\n",
              "busqtc                     int64\n",
              "busqvisa                   int64\n",
              "busqamex                   int64\n",
              "busqmc                     int64\n",
              "busqcsimp                  int64\n",
              "busqmill                   int64\n",
              "busqcsld                   int64\n",
              "busq                       int64\n",
              "n_pag                      int64\n",
              "android                  float64\n",
              "iphone                   float64\n",
              "dtype: object"
            ]
          },
          "metadata": {
            "tags": []
          },
          "execution_count": 6
        }
      ]
    },
    {
      "cell_type": "markdown",
      "metadata": {
        "id": "Lnz9Jul3TX-O",
        "colab_type": "text"
      },
      "source": [
        "####codday"
      ]
    },
    {
      "cell_type": "markdown",
      "metadata": {
        "id": "6D01eUbm-LPi",
        "colab_type": "text"
      },
      "source": [
        "Después de eliminar filas duplicadas\n",
        "\n",
        "---\n",
        "\n"
      ]
    },
    {
      "cell_type": "code",
      "metadata": {
        "id": "MNtAfybiDcrT",
        "colab_type": "code",
        "outputId": "9f036015-dcb3-4845-cee3-d2cad802b215",
        "colab": {
          "base_uri": "https://localhost:8080/",
          "height": 296
        }
      },
      "source": [
        "sns.boxplot(x=digital_bd['codday'])"
      ],
      "execution_count": 0,
      "outputs": [
        {
          "output_type": "execute_result",
          "data": {
            "text/plain": [
              "<matplotlib.axes._subplots.AxesSubplot at 0x7fbb09a18c18>"
            ]
          },
          "metadata": {
            "tags": []
          },
          "execution_count": 26
        },
        {
          "output_type": "display_data",
          "data": {
            "image/png": "[encoded data removed]",
            "text/plain": [
              "<Figure size 432x288 with 1 Axes>"
            ]
          },
          "metadata": {
            "tags": []
          }
        }
      ]
    },
    {
      "cell_type": "code",
      "metadata": {
        "id": "0p1ZKCyc5Bh8",
        "colab_type": "code",
        "outputId": "68bc3137-f269-447f-f6c2-ee14ac8f8604",
        "colab": {
          "base_uri": "https://localhost:8080/",
          "height": 296
        }
      },
      "source": [
        "sns.boxplot(x=digital_bd['codday'], showfliers=False)"
      ],
      "execution_count": 0,
      "outputs": [
        {
          "output_type": "execute_result",
          "data": {
            "text/plain": [
              "<matplotlib.axes._subplots.AxesSubplot at 0x7fbb09475080>"
            ]
          },
          "metadata": {
            "tags": []
          },
          "execution_count": 27
        },
        {
          "output_type": "display_data",
          "data": {
            "image/png": "[encoded data removed]",
            "text/plain": [
              "<Figure size 432x288 with 1 Axes>"
            ]
          },
          "metadata": {
            "tags": []
          }
        }
      ]
    },
    {
      "cell_type": "code",
      "metadata": {
        "id": "ifdpjgLK-az5",
        "colab_type": "code",
        "outputId": "e434d63a-7870-4276-9ff2-5f1d748f0732",
        "colab": {
          "base_uri": "https://localhost:8080/",
          "height": 34
        }
      },
      "source": [
        "digital_bd.codday.dtypes"
      ],
      "execution_count": 0,
      "outputs": [
        {
          "output_type": "execute_result",
          "data": {
            "text/plain": [
              "dtype('int64')"
            ]
          },
          "metadata": {
            "tags": []
          },
          "execution_count": 48
        }
      ]
    },
    {
      "cell_type": "code",
      "metadata": {
        "id": "SkGt17AEo2yA",
        "colab_type": "code",
        "outputId": "c6a7facc-7da1-4c48-c6d6-a2b88fadb458",
        "colab": {
          "base_uri": "https://localhost:8080/",
          "height": 51
        }
      },
      "source": [
        "print('mes minimo: {}'.format(digital_bd.codday.min()))\n",
        "print('mes máximo: {}'.format(digital_bd.codday.max()))"
      ],
      "execution_count": 0,
      "outputs": [
        {
          "output_type": "stream",
          "text": [
            "mes minimo: 20181101\n",
            "mes máximo: 20190423\n"
          ],
          "name": "stdout"
        }
      ]
    },
    {
      "cell_type": "markdown",
      "metadata": {
        "id": "2hJAxjk8TsKf",
        "colab_type": "text"
      },
      "source": [
        "####variables categoricas"
      ]
    },
    {
      "cell_type": "code",
      "metadata": {
        "id": "fP_U7UYVTTOl",
        "colab_type": "code",
        "outputId": "0962775c-573a-4ba5-e827-8bd8d286bf9f",
        "colab": {
          "base_uri": "https://localhost:8080/",
          "height": 119
        }
      },
      "source": [
        "#recencia\n",
        "digital_bd.recencia.value_counts()"
      ],
      "execution_count": 0,
      "outputs": [
        {
          "output_type": "execute_result",
          "data": {
            "text/plain": [
              "100.0    21491\n",
              "6.0      15034\n",
              "8.0       8691\n",
              "1.0       7959\n",
              "30.0      6561\n",
              "Name: recencia, dtype: int64"
            ]
          },
          "metadata": {
            "tags": []
          },
          "execution_count": 10
        }
      ]
    },
    {
      "cell_type": "code",
      "metadata": {
        "id": "4OdZBKUP8udL",
        "colab_type": "code",
        "outputId": "a0737f1c-4662-4930-ad73-cecd34208a0a",
        "colab": {
          "base_uri": "https://localhost:8080/",
          "height": 136
        }
      },
      "source": [
        "digital_bd.android.value_counts()"
      ],
      "execution_count": 0,
      "outputs": [
        {
          "output_type": "execute_result",
          "data": {
            "text/plain": [
              "8.0    39470\n",
              "7.0    17104\n",
              "6.0    13301\n",
              "5.0     5033\n",
              "9.0     3557\n",
              "4.0     1407\n",
              "Name: android, dtype: int64"
            ]
          },
          "metadata": {
            "tags": []
          },
          "execution_count": 7
        }
      ]
    },
    {
      "cell_type": "code",
      "metadata": {
        "id": "VwY2QZt-8uUl",
        "colab_type": "code",
        "outputId": "c79765f9-2449-41b1-ab4a-86c12a785921",
        "colab": {
          "base_uri": "https://localhost:8080/",
          "height": 119
        }
      },
      "source": [
        "digital_bd.iphone.value_counts()"
      ],
      "execution_count": 0,
      "outputs": [
        {
          "output_type": "execute_result",
          "data": {
            "text/plain": [
              "12.0    7267\n",
              "11.0     819\n",
              "10.0     272\n",
              "9.0       28\n",
              "7.0        2\n",
              "Name: iphone, dtype: int64"
            ]
          },
          "metadata": {
            "tags": []
          },
          "execution_count": 8
        }
      ]
    },
    {
      "cell_type": "markdown",
      "metadata": {
        "id": "iSItfE2kUnw6",
        "colab_type": "text"
      },
      "source": [
        "####variables numericas"
      ]
    },
    {
      "cell_type": "code",
      "metadata": {
        "id": "pJyi1OfsHZ57",
        "colab_type": "code",
        "outputId": "12d070c5-fcef-479c-fb45-1cb6b0720a2d",
        "colab": {
          "base_uri": "https://localhost:8080/",
          "height": 297
        }
      },
      "source": [
        "#tiempos\n",
        "df = digital_bd.loc[:,'time_ctasimple':'time_tc']\n",
        "df.describe()"
      ],
      "execution_count": 0,
      "outputs": [
        {
          "output_type": "execute_result",
          "data": {
            "text/html": [
              "<div>\n",
              "<style scoped>\n",
              "    .dataframe tbody tr th:only-of-type {\n",
              "        vertical-align: middle;\n",
              "    }\n",
              "\n",
              "    .dataframe tbody tr th {\n",
              "        vertical-align: top;\n",
              "    }\n",
              "\n",
              "    .dataframe thead th {\n",
              "        text-align: right;\n",
              "    }\n",
              "</style>\n",
              "<table border=\"1\" class=\"dataframe\">\n",
              "  <thead>\n",
              "    <tr style=\"text-align: right;\">\n",
              "      <th></th>\n",
              "      <th>time_ctasimple</th>\n",
              "      <th>time_mllp</th>\n",
              "      <th>time_mllst</th>\n",
              "      <th>time_ctasld</th>\n",
              "      <th>time_tc</th>\n",
              "    </tr>\n",
              "  </thead>\n",
              "  <tbody>\n",
              "    <tr>\n",
              "      <th>count</th>\n",
              "      <td>171600.000000</td>\n",
              "      <td>171728.0</td>\n",
              "      <td>171728.0</td>\n",
              "      <td>171728.0</td>\n",
              "      <td>171728.0</td>\n",
              "    </tr>\n",
              "    <tr>\n",
              "      <th>mean</th>\n",
              "      <td>1.277121</td>\n",
              "      <td>0.0</td>\n",
              "      <td>0.0</td>\n",
              "      <td>0.0</td>\n",
              "      <td>0.0</td>\n",
              "    </tr>\n",
              "    <tr>\n",
              "      <th>std</th>\n",
              "      <td>26.212897</td>\n",
              "      <td>0.0</td>\n",
              "      <td>0.0</td>\n",
              "      <td>0.0</td>\n",
              "      <td>0.0</td>\n",
              "    </tr>\n",
              "    <tr>\n",
              "      <th>min</th>\n",
              "      <td>0.000000</td>\n",
              "      <td>0.0</td>\n",
              "      <td>0.0</td>\n",
              "      <td>0.0</td>\n",
              "      <td>0.0</td>\n",
              "    </tr>\n",
              "    <tr>\n",
              "      <th>25%</th>\n",
              "      <td>0.000000</td>\n",
              "      <td>0.0</td>\n",
              "      <td>0.0</td>\n",
              "      <td>0.0</td>\n",
              "      <td>0.0</td>\n",
              "    </tr>\n",
              "    <tr>\n",
              "      <th>50%</th>\n",
              "      <td>0.000000</td>\n",
              "      <td>0.0</td>\n",
              "      <td>0.0</td>\n",
              "      <td>0.0</td>\n",
              "      <td>0.0</td>\n",
              "    </tr>\n",
              "    <tr>\n",
              "      <th>75%</th>\n",
              "      <td>0.000000</td>\n",
              "      <td>0.0</td>\n",
              "      <td>0.0</td>\n",
              "      <td>0.0</td>\n",
              "      <td>0.0</td>\n",
              "    </tr>\n",
              "    <tr>\n",
              "      <th>max</th>\n",
              "      <td>1953.000000</td>\n",
              "      <td>0.0</td>\n",
              "      <td>0.0</td>\n",
              "      <td>0.0</td>\n",
              "      <td>0.0</td>\n",
              "    </tr>\n",
              "  </tbody>\n",
              "</table>\n",
              "</div>"
            ],
            "text/plain": [
              "       time_ctasimple  time_mllp  time_mllst  time_ctasld   time_tc\n",
              "count   171600.000000   171728.0    171728.0     171728.0  171728.0\n",
              "mean         1.277121        0.0         0.0          0.0       0.0\n",
              "std         26.212897        0.0         0.0          0.0       0.0\n",
              "min          0.000000        0.0         0.0          0.0       0.0\n",
              "25%          0.000000        0.0         0.0          0.0       0.0\n",
              "50%          0.000000        0.0         0.0          0.0       0.0\n",
              "75%          0.000000        0.0         0.0          0.0       0.0\n",
              "max       1953.000000        0.0         0.0          0.0       0.0"
            ]
          },
          "metadata": {
            "tags": []
          },
          "execution_count": 25
        }
      ]
    },
    {
      "cell_type": "markdown",
      "metadata": {
        "id": "PtbBook8YfPI",
        "colab_type": "text"
      },
      "source": [
        "Se hará drop a time_mllp,\ttime_mllst,\ttime_ctasld, time_tc ya que tienen valores = 0"
      ]
    },
    {
      "cell_type": "code",
      "metadata": {
        "id": "bWwGvW__cJXk",
        "colab_type": "code",
        "outputId": "b3efc4e7-6fb3-4d2e-eecf-a10c51b8c523",
        "colab": {
          "base_uri": "https://localhost:8080/",
          "height": 54
        }
      },
      "source": [
        "top_10 = Counter(digital_bd.time_ctasimple).most_common(10)\n",
        "print(top_10)"
      ],
      "execution_count": 0,
      "outputs": [
        {
          "output_type": "stream",
          "text": [
            "[(0.0, 170019), (7.0, 33), (5.0, 27), (3.0, 26), (42.0, 26), (4.0, 26), (16.0, 25), (31.0, 25), (44.0, 24), (92.0, 23)]\n"
          ],
          "name": "stdout"
        }
      ]
    },
    {
      "cell_type": "code",
      "metadata": {
        "id": "mg45DBIfese7",
        "colab_type": "code",
        "outputId": "bfb9a481-c764-424f-a0b1-09a1d92c5592",
        "colab": {
          "base_uri": "https://localhost:8080/",
          "height": 317
        }
      },
      "source": [
        "#Numeros de veces 1\n",
        "df = digital_bd.loc[:,'simu_prestamo':'desktop']\n",
        "df.describe()"
      ],
      "execution_count": 0,
      "outputs": [
        {
          "output_type": "execute_result",
          "data": {
            "text/html": [
              "<div>\n",
              "<style scoped>\n",
              "    .dataframe tbody tr th:only-of-type {\n",
              "        vertical-align: middle;\n",
              "    }\n",
              "\n",
              "    .dataframe tbody tr th {\n",
              "        vertical-align: top;\n",
              "    }\n",
              "\n",
              "    .dataframe thead th {\n",
              "        text-align: right;\n",
              "    }\n",
              "</style>\n",
              "<table border=\"1\" class=\"dataframe\">\n",
              "  <thead>\n",
              "    <tr style=\"text-align: right;\">\n",
              "      <th></th>\n",
              "      <th>simu_prestamo</th>\n",
              "      <th>benefit</th>\n",
              "      <th>email</th>\n",
              "      <th>facebook</th>\n",
              "      <th>goog</th>\n",
              "      <th>youtb</th>\n",
              "      <th>compb</th>\n",
              "      <th>movil</th>\n",
              "      <th>desktop</th>\n",
              "    </tr>\n",
              "  </thead>\n",
              "  <tbody>\n",
              "    <tr>\n",
              "      <th>count</th>\n",
              "      <td>171581.000000</td>\n",
              "      <td>171728.00000</td>\n",
              "      <td>171728.000000</td>\n",
              "      <td>171728.000000</td>\n",
              "      <td>171728.000000</td>\n",
              "      <td>171728.000000</td>\n",
              "      <td>171728.000000</td>\n",
              "      <td>171728.000000</td>\n",
              "      <td>171728.000000</td>\n",
              "    </tr>\n",
              "    <tr>\n",
              "      <th>mean</th>\n",
              "      <td>0.024752</td>\n",
              "      <td>0.02398</td>\n",
              "      <td>0.162589</td>\n",
              "      <td>0.210781</td>\n",
              "      <td>0.415739</td>\n",
              "      <td>0.001322</td>\n",
              "      <td>0.006726</td>\n",
              "      <td>0.641270</td>\n",
              "      <td>0.669640</td>\n",
              "    </tr>\n",
              "    <tr>\n",
              "      <th>std</th>\n",
              "      <td>0.166348</td>\n",
              "      <td>0.19630</td>\n",
              "      <td>0.428365</td>\n",
              "      <td>0.470080</td>\n",
              "      <td>0.659004</td>\n",
              "      <td>0.037594</td>\n",
              "      <td>0.086511</td>\n",
              "      <td>0.726407</td>\n",
              "      <td>0.948437</td>\n",
              "    </tr>\n",
              "    <tr>\n",
              "      <th>min</th>\n",
              "      <td>0.000000</td>\n",
              "      <td>0.00000</td>\n",
              "      <td>0.000000</td>\n",
              "      <td>0.000000</td>\n",
              "      <td>0.000000</td>\n",
              "      <td>0.000000</td>\n",
              "      <td>0.000000</td>\n",
              "      <td>0.000000</td>\n",
              "      <td>0.000000</td>\n",
              "    </tr>\n",
              "    <tr>\n",
              "      <th>25%</th>\n",
              "      <td>0.000000</td>\n",
              "      <td>0.00000</td>\n",
              "      <td>0.000000</td>\n",
              "      <td>0.000000</td>\n",
              "      <td>0.000000</td>\n",
              "      <td>0.000000</td>\n",
              "      <td>0.000000</td>\n",
              "      <td>0.000000</td>\n",
              "      <td>0.000000</td>\n",
              "    </tr>\n",
              "    <tr>\n",
              "      <th>50%</th>\n",
              "      <td>0.000000</td>\n",
              "      <td>0.00000</td>\n",
              "      <td>0.000000</td>\n",
              "      <td>0.000000</td>\n",
              "      <td>0.000000</td>\n",
              "      <td>0.000000</td>\n",
              "      <td>0.000000</td>\n",
              "      <td>1.000000</td>\n",
              "      <td>0.000000</td>\n",
              "    </tr>\n",
              "    <tr>\n",
              "      <th>75%</th>\n",
              "      <td>0.000000</td>\n",
              "      <td>0.00000</td>\n",
              "      <td>0.000000</td>\n",
              "      <td>0.000000</td>\n",
              "      <td>1.000000</td>\n",
              "      <td>0.000000</td>\n",
              "      <td>0.000000</td>\n",
              "      <td>1.000000</td>\n",
              "      <td>1.000000</td>\n",
              "    </tr>\n",
              "    <tr>\n",
              "      <th>max</th>\n",
              "      <td>4.000000</td>\n",
              "      <td>9.00000</td>\n",
              "      <td>10.000000</td>\n",
              "      <td>6.000000</td>\n",
              "      <td>10.000000</td>\n",
              "      <td>2.000000</td>\n",
              "      <td>3.000000</td>\n",
              "      <td>10.000000</td>\n",
              "      <td>13.000000</td>\n",
              "    </tr>\n",
              "  </tbody>\n",
              "</table>\n",
              "</div>"
            ],
            "text/plain": [
              "       simu_prestamo       benefit  ...          movil        desktop\n",
              "count  171581.000000  171728.00000  ...  171728.000000  171728.000000\n",
              "mean        0.024752       0.02398  ...       0.641270       0.669640\n",
              "std         0.166348       0.19630  ...       0.726407       0.948437\n",
              "min         0.000000       0.00000  ...       0.000000       0.000000\n",
              "25%         0.000000       0.00000  ...       0.000000       0.000000\n",
              "50%         0.000000       0.00000  ...       1.000000       0.000000\n",
              "75%         0.000000       0.00000  ...       1.000000       1.000000\n",
              "max         4.000000       9.00000  ...      10.000000      13.000000\n",
              "\n",
              "[8 rows x 9 columns]"
            ]
          },
          "metadata": {
            "tags": []
          },
          "execution_count": 34
        }
      ]
    },
    {
      "cell_type": "code",
      "metadata": {
        "id": "Leo7iE5ohKSp",
        "colab_type": "code",
        "outputId": "7fbc0a5b-68dc-4a2b-b63f-1ff1b8741da6",
        "colab": {
          "base_uri": "https://localhost:8080/",
          "height": 170
        }
      },
      "source": [
        "#Nro de sesiones en el día\n",
        "df = digital_bd['n_sesion']\n",
        "df.describe()"
      ],
      "execution_count": 0,
      "outputs": [
        {
          "output_type": "execute_result",
          "data": {
            "text/plain": [
              "count    171728.000000\n",
              "mean          1.310334\n",
              "std           0.773642\n",
              "min           1.000000\n",
              "25%           1.000000\n",
              "50%           1.000000\n",
              "75%           1.000000\n",
              "max          13.000000\n",
              "Name: n_sesion, dtype: float64"
            ]
          },
          "metadata": {
            "tags": []
          },
          "execution_count": 36
        }
      ]
    },
    {
      "cell_type": "code",
      "metadata": {
        "id": "l1rgGwSHhjWQ",
        "colab_type": "code",
        "outputId": "e57d70b6-5711-404f-fa50-60a8a8bc638e",
        "colab": {
          "base_uri": "https://localhost:8080/",
          "height": 170
        }
      },
      "source": [
        "#Numero de páginas visitadas en el día\n",
        "df = digital_bd['n_pag']\n",
        "df.describe()"
      ],
      "execution_count": 0,
      "outputs": [
        {
          "output_type": "execute_result",
          "data": {
            "text/plain": [
              "count    171728.000000\n",
              "mean          5.412513\n",
              "std           8.313517\n",
              "min           0.000000\n",
              "25%           2.000000\n",
              "50%           3.000000\n",
              "75%           6.000000\n",
              "max         548.000000\n",
              "Name: n_pag, dtype: float64"
            ]
          },
          "metadata": {
            "tags": []
          },
          "execution_count": 37
        }
      ]
    },
    {
      "cell_type": "code",
      "metadata": {
        "id": "ew_RuPAbiTbj",
        "colab_type": "code",
        "outputId": "ad148b17-aa75-4115-998e-0dbac61fc395",
        "colab": {
          "base_uri": "https://localhost:8080/",
          "height": 419
        }
      },
      "source": [
        "digital_bd.loc[:,'n_rep30':'extranjero_dig']"
      ],
      "execution_count": 0,
      "outputs": [
        {
          "output_type": "execute_result",
          "data": {
            "text/html": [
              "<div>\n",
              "<style scoped>\n",
              "    .dataframe tbody tr th:only-of-type {\n",
              "        vertical-align: middle;\n",
              "    }\n",
              "\n",
              "    .dataframe tbody tr th {\n",
              "        vertical-align: top;\n",
              "    }\n",
              "\n",
              "    .dataframe thead th {\n",
              "        text-align: right;\n",
              "    }\n",
              "</style>\n",
              "<table border=\"1\" class=\"dataframe\">\n",
              "  <thead>\n",
              "    <tr style=\"text-align: right;\">\n",
              "      <th></th>\n",
              "      <th>n_rep30</th>\n",
              "      <th>recencia</th>\n",
              "      <th>lima_dig</th>\n",
              "      <th>provincia_dig</th>\n",
              "      <th>extranjero_dig</th>\n",
              "    </tr>\n",
              "  </thead>\n",
              "  <tbody>\n",
              "    <tr>\n",
              "      <th>0</th>\n",
              "      <td>1</td>\n",
              "      <td>1.0</td>\n",
              "      <td>0</td>\n",
              "      <td>1</td>\n",
              "      <td>0</td>\n",
              "    </tr>\n",
              "    <tr>\n",
              "      <th>1</th>\n",
              "      <td>0</td>\n",
              "      <td>100.0</td>\n",
              "      <td>1</td>\n",
              "      <td>0</td>\n",
              "      <td>0</td>\n",
              "    </tr>\n",
              "    <tr>\n",
              "      <th>2</th>\n",
              "      <td>1</td>\n",
              "      <td>8.0</td>\n",
              "      <td>0</td>\n",
              "      <td>1</td>\n",
              "      <td>0</td>\n",
              "    </tr>\n",
              "    <tr>\n",
              "      <th>3</th>\n",
              "      <td>1</td>\n",
              "      <td>8.0</td>\n",
              "      <td>1</td>\n",
              "      <td>0</td>\n",
              "      <td>0</td>\n",
              "    </tr>\n",
              "    <tr>\n",
              "      <th>4</th>\n",
              "      <td>0</td>\n",
              "      <td>100.0</td>\n",
              "      <td>0</td>\n",
              "      <td>1</td>\n",
              "      <td>0</td>\n",
              "    </tr>\n",
              "    <tr>\n",
              "      <th>...</th>\n",
              "      <td>...</td>\n",
              "      <td>...</td>\n",
              "      <td>...</td>\n",
              "      <td>...</td>\n",
              "      <td>...</td>\n",
              "    </tr>\n",
              "    <tr>\n",
              "      <th>171723</th>\n",
              "      <td>1</td>\n",
              "      <td>8.0</td>\n",
              "      <td>1</td>\n",
              "      <td>0</td>\n",
              "      <td>0</td>\n",
              "    </tr>\n",
              "    <tr>\n",
              "      <th>171724</th>\n",
              "      <td>0</td>\n",
              "      <td>100.0</td>\n",
              "      <td>1</td>\n",
              "      <td>0</td>\n",
              "      <td>0</td>\n",
              "    </tr>\n",
              "    <tr>\n",
              "      <th>171725</th>\n",
              "      <td>0</td>\n",
              "      <td>30.0</td>\n",
              "      <td>1</td>\n",
              "      <td>0</td>\n",
              "      <td>0</td>\n",
              "    </tr>\n",
              "    <tr>\n",
              "      <th>171726</th>\n",
              "      <td>0</td>\n",
              "      <td>100.0</td>\n",
              "      <td>1</td>\n",
              "      <td>0</td>\n",
              "      <td>0</td>\n",
              "    </tr>\n",
              "    <tr>\n",
              "      <th>171727</th>\n",
              "      <td>0</td>\n",
              "      <td>100.0</td>\n",
              "      <td>1</td>\n",
              "      <td>0</td>\n",
              "      <td>0</td>\n",
              "    </tr>\n",
              "  </tbody>\n",
              "</table>\n",
              "<p>171728 rows × 5 columns</p>\n",
              "</div>"
            ],
            "text/plain": [
              "        n_rep30  recencia  lima_dig  provincia_dig  extranjero_dig\n",
              "0             1       1.0         0              1               0\n",
              "1             0     100.0         1              0               0\n",
              "2             1       8.0         0              1               0\n",
              "3             1       8.0         1              0               0\n",
              "4             0     100.0         0              1               0\n",
              "...         ...       ...       ...            ...             ...\n",
              "171723        1       8.0         1              0               0\n",
              "171724        0     100.0         1              0               0\n",
              "171725        0      30.0         1              0               0\n",
              "171726        0     100.0         1              0               0\n",
              "171727        0     100.0         1              0               0\n",
              "\n",
              "[171728 rows x 5 columns]"
            ]
          },
          "metadata": {
            "tags": []
          },
          "execution_count": 39
        }
      ]
    },
    {
      "cell_type": "markdown",
      "metadata": {
        "id": "fvotw4mKkS7k",
        "colab_type": "text"
      },
      "source": [
        "Se hará drop a busqmex y busqmc ya que solo tienen un valor"
      ]
    },
    {
      "cell_type": "markdown",
      "metadata": {
        "id": "LKF-okymUhDo",
        "colab_type": "text"
      },
      "source": [
        "### rcc_bd\n",
        "Prestamos de las personas en otros bancos. No hay filas duplicadas. Una persona puede tener más de un prestamo"
      ]
    },
    {
      "cell_type": "code",
      "metadata": {
        "id": "pkdG1_81lf5I",
        "colab_type": "code",
        "outputId": "e99b4aeb-9293-4cd5-d953-20c5db2028d5",
        "colab": {
          "base_uri": "https://localhost:8080/",
          "height": 204
        }
      },
      "source": [
        "rcc_bd.head()"
      ],
      "execution_count": 0,
      "outputs": [
        {
          "output_type": "execute_result",
          "data": {
            "text/html": [
              "<div>\n",
              "<style scoped>\n",
              "    .dataframe tbody tr th:only-of-type {\n",
              "        vertical-align: middle;\n",
              "    }\n",
              "\n",
              "    .dataframe tbody tr th {\n",
              "        vertical-align: top;\n",
              "    }\n",
              "\n",
              "    .dataframe thead th {\n",
              "        text-align: right;\n",
              "    }\n",
              "</style>\n",
              "<table border=\"1\" class=\"dataframe\">\n",
              "  <thead>\n",
              "    <tr style=\"text-align: right;\">\n",
              "      <th></th>\n",
              "      <th>codmes</th>\n",
              "      <th>id_persona</th>\n",
              "      <th>cod_banco</th>\n",
              "      <th>producto</th>\n",
              "      <th>clasif</th>\n",
              "      <th>mto_saldo</th>\n",
              "      <th>rango_mora</th>\n",
              "    </tr>\n",
              "  </thead>\n",
              "  <tbody>\n",
              "    <tr>\n",
              "      <th>0</th>\n",
              "      <td>201811</td>\n",
              "      <td>10155</td>\n",
              "      <td>29</td>\n",
              "      <td>PRESTAMOS COMERCIALES</td>\n",
              "      <td>0.0</td>\n",
              "      <td>36698.4870</td>\n",
              "      <td>1.0</td>\n",
              "    </tr>\n",
              "    <tr>\n",
              "      <th>1</th>\n",
              "      <td>201804</td>\n",
              "      <td>75442</td>\n",
              "      <td>29</td>\n",
              "      <td>PRESTAMO PERSONAL</td>\n",
              "      <td>0.0</td>\n",
              "      <td>7971.1182</td>\n",
              "      <td>1.0</td>\n",
              "    </tr>\n",
              "    <tr>\n",
              "      <th>2</th>\n",
              "      <td>201902</td>\n",
              "      <td>172772</td>\n",
              "      <td>29</td>\n",
              "      <td>PRESTAMOS COMERCIALES</td>\n",
              "      <td>0.0</td>\n",
              "      <td>821.6077</td>\n",
              "      <td>1.0</td>\n",
              "    </tr>\n",
              "    <tr>\n",
              "      <th>3</th>\n",
              "      <td>201810</td>\n",
              "      <td>187572</td>\n",
              "      <td>29</td>\n",
              "      <td>PRESTAMOS COMERCIALES</td>\n",
              "      <td>0.0</td>\n",
              "      <td>9271.8030</td>\n",
              "      <td>1.0</td>\n",
              "    </tr>\n",
              "    <tr>\n",
              "      <th>4</th>\n",
              "      <td>201903</td>\n",
              "      <td>255598</td>\n",
              "      <td>29</td>\n",
              "      <td>PRESTAMOS COMERCIALES</td>\n",
              "      <td>0.0</td>\n",
              "      <td>10548.7263</td>\n",
              "      <td>1.0</td>\n",
              "    </tr>\n",
              "  </tbody>\n",
              "</table>\n",
              "</div>"
            ],
            "text/plain": [
              "   codmes  id_persona  cod_banco  ... clasif   mto_saldo  rango_mora\n",
              "0  201811       10155         29  ...    0.0  36698.4870         1.0\n",
              "1  201804       75442         29  ...    0.0   7971.1182         1.0\n",
              "2  201902      172772         29  ...    0.0    821.6077         1.0\n",
              "3  201810      187572         29  ...    0.0   9271.8030         1.0\n",
              "4  201903      255598         29  ...    0.0  10548.7263         1.0\n",
              "\n",
              "[5 rows x 7 columns]"
            ]
          },
          "metadata": {
            "tags": []
          },
          "execution_count": 20
        }
      ]
    },
    {
      "cell_type": "code",
      "metadata": {
        "id": "0-EmhoPG0cvq",
        "colab_type": "code",
        "outputId": "e57ae9f2-f2e0-4fce-d746-916d7af86112",
        "colab": {
          "base_uri": "https://localhost:8080/",
          "height": 34
        }
      },
      "source": [
        "rcc_bd.id_persona.nunique()"
      ],
      "execution_count": 0,
      "outputs": [
        {
          "output_type": "execute_result",
          "data": {
            "text/plain": [
              "237808"
            ]
          },
          "metadata": {
            "tags": []
          },
          "execution_count": 16
        }
      ]
    },
    {
      "cell_type": "code",
      "metadata": {
        "id": "yqkEQALeGPC_",
        "colab_type": "code",
        "outputId": "ad2b7bcc-123c-489d-d8cb-a2beb4dd151c",
        "colab": {
          "base_uri": "https://localhost:8080/",
          "height": 68
        }
      },
      "source": [
        "print('shape: {}'.format(rcc_bd.shape))\n",
        "print('id_persona duplicados: {}'.format(rcc_bd.id_persona.duplicated().sum()))\n",
        "print('filas duplicadas: {}'.format(rcc_bd.duplicated().sum()))"
      ],
      "execution_count": 0,
      "outputs": [
        {
          "output_type": "stream",
          "text": [
            "shape: (11705553, 7)\n",
            "id_persona duplicados: 11467745\n",
            "filas duplicadas: 0\n"
          ],
          "name": "stdout"
        }
      ]
    },
    {
      "cell_type": "markdown",
      "metadata": {
        "id": "GQIUMXuhvukJ",
        "colab_type": "text"
      },
      "source": [
        "####Feature clasif"
      ]
    },
    {
      "cell_type": "code",
      "metadata": {
        "id": "RhHQpf1DlZYG",
        "colab_type": "code",
        "outputId": "5e26248c-6084-4dd9-f83f-3318028b4477",
        "colab": {
          "base_uri": "https://localhost:8080/",
          "height": 68
        }
      },
      "source": [
        "rcc_bd.clasif.value_counts()"
      ],
      "execution_count": 0,
      "outputs": [
        {
          "output_type": "execute_result",
          "data": {
            "text/plain": [
              "0.0    6699611\n",
              "1.0     155499\n",
              "Name: clasif, dtype: int64"
            ]
          },
          "metadata": {
            "tags": []
          },
          "execution_count": 98
        }
      ]
    },
    {
      "cell_type": "markdown",
      "metadata": {
        "id": "3iqPvsDQup59",
        "colab_type": "text"
      },
      "source": [
        "La columna clasif se eliminará ya que no aporta valor pues no indica cuáles son las calificaciones de riego"
      ]
    },
    {
      "cell_type": "markdown",
      "metadata": {
        "id": "Od7YknkxBV35",
        "colab_type": "text"
      },
      "source": [
        "#### Feature codmes"
      ]
    },
    {
      "cell_type": "code",
      "metadata": {
        "id": "8HileK44vIrr",
        "colab_type": "code",
        "outputId": "c802ea4d-8f17-4650-a8bd-ee3fed50dfd4",
        "colab": {
          "base_uri": "https://localhost:8080/",
          "height": 401
        }
      },
      "source": [
        "plt.boxplot(rcc_bd.codmes)"
      ],
      "execution_count": 0,
      "outputs": [
        {
          "output_type": "execute_result",
          "data": {
            "text/plain": [
              "{'boxes': [<matplotlib.lines.Line2D at 0x7f3307d12a20>],\n",
              " 'caps': [<matplotlib.lines.Line2D at 0x7f3307ca13c8>,\n",
              "  <matplotlib.lines.Line2D at 0x7f3307ca1710>],\n",
              " 'fliers': [<matplotlib.lines.Line2D at 0x7f3307ca1da0>],\n",
              " 'means': [],\n",
              " 'medians': [<matplotlib.lines.Line2D at 0x7f3307ca1a58>],\n",
              " 'whiskers': [<matplotlib.lines.Line2D at 0x7f3307d12cf8>,\n",
              "  <matplotlib.lines.Line2D at 0x7f3307ca1080>]}"
            ]
          },
          "metadata": {
            "tags": []
          },
          "execution_count": 60
        },
        {
          "output_type": "display_data",
          "data": {
            "image/png": "[encoded data removed]",
            "text/plain": [
              "<Figure size 432x288 with 1 Axes>"
            ]
          },
          "metadata": {
            "tags": []
          }
        }
      ]
    },
    {
      "cell_type": "code",
      "metadata": {
        "id": "mEOY0-AFr4lU",
        "colab_type": "code",
        "outputId": "fb97dce7-a8b3-4aa5-9c4e-f71d154b06c6",
        "colab": {
          "base_uri": "https://localhost:8080/",
          "height": 51
        }
      },
      "source": [
        "print('mes minimo: {}'.format(rcc_bd.codmes.min()))\n",
        "print('mes máximo: {}'.format(rcc_bd.codmes.max()))"
      ],
      "execution_count": 0,
      "outputs": [
        {
          "output_type": "stream",
          "text": [
            "mes minimo: 201712\n",
            "mes máximo: 201903\n"
          ],
          "name": "stdout"
        }
      ]
    },
    {
      "cell_type": "markdown",
      "metadata": {
        "colab_type": "text",
        "id": "tz0XNoTNA1cZ"
      },
      "source": [
        "#### Feature producto"
      ]
    },
    {
      "cell_type": "code",
      "metadata": {
        "id": "PPdX3UYIomWN",
        "colab_type": "code",
        "outputId": "c4a5bc4f-1496-49fe-c38f-9cd44df0b14e",
        "colab": {
          "base_uri": "https://localhost:8080/",
          "height": 419
        }
      },
      "source": [
        "rcc_bd[rcc_bd.producto == 'LINEA TOTAL TC'].sort_values(by=['mto_saldo'])"
      ],
      "execution_count": 0,
      "outputs": [
        {
          "output_type": "execute_result",
          "data": {
            "text/html": [
              "<div>\n",
              "<style scoped>\n",
              "    .dataframe tbody tr th:only-of-type {\n",
              "        vertical-align: middle;\n",
              "    }\n",
              "\n",
              "    .dataframe tbody tr th {\n",
              "        vertical-align: top;\n",
              "    }\n",
              "\n",
              "    .dataframe thead th {\n",
              "        text-align: right;\n",
              "    }\n",
              "</style>\n",
              "<table border=\"1\" class=\"dataframe\">\n",
              "  <thead>\n",
              "    <tr style=\"text-align: right;\">\n",
              "      <th></th>\n",
              "      <th>codmes</th>\n",
              "      <th>id_persona</th>\n",
              "      <th>cod_banco</th>\n",
              "      <th>producto</th>\n",
              "      <th>clasif</th>\n",
              "      <th>mto_saldo</th>\n",
              "      <th>rango_mora</th>\n",
              "    </tr>\n",
              "  </thead>\n",
              "  <tbody>\n",
              "    <tr>\n",
              "      <th>8810278</th>\n",
              "      <td>201812</td>\n",
              "      <td>62858</td>\n",
              "      <td>36</td>\n",
              "      <td>LINEA TOTAL TC</td>\n",
              "      <td>NaN</td>\n",
              "      <td>0.0073</td>\n",
              "      <td>NaN</td>\n",
              "    </tr>\n",
              "    <tr>\n",
              "      <th>10012171</th>\n",
              "      <td>201811</td>\n",
              "      <td>62858</td>\n",
              "      <td>36</td>\n",
              "      <td>LINEA TOTAL TC</td>\n",
              "      <td>NaN</td>\n",
              "      <td>0.0073</td>\n",
              "      <td>NaN</td>\n",
              "    </tr>\n",
              "    <tr>\n",
              "      <th>730436</th>\n",
              "      <td>201811</td>\n",
              "      <td>31227</td>\n",
              "      <td>75</td>\n",
              "      <td>LINEA TOTAL TC</td>\n",
              "      <td>NaN</td>\n",
              "      <td>0.0073</td>\n",
              "      <td>NaN</td>\n",
              "    </tr>\n",
              "    <tr>\n",
              "      <th>1524691</th>\n",
              "      <td>201809</td>\n",
              "      <td>31227</td>\n",
              "      <td>75</td>\n",
              "      <td>LINEA TOTAL TC</td>\n",
              "      <td>NaN</td>\n",
              "      <td>0.0073</td>\n",
              "      <td>NaN</td>\n",
              "    </tr>\n",
              "    <tr>\n",
              "      <th>9104484</th>\n",
              "      <td>201807</td>\n",
              "      <td>62858</td>\n",
              "      <td>36</td>\n",
              "      <td>LINEA TOTAL TC</td>\n",
              "      <td>NaN</td>\n",
              "      <td>0.0073</td>\n",
              "      <td>NaN</td>\n",
              "    </tr>\n",
              "    <tr>\n",
              "      <th>...</th>\n",
              "      <td>...</td>\n",
              "      <td>...</td>\n",
              "      <td>...</td>\n",
              "      <td>...</td>\n",
              "      <td>...</td>\n",
              "      <td>...</td>\n",
              "      <td>...</td>\n",
              "    </tr>\n",
              "    <tr>\n",
              "      <th>2400053</th>\n",
              "      <td>201805</td>\n",
              "      <td>28397</td>\n",
              "      <td>7</td>\n",
              "      <td>LINEA TOTAL TC</td>\n",
              "      <td>NaN</td>\n",
              "      <td>466021.1376</td>\n",
              "      <td>NaN</td>\n",
              "    </tr>\n",
              "    <tr>\n",
              "      <th>2853606</th>\n",
              "      <td>201807</td>\n",
              "      <td>28397</td>\n",
              "      <td>7</td>\n",
              "      <td>LINEA TOTAL TC</td>\n",
              "      <td>NaN</td>\n",
              "      <td>466029.5837</td>\n",
              "      <td>NaN</td>\n",
              "    </tr>\n",
              "    <tr>\n",
              "      <th>856027</th>\n",
              "      <td>201808</td>\n",
              "      <td>28397</td>\n",
              "      <td>7</td>\n",
              "      <td>LINEA TOTAL TC</td>\n",
              "      <td>NaN</td>\n",
              "      <td>469185.6000</td>\n",
              "      <td>NaN</td>\n",
              "    </tr>\n",
              "    <tr>\n",
              "      <th>5538798</th>\n",
              "      <td>201809</td>\n",
              "      <td>28397</td>\n",
              "      <td>7</td>\n",
              "      <td>LINEA TOTAL TC</td>\n",
              "      <td>NaN</td>\n",
              "      <td>469755.0000</td>\n",
              "      <td>NaN</td>\n",
              "    </tr>\n",
              "    <tr>\n",
              "      <th>2383244</th>\n",
              "      <td>201804</td>\n",
              "      <td>28397</td>\n",
              "      <td>7</td>\n",
              "      <td>LINEA TOTAL TC</td>\n",
              "      <td>NaN</td>\n",
              "      <td>493995.3508</td>\n",
              "      <td>NaN</td>\n",
              "    </tr>\n",
              "  </tbody>\n",
              "</table>\n",
              "<p>4850443 rows × 7 columns</p>\n",
              "</div>"
            ],
            "text/plain": [
              "          codmes  id_persona  cod_banco  ... clasif    mto_saldo  rango_mora\n",
              "8810278   201812       62858         36  ...    NaN       0.0073         NaN\n",
              "10012171  201811       62858         36  ...    NaN       0.0073         NaN\n",
              "730436    201811       31227         75  ...    NaN       0.0073         NaN\n",
              "1524691   201809       31227         75  ...    NaN       0.0073         NaN\n",
              "9104484   201807       62858         36  ...    NaN       0.0073         NaN\n",
              "...          ...         ...        ...  ...    ...          ...         ...\n",
              "2400053   201805       28397          7  ...    NaN  466021.1376         NaN\n",
              "2853606   201807       28397          7  ...    NaN  466029.5837         NaN\n",
              "856027    201808       28397          7  ...    NaN  469185.6000         NaN\n",
              "5538798   201809       28397          7  ...    NaN  469755.0000         NaN\n",
              "2383244   201804       28397          7  ...    NaN  493995.3508         NaN\n",
              "\n",
              "[4850443 rows x 7 columns]"
            ]
          },
          "metadata": {
            "tags": []
          },
          "execution_count": 103
        }
      ]
    },
    {
      "cell_type": "code",
      "metadata": {
        "colab_type": "code",
        "outputId": "0ab3eef1-2c81-42bb-8b78-35e4216a1fbf",
        "id": "7hj5Pw6_A1ci",
        "colab": {
          "base_uri": "https://localhost:8080/",
          "height": 561
        }
      },
      "source": [
        "#Analizamos los tipos de préstamos que  hay\n",
        "rcc_bd.producto.value_counts()"
      ],
      "execution_count": 0,
      "outputs": [
        {
          "output_type": "execute_result",
          "data": {
            "text/plain": [
              "LINEA TOTAL TC                           4850443\n",
              "TARJETAS COMPRAS                         2944579\n",
              "PRESTAMO PERSONAL                        1638772\n",
              "TARJETAS EFECTIVO                         790861\n",
              "PRESTAMOS COMERCIALES                     616894\n",
              "TARJETAS OTROS CONCEPTOS                  577960\n",
              "HIPOTECARIO REGULAR                        98239\n",
              "VEHICULAR                                  74925\n",
              "HIPOTECARIO MIVIVIENDA                     44387\n",
              "RESTO RD                                   38059\n",
              "TARJETA_EMP SIN DEFINIR                    10842\n",
              "TARJETAS SIN DEFINIR                        6082\n",
              "CREDITOS CASTIGOS                           2591\n",
              "TARJETA_EMP EFECTIVO                        2392\n",
              "SOBREGIRO                                   1951\n",
              "TARJETA_EMP OTROS CONCEPTOS                 1758\n",
              "OTROS CREDITOS                              1350\n",
              "TARJETA_EMP COMPRA                          1016\n",
              "CARTAS FIANZAS OTORGADAS                     825\n",
              "REFINANCIADOS                                602\n",
              "LEASING                                      321\n",
              "CREDITO CASTIGADOS SIENDO AMORTIZADOS        217\n",
              "RESTO RI                                     210\n",
              "CREDITO INMOBILIARIOS                        184\n",
              "FACTORING                                     34\n",
              "DERIVADOS ME -- FORWARDS                      34\n",
              "AVANCE                                        12\n",
              "DESCUENTOS                                     6\n",
              "FINANC COMEX                                   4\n",
              "CARTAS DE CREDITO OTORGADAS                    2\n",
              "DERIVADOS ME -- OPCIONES                       1\n",
              "Name: producto, dtype: int64"
            ]
          },
          "metadata": {
            "tags": []
          },
          "execution_count": 97
        }
      ]
    },
    {
      "cell_type": "markdown",
      "metadata": {
        "colab_type": "text",
        "id": "aJPXslWvA1cq"
      },
      "source": [
        "####Feature id_persona"
      ]
    },
    {
      "cell_type": "code",
      "metadata": {
        "colab_type": "code",
        "outputId": "99e05855-9c2c-4d7f-874d-c247a524d555",
        "id": "796g246JA1cr",
        "colab": {
          "base_uri": "https://localhost:8080/",
          "height": 34
        }
      },
      "source": [
        "#¿Qué id_personas son las más frecuentes?\n",
        "top_5 = Counter(rcc_bd.id_persona).most_common(5)\n",
        "print(top_5)"
      ],
      "execution_count": 0,
      "outputs": [
        {
          "output_type": "stream",
          "text": [
            "[(109692, 239), (18704, 236), (84823, 233), (25430, 231), (43713, 227)]\n"
          ],
          "name": "stdout"
        }
      ]
    },
    {
      "cell_type": "code",
      "metadata": {
        "colab_type": "code",
        "outputId": "21485bbb-d702-47e3-e40d-53b8ee15eec0",
        "id": "wcZFZFOEA1cv",
        "colab": {
          "base_uri": "https://localhost:8080/",
          "height": 272
        }
      },
      "source": [
        "rcc_bd[rcc_bd.id_persona == 109692].codmes.value_counts()"
      ],
      "execution_count": 0,
      "outputs": [
        {
          "output_type": "execute_result",
          "data": {
            "text/plain": [
              "201803    19\n",
              "201806    18\n",
              "201805    18\n",
              "201804    18\n",
              "201802    18\n",
              "201901    17\n",
              "201812    17\n",
              "201808    17\n",
              "201807    17\n",
              "201903    16\n",
              "201902    16\n",
              "201811    16\n",
              "201810    16\n",
              "201809    16\n",
              "Name: codmes, dtype: int64"
            ]
          },
          "metadata": {
            "tags": []
          },
          "execution_count": 24
        }
      ]
    },
    {
      "cell_type": "code",
      "metadata": {
        "id": "sp05bGwHGIdc",
        "colab_type": "code",
        "outputId": "7914e0d9-493c-406e-876f-6d0683164275",
        "colab": {
          "base_uri": "https://localhost:8080/",
          "height": 638
        }
      },
      "source": [
        "#Todos los créditos de 109692 en 201803 \n",
        "rcc_bd[(rcc_bd.id_persona == 109692) & (rcc_bd.codmes == 201803)].sort_values(by='cod_banco')"
      ],
      "execution_count": 0,
      "outputs": [
        {
          "output_type": "execute_result",
          "data": {
            "text/html": [
              "<div>\n",
              "<style scoped>\n",
              "    .dataframe tbody tr th:only-of-type {\n",
              "        vertical-align: middle;\n",
              "    }\n",
              "\n",
              "    .dataframe tbody tr th {\n",
              "        vertical-align: top;\n",
              "    }\n",
              "\n",
              "    .dataframe thead th {\n",
              "        text-align: right;\n",
              "    }\n",
              "</style>\n",
              "<table border=\"1\" class=\"dataframe\">\n",
              "  <thead>\n",
              "    <tr style=\"text-align: right;\">\n",
              "      <th></th>\n",
              "      <th>codmes</th>\n",
              "      <th>id_persona</th>\n",
              "      <th>cod_banco</th>\n",
              "      <th>producto</th>\n",
              "      <th>clasif</th>\n",
              "      <th>mto_saldo</th>\n",
              "      <th>rango_mora</th>\n",
              "    </tr>\n",
              "  </thead>\n",
              "  <tbody>\n",
              "    <tr>\n",
              "      <th>4472700</th>\n",
              "      <td>201803</td>\n",
              "      <td>109692</td>\n",
              "      <td>7</td>\n",
              "      <td>LINEA TOTAL TC</td>\n",
              "      <td>NaN</td>\n",
              "      <td>11778.5500</td>\n",
              "      <td>NaN</td>\n",
              "    </tr>\n",
              "    <tr>\n",
              "      <th>1978888</th>\n",
              "      <td>201803</td>\n",
              "      <td>109692</td>\n",
              "      <td>7</td>\n",
              "      <td>TARJETAS COMPRAS</td>\n",
              "      <td>0.0</td>\n",
              "      <td>710.5163</td>\n",
              "      <td>1.0</td>\n",
              "    </tr>\n",
              "    <tr>\n",
              "      <th>144273</th>\n",
              "      <td>201803</td>\n",
              "      <td>109692</td>\n",
              "      <td>16</td>\n",
              "      <td>LINEA TOTAL TC</td>\n",
              "      <td>NaN</td>\n",
              "      <td>38389.2400</td>\n",
              "      <td>NaN</td>\n",
              "    </tr>\n",
              "    <tr>\n",
              "      <th>8377901</th>\n",
              "      <td>201803</td>\n",
              "      <td>109692</td>\n",
              "      <td>16</td>\n",
              "      <td>TARJETAS COMPRAS</td>\n",
              "      <td>0.0</td>\n",
              "      <td>14161.6934</td>\n",
              "      <td>1.0</td>\n",
              "    </tr>\n",
              "    <tr>\n",
              "      <th>7109197</th>\n",
              "      <td>201803</td>\n",
              "      <td>109692</td>\n",
              "      <td>16</td>\n",
              "      <td>PRESTAMO PERSONAL</td>\n",
              "      <td>0.0</td>\n",
              "      <td>22242.9905</td>\n",
              "      <td>1.0</td>\n",
              "    </tr>\n",
              "    <tr>\n",
              "      <th>2516328</th>\n",
              "      <td>201803</td>\n",
              "      <td>109692</td>\n",
              "      <td>16</td>\n",
              "      <td>TARJETAS OTROS CONCEPTOS</td>\n",
              "      <td>0.0</td>\n",
              "      <td>5536.9332</td>\n",
              "      <td>1.0</td>\n",
              "    </tr>\n",
              "    <tr>\n",
              "      <th>2999570</th>\n",
              "      <td>201803</td>\n",
              "      <td>109692</td>\n",
              "      <td>16</td>\n",
              "      <td>TARJETAS EFECTIVO</td>\n",
              "      <td>0.0</td>\n",
              "      <td>18637.4256</td>\n",
              "      <td>1.0</td>\n",
              "    </tr>\n",
              "    <tr>\n",
              "      <th>2017604</th>\n",
              "      <td>201803</td>\n",
              "      <td>109692</td>\n",
              "      <td>16</td>\n",
              "      <td>VEHICULAR</td>\n",
              "      <td>0.0</td>\n",
              "      <td>37144.8090</td>\n",
              "      <td>1.0</td>\n",
              "    </tr>\n",
              "    <tr>\n",
              "      <th>2848002</th>\n",
              "      <td>201803</td>\n",
              "      <td>109692</td>\n",
              "      <td>28</td>\n",
              "      <td>LINEA TOTAL TC</td>\n",
              "      <td>NaN</td>\n",
              "      <td>56210.0000</td>\n",
              "      <td>NaN</td>\n",
              "    </tr>\n",
              "    <tr>\n",
              "      <th>3124838</th>\n",
              "      <td>201803</td>\n",
              "      <td>109692</td>\n",
              "      <td>28</td>\n",
              "      <td>TARJETAS OTROS CONCEPTOS</td>\n",
              "      <td>0.0</td>\n",
              "      <td>2651.1702</td>\n",
              "      <td>1.0</td>\n",
              "    </tr>\n",
              "    <tr>\n",
              "      <th>997407</th>\n",
              "      <td>201803</td>\n",
              "      <td>109692</td>\n",
              "      <td>28</td>\n",
              "      <td>TARJETAS EFECTIVO</td>\n",
              "      <td>0.0</td>\n",
              "      <td>53374.5413</td>\n",
              "      <td>1.0</td>\n",
              "    </tr>\n",
              "    <tr>\n",
              "      <th>5393927</th>\n",
              "      <td>201803</td>\n",
              "      <td>109692</td>\n",
              "      <td>28</td>\n",
              "      <td>HIPOTECARIO REGULAR</td>\n",
              "      <td>0.0</td>\n",
              "      <td>232315.5139</td>\n",
              "      <td>1.0</td>\n",
              "    </tr>\n",
              "    <tr>\n",
              "      <th>6961738</th>\n",
              "      <td>201803</td>\n",
              "      <td>109692</td>\n",
              "      <td>28</td>\n",
              "      <td>TARJETAS COMPRAS</td>\n",
              "      <td>0.0</td>\n",
              "      <td>160.3518</td>\n",
              "      <td>1.0</td>\n",
              "    </tr>\n",
              "    <tr>\n",
              "      <th>9637561</th>\n",
              "      <td>201803</td>\n",
              "      <td>109692</td>\n",
              "      <td>40</td>\n",
              "      <td>TARJETAS COMPRAS</td>\n",
              "      <td>0.0</td>\n",
              "      <td>2415.3218</td>\n",
              "      <td>1.0</td>\n",
              "    </tr>\n",
              "    <tr>\n",
              "      <th>10466755</th>\n",
              "      <td>201803</td>\n",
              "      <td>109692</td>\n",
              "      <td>40</td>\n",
              "      <td>LINEA TOTAL TC</td>\n",
              "      <td>NaN</td>\n",
              "      <td>2555.0000</td>\n",
              "      <td>NaN</td>\n",
              "    </tr>\n",
              "    <tr>\n",
              "      <th>2569527</th>\n",
              "      <td>201803</td>\n",
              "      <td>109692</td>\n",
              "      <td>52</td>\n",
              "      <td>TARJETAS COMPRAS</td>\n",
              "      <td>0.0</td>\n",
              "      <td>8274.4843</td>\n",
              "      <td>1.0</td>\n",
              "    </tr>\n",
              "    <tr>\n",
              "      <th>976456</th>\n",
              "      <td>201803</td>\n",
              "      <td>109692</td>\n",
              "      <td>52</td>\n",
              "      <td>LINEA TOTAL TC</td>\n",
              "      <td>NaN</td>\n",
              "      <td>8760.0000</td>\n",
              "      <td>NaN</td>\n",
              "    </tr>\n",
              "    <tr>\n",
              "      <th>6650661</th>\n",
              "      <td>201803</td>\n",
              "      <td>109692</td>\n",
              "      <td>66</td>\n",
              "      <td>TARJETAS COMPRAS</td>\n",
              "      <td>0.0</td>\n",
              "      <td>319.1268</td>\n",
              "      <td>1.0</td>\n",
              "    </tr>\n",
              "    <tr>\n",
              "      <th>398811</th>\n",
              "      <td>201803</td>\n",
              "      <td>109692</td>\n",
              "      <td>66</td>\n",
              "      <td>LINEA TOTAL TC</td>\n",
              "      <td>NaN</td>\n",
              "      <td>730.0000</td>\n",
              "      <td>NaN</td>\n",
              "    </tr>\n",
              "  </tbody>\n",
              "</table>\n",
              "</div>"
            ],
            "text/plain": [
              "          codmes  id_persona  cod_banco  ... clasif    mto_saldo  rango_mora\n",
              "4472700   201803      109692          7  ...    NaN   11778.5500         NaN\n",
              "1978888   201803      109692          7  ...    0.0     710.5163         1.0\n",
              "144273    201803      109692         16  ...    NaN   38389.2400         NaN\n",
              "8377901   201803      109692         16  ...    0.0   14161.6934         1.0\n",
              "7109197   201803      109692         16  ...    0.0   22242.9905         1.0\n",
              "2516328   201803      109692         16  ...    0.0    5536.9332         1.0\n",
              "2999570   201803      109692         16  ...    0.0   18637.4256         1.0\n",
              "2017604   201803      109692         16  ...    0.0   37144.8090         1.0\n",
              "2848002   201803      109692         28  ...    NaN   56210.0000         NaN\n",
              "3124838   201803      109692         28  ...    0.0    2651.1702         1.0\n",
              "997407    201803      109692         28  ...    0.0   53374.5413         1.0\n",
              "5393927   201803      109692         28  ...    0.0  232315.5139         1.0\n",
              "6961738   201803      109692         28  ...    0.0     160.3518         1.0\n",
              "9637561   201803      109692         40  ...    0.0    2415.3218         1.0\n",
              "10466755  201803      109692         40  ...    NaN    2555.0000         NaN\n",
              "2569527   201803      109692         52  ...    0.0    8274.4843         1.0\n",
              "976456    201803      109692         52  ...    NaN    8760.0000         NaN\n",
              "6650661   201803      109692         66  ...    0.0     319.1268         1.0\n",
              "398811    201803      109692         66  ...    NaN     730.0000         NaN\n",
              "\n",
              "[19 rows x 7 columns]"
            ]
          },
          "metadata": {
            "tags": []
          },
          "execution_count": 32
        }
      ]
    },
    {
      "cell_type": "code",
      "metadata": {
        "id": "1tkZhV9uTzHE",
        "colab_type": "code",
        "outputId": "3e250cd2-0371-43fa-b1a1-657865c382a1",
        "colab": {
          "base_uri": "https://localhost:8080/",
          "height": 483
        }
      },
      "source": [
        "#Evolución del crédito de TARJETAS COMPRAS de 109692 en el banco 52\n",
        "rcc_bd[(rcc_bd.id_persona == 109692) & (rcc_bd.cod_banco == 52) & \n",
        "                 (rcc_bd.producto == 'TARJETAS COMPRAS')].sort_values(by='codmes') "
      ],
      "execution_count": 0,
      "outputs": [
        {
          "output_type": "execute_result",
          "data": {
            "text/html": [
              "<div>\n",
              "<style scoped>\n",
              "    .dataframe tbody tr th:only-of-type {\n",
              "        vertical-align: middle;\n",
              "    }\n",
              "\n",
              "    .dataframe tbody tr th {\n",
              "        vertical-align: top;\n",
              "    }\n",
              "\n",
              "    .dataframe thead th {\n",
              "        text-align: right;\n",
              "    }\n",
              "</style>\n",
              "<table border=\"1\" class=\"dataframe\">\n",
              "  <thead>\n",
              "    <tr style=\"text-align: right;\">\n",
              "      <th></th>\n",
              "      <th>codmes</th>\n",
              "      <th>id_persona</th>\n",
              "      <th>cod_banco</th>\n",
              "      <th>producto</th>\n",
              "      <th>clasif</th>\n",
              "      <th>mto_saldo</th>\n",
              "      <th>rango_mora</th>\n",
              "    </tr>\n",
              "  </thead>\n",
              "  <tbody>\n",
              "    <tr>\n",
              "      <th>1138867</th>\n",
              "      <td>201802</td>\n",
              "      <td>109692</td>\n",
              "      <td>52</td>\n",
              "      <td>TARJETAS COMPRAS</td>\n",
              "      <td>0.0</td>\n",
              "      <td>8969.4443</td>\n",
              "      <td>1.0</td>\n",
              "    </tr>\n",
              "    <tr>\n",
              "      <th>2569527</th>\n",
              "      <td>201803</td>\n",
              "      <td>109692</td>\n",
              "      <td>52</td>\n",
              "      <td>TARJETAS COMPRAS</td>\n",
              "      <td>0.0</td>\n",
              "      <td>8274.4843</td>\n",
              "      <td>1.0</td>\n",
              "    </tr>\n",
              "    <tr>\n",
              "      <th>1641591</th>\n",
              "      <td>201804</td>\n",
              "      <td>109692</td>\n",
              "      <td>52</td>\n",
              "      <td>TARJETAS COMPRAS</td>\n",
              "      <td>0.0</td>\n",
              "      <td>6161.2657</td>\n",
              "      <td>1.0</td>\n",
              "    </tr>\n",
              "    <tr>\n",
              "      <th>1757378</th>\n",
              "      <td>201805</td>\n",
              "      <td>109692</td>\n",
              "      <td>52</td>\n",
              "      <td>TARJETAS COMPRAS</td>\n",
              "      <td>0.0</td>\n",
              "      <td>9229.9083</td>\n",
              "      <td>1.0</td>\n",
              "    </tr>\n",
              "    <tr>\n",
              "      <th>374549</th>\n",
              "      <td>201806</td>\n",
              "      <td>109692</td>\n",
              "      <td>52</td>\n",
              "      <td>TARJETAS COMPRAS</td>\n",
              "      <td>0.0</td>\n",
              "      <td>6756.1792</td>\n",
              "      <td>1.0</td>\n",
              "    </tr>\n",
              "    <tr>\n",
              "      <th>2076030</th>\n",
              "      <td>201807</td>\n",
              "      <td>109692</td>\n",
              "      <td>52</td>\n",
              "      <td>TARJETAS COMPRAS</td>\n",
              "      <td>0.0</td>\n",
              "      <td>5344.1767</td>\n",
              "      <td>1.0</td>\n",
              "    </tr>\n",
              "    <tr>\n",
              "      <th>355736</th>\n",
              "      <td>201808</td>\n",
              "      <td>109692</td>\n",
              "      <td>52</td>\n",
              "      <td>TARJETAS COMPRAS</td>\n",
              "      <td>0.0</td>\n",
              "      <td>2808.6312</td>\n",
              "      <td>1.0</td>\n",
              "    </tr>\n",
              "    <tr>\n",
              "      <th>2780559</th>\n",
              "      <td>201809</td>\n",
              "      <td>109692</td>\n",
              "      <td>52</td>\n",
              "      <td>TARJETAS COMPRAS</td>\n",
              "      <td>0.0</td>\n",
              "      <td>2882.9233</td>\n",
              "      <td>1.0</td>\n",
              "    </tr>\n",
              "    <tr>\n",
              "      <th>2686654</th>\n",
              "      <td>201810</td>\n",
              "      <td>109692</td>\n",
              "      <td>52</td>\n",
              "      <td>TARJETAS COMPRAS</td>\n",
              "      <td>0.0</td>\n",
              "      <td>2482.7227</td>\n",
              "      <td>1.0</td>\n",
              "    </tr>\n",
              "    <tr>\n",
              "      <th>2570694</th>\n",
              "      <td>201811</td>\n",
              "      <td>109692</td>\n",
              "      <td>52</td>\n",
              "      <td>TARJETAS COMPRAS</td>\n",
              "      <td>0.0</td>\n",
              "      <td>1425.2228</td>\n",
              "      <td>1.0</td>\n",
              "    </tr>\n",
              "    <tr>\n",
              "      <th>2203214</th>\n",
              "      <td>201812</td>\n",
              "      <td>109692</td>\n",
              "      <td>52</td>\n",
              "      <td>TARJETAS COMPRAS</td>\n",
              "      <td>0.0</td>\n",
              "      <td>3004.8698</td>\n",
              "      <td>1.0</td>\n",
              "    </tr>\n",
              "    <tr>\n",
              "      <th>2688845</th>\n",
              "      <td>201901</td>\n",
              "      <td>109692</td>\n",
              "      <td>52</td>\n",
              "      <td>TARJETAS COMPRAS</td>\n",
              "      <td>0.0</td>\n",
              "      <td>5836.0142</td>\n",
              "      <td>1.0</td>\n",
              "    </tr>\n",
              "    <tr>\n",
              "      <th>1757000</th>\n",
              "      <td>201902</td>\n",
              "      <td>109692</td>\n",
              "      <td>52</td>\n",
              "      <td>TARJETAS COMPRAS</td>\n",
              "      <td>0.0</td>\n",
              "      <td>5177.0140</td>\n",
              "      <td>1.0</td>\n",
              "    </tr>\n",
              "    <tr>\n",
              "      <th>2562073</th>\n",
              "      <td>201903</td>\n",
              "      <td>109692</td>\n",
              "      <td>52</td>\n",
              "      <td>TARJETAS COMPRAS</td>\n",
              "      <td>0.0</td>\n",
              "      <td>7911.0684</td>\n",
              "      <td>1.0</td>\n",
              "    </tr>\n",
              "  </tbody>\n",
              "</table>\n",
              "</div>"
            ],
            "text/plain": [
              "         codmes  id_persona  cod_banco  ... clasif  mto_saldo  rango_mora\n",
              "1138867  201802      109692         52  ...    0.0  8969.4443         1.0\n",
              "2569527  201803      109692         52  ...    0.0  8274.4843         1.0\n",
              "1641591  201804      109692         52  ...    0.0  6161.2657         1.0\n",
              "1757378  201805      109692         52  ...    0.0  9229.9083         1.0\n",
              "374549   201806      109692         52  ...    0.0  6756.1792         1.0\n",
              "2076030  201807      109692         52  ...    0.0  5344.1767         1.0\n",
              "355736   201808      109692         52  ...    0.0  2808.6312         1.0\n",
              "2780559  201809      109692         52  ...    0.0  2882.9233         1.0\n",
              "2686654  201810      109692         52  ...    0.0  2482.7227         1.0\n",
              "2570694  201811      109692         52  ...    0.0  1425.2228         1.0\n",
              "2203214  201812      109692         52  ...    0.0  3004.8698         1.0\n",
              "2688845  201901      109692         52  ...    0.0  5836.0142         1.0\n",
              "1757000  201902      109692         52  ...    0.0  5177.0140         1.0\n",
              "2562073  201903      109692         52  ...    0.0  7911.0684         1.0\n",
              "\n",
              "[14 rows x 7 columns]"
            ]
          },
          "metadata": {
            "tags": []
          },
          "execution_count": 48
        }
      ]
    },
    {
      "cell_type": "code",
      "metadata": {
        "id": "Gf9gADLlOHE_",
        "colab_type": "code",
        "outputId": "a4a109d9-a937-463f-f6a5-9628d5bff1a7",
        "colab": {
          "base_uri": "https://localhost:8080/",
          "height": 282
        }
      },
      "source": [
        "#Evolución del crédito de TARJETAS COMPRAS de 109692 en el banco 52\n",
        "dframex = rcc_bd[(rcc_bd.id_persona == 109692) & (rcc_bd.cod_banco == 52) & \n",
        "                 (rcc_bd.producto == 'TARJETAS COMPRAS')].sort_values(by='codmes') \n",
        "dframex.mto_saldo.sort_index().plot()"
      ],
      "execution_count": 0,
      "outputs": [
        {
          "output_type": "execute_result",
          "data": {
            "text/plain": [
              "<matplotlib.axes._subplots.AxesSubplot at 0x7fbb090efe48>"
            ]
          },
          "metadata": {
            "tags": []
          },
          "execution_count": 46
        },
        {
          "output_type": "display_data",
          "data": {
            "image/png": "[encoded data removed]",
            "text/plain": [
              "<Figure size 432x288 with 1 Axes>"
            ]
          },
          "metadata": {
            "tags": []
          }
        }
      ]
    },
    {
      "cell_type": "markdown",
      "metadata": {
        "colab_type": "text",
        "id": "hvQqxP2xA1cx"
      },
      "source": [
        "####Feature rango mora"
      ]
    },
    {
      "cell_type": "code",
      "metadata": {
        "colab_type": "code",
        "outputId": "600f4b04-0e87-46d8-9b0f-bf5dde851a12",
        "id": "k-oYW0tBA1cy",
        "colab": {
          "base_uri": "https://localhost:8080/",
          "height": 153
        }
      },
      "source": [
        "rcc_bd.rango_mora.value_counts()"
      ],
      "execution_count": 0,
      "outputs": [
        {
          "output_type": "execute_result",
          "data": {
            "text/plain": [
              "1.0    6646227\n",
              "2.0      85656\n",
              "3.0      81628\n",
              "4.0      19523\n",
              "7.0       9503\n",
              "5.0       8829\n",
              "6.0       3744\n",
              "Name: rango_mora, dtype: int64"
            ]
          },
          "metadata": {
            "tags": []
          },
          "execution_count": 99
        }
      ]
    },
    {
      "cell_type": "markdown",
      "metadata": {
        "id": "xvbjLxVyYbmv",
        "colab_type": "text"
      },
      "source": [
        "### reniec_bd\n",
        "Variables sociodemograficas de las personas (se desconoce cuáles son). id_perona unicas"
      ]
    },
    {
      "cell_type": "code",
      "metadata": {
        "id": "pjcsWxCnm88o",
        "colab_type": "code",
        "outputId": "ab69c014-c81d-4a0d-de3f-de58a58d3cc4",
        "colab": {
          "base_uri": "https://localhost:8080/",
          "height": 204
        }
      },
      "source": [
        "reniec_bd.head()"
      ],
      "execution_count": 0,
      "outputs": [
        {
          "output_type": "execute_result",
          "data": {
            "text/html": [
              "<div>\n",
              "<style scoped>\n",
              "    .dataframe tbody tr th:only-of-type {\n",
              "        vertical-align: middle;\n",
              "    }\n",
              "\n",
              "    .dataframe tbody tr th {\n",
              "        vertical-align: top;\n",
              "    }\n",
              "\n",
              "    .dataframe thead th {\n",
              "        text-align: right;\n",
              "    }\n",
              "</style>\n",
              "<table border=\"1\" class=\"dataframe\">\n",
              "  <thead>\n",
              "    <tr style=\"text-align: right;\">\n",
              "      <th></th>\n",
              "      <th>id_persona</th>\n",
              "      <th>soc_var1</th>\n",
              "      <th>soc_var2</th>\n",
              "      <th>soc_var3</th>\n",
              "      <th>soc_var4</th>\n",
              "      <th>soc_var5</th>\n",
              "      <th>soc_var6</th>\n",
              "    </tr>\n",
              "  </thead>\n",
              "  <tbody>\n",
              "    <tr>\n",
              "      <th>0</th>\n",
              "      <td>219861</td>\n",
              "      <td>0.886792</td>\n",
              "      <td>4</td>\n",
              "      <td>2</td>\n",
              "      <td>6</td>\n",
              "      <td>5</td>\n",
              "      <td>10.0</td>\n",
              "    </tr>\n",
              "    <tr>\n",
              "      <th>1</th>\n",
              "      <td>105627</td>\n",
              "      <td>0.641509</td>\n",
              "      <td>4</td>\n",
              "      <td>2</td>\n",
              "      <td>1</td>\n",
              "      <td>2</td>\n",
              "      <td>8.0</td>\n",
              "    </tr>\n",
              "    <tr>\n",
              "      <th>2</th>\n",
              "      <td>94514</td>\n",
              "      <td>0.490566</td>\n",
              "      <td>4</td>\n",
              "      <td>2</td>\n",
              "      <td>6</td>\n",
              "      <td>5</td>\n",
              "      <td>10.0</td>\n",
              "    </tr>\n",
              "    <tr>\n",
              "      <th>3</th>\n",
              "      <td>55357</td>\n",
              "      <td>0.584906</td>\n",
              "      <td>4</td>\n",
              "      <td>2</td>\n",
              "      <td>6</td>\n",
              "      <td>5</td>\n",
              "      <td>1.0</td>\n",
              "    </tr>\n",
              "    <tr>\n",
              "      <th>4</th>\n",
              "      <td>79861</td>\n",
              "      <td>0.603774</td>\n",
              "      <td>4</td>\n",
              "      <td>1</td>\n",
              "      <td>6</td>\n",
              "      <td>5</td>\n",
              "      <td>9.0</td>\n",
              "    </tr>\n",
              "  </tbody>\n",
              "</table>\n",
              "</div>"
            ],
            "text/plain": [
              "   id_persona  soc_var1  soc_var2  soc_var3  soc_var4  soc_var5  soc_var6\n",
              "0      219861  0.886792         4         2         6         5      10.0\n",
              "1      105627  0.641509         4         2         1         2       8.0\n",
              "2       94514  0.490566         4         2         6         5      10.0\n",
              "3       55357  0.584906         4         2         6         5       1.0\n",
              "4       79861  0.603774         4         1         6         5       9.0"
            ]
          },
          "metadata": {
            "tags": []
          },
          "execution_count": 20
        }
      ]
    },
    {
      "cell_type": "code",
      "metadata": {
        "id": "Tg6YkQIjcXi_",
        "colab_type": "code",
        "outputId": "6fc7fc83-3514-4959-e0e6-8933b494fa2d",
        "colab": {
          "base_uri": "https://localhost:8080/",
          "height": 297
        }
      },
      "source": [
        "reniec_bd.describe()"
      ],
      "execution_count": 0,
      "outputs": [
        {
          "output_type": "execute_result",
          "data": {
            "text/html": [
              "<div>\n",
              "<style scoped>\n",
              "    .dataframe tbody tr th:only-of-type {\n",
              "        vertical-align: middle;\n",
              "    }\n",
              "\n",
              "    .dataframe tbody tr th {\n",
              "        vertical-align: top;\n",
              "    }\n",
              "\n",
              "    .dataframe thead th {\n",
              "        text-align: right;\n",
              "    }\n",
              "</style>\n",
              "<table border=\"1\" class=\"dataframe\">\n",
              "  <thead>\n",
              "    <tr style=\"text-align: right;\">\n",
              "      <th></th>\n",
              "      <th>id_persona</th>\n",
              "      <th>soc_var1</th>\n",
              "      <th>soc_var2</th>\n",
              "      <th>soc_var3</th>\n",
              "      <th>soc_var4</th>\n",
              "      <th>soc_var5</th>\n",
              "      <th>soc_var6</th>\n",
              "    </tr>\n",
              "  </thead>\n",
              "  <tbody>\n",
              "    <tr>\n",
              "      <th>count</th>\n",
              "      <td>256351.000000</td>\n",
              "      <td>256351.000000</td>\n",
              "      <td>256351.000000</td>\n",
              "      <td>256351.000000</td>\n",
              "      <td>256351.000000</td>\n",
              "      <td>256351.000000</td>\n",
              "      <td>244609.000000</td>\n",
              "    </tr>\n",
              "    <tr>\n",
              "      <th>mean</th>\n",
              "      <td>128177.917632</td>\n",
              "      <td>0.637185</td>\n",
              "      <td>3.663103</td>\n",
              "      <td>1.520692</td>\n",
              "      <td>5.361106</td>\n",
              "      <td>4.517478</td>\n",
              "      <td>5.678695</td>\n",
              "    </tr>\n",
              "    <tr>\n",
              "      <th>std</th>\n",
              "      <td>74004.748797</td>\n",
              "      <td>0.221286</td>\n",
              "      <td>0.553909</td>\n",
              "      <td>0.499573</td>\n",
              "      <td>1.596789</td>\n",
              "      <td>1.211310</td>\n",
              "      <td>3.128576</td>\n",
              "    </tr>\n",
              "    <tr>\n",
              "      <th>min</th>\n",
              "      <td>1.000000</td>\n",
              "      <td>0.000000</td>\n",
              "      <td>1.000000</td>\n",
              "      <td>1.000000</td>\n",
              "      <td>1.000000</td>\n",
              "      <td>1.000000</td>\n",
              "      <td>1.000000</td>\n",
              "    </tr>\n",
              "    <tr>\n",
              "      <th>25%</th>\n",
              "      <td>64088.500000</td>\n",
              "      <td>0.490566</td>\n",
              "      <td>3.000000</td>\n",
              "      <td>1.000000</td>\n",
              "      <td>6.000000</td>\n",
              "      <td>5.000000</td>\n",
              "      <td>3.000000</td>\n",
              "    </tr>\n",
              "    <tr>\n",
              "      <th>50%</th>\n",
              "      <td>128177.000000</td>\n",
              "      <td>0.679245</td>\n",
              "      <td>4.000000</td>\n",
              "      <td>2.000000</td>\n",
              "      <td>6.000000</td>\n",
              "      <td>5.000000</td>\n",
              "      <td>5.000000</td>\n",
              "    </tr>\n",
              "    <tr>\n",
              "      <th>75%</th>\n",
              "      <td>192264.500000</td>\n",
              "      <td>0.811321</td>\n",
              "      <td>4.000000</td>\n",
              "      <td>2.000000</td>\n",
              "      <td>6.000000</td>\n",
              "      <td>5.000000</td>\n",
              "      <td>8.000000</td>\n",
              "    </tr>\n",
              "    <tr>\n",
              "      <th>max</th>\n",
              "      <td>256375.000000</td>\n",
              "      <td>1.000000</td>\n",
              "      <td>4.000000</td>\n",
              "      <td>2.000000</td>\n",
              "      <td>6.000000</td>\n",
              "      <td>5.000000</td>\n",
              "      <td>11.000000</td>\n",
              "    </tr>\n",
              "  </tbody>\n",
              "</table>\n",
              "</div>"
            ],
            "text/plain": [
              "          id_persona       soc_var1  ...       soc_var5       soc_var6\n",
              "count  256351.000000  256351.000000  ...  256351.000000  244609.000000\n",
              "mean   128177.917632       0.637185  ...       4.517478       5.678695\n",
              "std     74004.748797       0.221286  ...       1.211310       3.128576\n",
              "min         1.000000       0.000000  ...       1.000000       1.000000\n",
              "25%     64088.500000       0.490566  ...       5.000000       3.000000\n",
              "50%    128177.000000       0.679245  ...       5.000000       5.000000\n",
              "75%    192264.500000       0.811321  ...       5.000000       8.000000\n",
              "max    256375.000000       1.000000  ...       5.000000      11.000000\n",
              "\n",
              "[8 rows x 7 columns]"
            ]
          },
          "metadata": {
            "tags": []
          },
          "execution_count": 9
        }
      ]
    },
    {
      "cell_type": "code",
      "metadata": {
        "id": "7XFVqcOpZCGS",
        "colab_type": "code",
        "outputId": "64c35904-3788-4703-922b-26e17c4a70ea",
        "colab": {
          "base_uri": "https://localhost:8080/",
          "height": 68
        }
      },
      "source": [
        "print('shape: {}'.format(reniec_bd.shape))\n",
        "print('id_persona duplicados: {}'.format(reniec_bd.id_persona.duplicated().sum()))\n",
        "print('filas duplicadas: {}'.format(reniec_bd.duplicated().sum()))"
      ],
      "execution_count": 0,
      "outputs": [
        {
          "output_type": "stream",
          "text": [
            "shape: (256351, 7)\n",
            "id_persona duplicados: 0\n",
            "filas duplicadas: 0\n"
          ],
          "name": "stdout"
        }
      ]
    },
    {
      "cell_type": "markdown",
      "metadata": {
        "id": "iHB8uvkYjdUE",
        "colab_type": "text"
      },
      "source": [
        "### Sunat_bd\n",
        "Actividad económica de la persona según Sunat. Una persona puede tener más de una actividad registrada en sunat"
      ]
    },
    {
      "cell_type": "code",
      "metadata": {
        "id": "kKK-xA6ZnGzr",
        "colab_type": "code",
        "outputId": "1a464440-6bac-4843-8769-54105aec120e",
        "colab": {
          "base_uri": "https://localhost:8080/",
          "height": 204
        }
      },
      "source": [
        "sunat_bd.head()"
      ],
      "execution_count": 0,
      "outputs": [
        {
          "output_type": "execute_result",
          "data": {
            "text/html": [
              "<div>\n",
              "<style scoped>\n",
              "    .dataframe tbody tr th:only-of-type {\n",
              "        vertical-align: middle;\n",
              "    }\n",
              "\n",
              "    .dataframe tbody tr th {\n",
              "        vertical-align: top;\n",
              "    }\n",
              "\n",
              "    .dataframe thead th {\n",
              "        text-align: right;\n",
              "    }\n",
              "</style>\n",
              "<table border=\"1\" class=\"dataframe\">\n",
              "  <thead>\n",
              "    <tr style=\"text-align: right;\">\n",
              "      <th></th>\n",
              "      <th>id_persona</th>\n",
              "      <th>activ_econo</th>\n",
              "      <th>meses_alta</th>\n",
              "    </tr>\n",
              "  </thead>\n",
              "  <tbody>\n",
              "    <tr>\n",
              "      <th>0</th>\n",
              "      <td>174454</td>\n",
              "      <td>Grupo_11</td>\n",
              "      <td>70</td>\n",
              "    </tr>\n",
              "    <tr>\n",
              "      <th>1</th>\n",
              "      <td>245154</td>\n",
              "      <td>Grupo_15</td>\n",
              "      <td>27</td>\n",
              "    </tr>\n",
              "    <tr>\n",
              "      <th>2</th>\n",
              "      <td>1211</td>\n",
              "      <td>Grupo_07</td>\n",
              "      <td>20</td>\n",
              "    </tr>\n",
              "    <tr>\n",
              "      <th>3</th>\n",
              "      <td>146154</td>\n",
              "      <td>Grupo_15</td>\n",
              "      <td>135</td>\n",
              "    </tr>\n",
              "    <tr>\n",
              "      <th>4</th>\n",
              "      <td>87697</td>\n",
              "      <td>Grupo_07</td>\n",
              "      <td>55</td>\n",
              "    </tr>\n",
              "  </tbody>\n",
              "</table>\n",
              "</div>"
            ],
            "text/plain": [
              "   id_persona activ_econo  meses_alta\n",
              "0      174454    Grupo_11          70\n",
              "1      245154    Grupo_15          27\n",
              "2        1211    Grupo_07          20\n",
              "3      146154    Grupo_15         135\n",
              "4       87697    Grupo_07          55"
            ]
          },
          "metadata": {
            "tags": []
          },
          "execution_count": 21
        }
      ]
    },
    {
      "cell_type": "code",
      "metadata": {
        "id": "tyaQMeD4j4pV",
        "colab_type": "code",
        "outputId": "5e717b2d-53bb-4f09-cb4f-572bd5569f3a",
        "colab": {
          "base_uri": "https://localhost:8080/",
          "height": 68
        }
      },
      "source": [
        "print('shape: {}'.format(sunat_bd.shape))\n",
        "print('id_persona duplicados: {}'.format(sunat_bd.id_persona.duplicated().sum()))\n",
        "print('filas duplicadas: {}'.format(sunat_bd.duplicated().sum()))"
      ],
      "execution_count": 0,
      "outputs": [
        {
          "output_type": "stream",
          "text": [
            "shape: (196336, 3)\n",
            "id_persona duplicados: 181\n",
            "filas duplicadas: 0\n"
          ],
          "name": "stdout"
        }
      ]
    },
    {
      "cell_type": "code",
      "metadata": {
        "id": "mfjXajJzM_Ou",
        "colab_type": "code",
        "outputId": "01355e9a-86f9-4560-af76-6bab42e2a2fd",
        "colab": {
          "base_uri": "https://localhost:8080/",
          "height": 34
        }
      },
      "source": [
        "top_3 = Counter(sunat_bd['id_persona']).most_common(3)\n",
        "print(top_3)"
      ],
      "execution_count": 0,
      "outputs": [
        {
          "output_type": "stream",
          "text": [
            "[(100310, 3), (92038, 3), (26971, 2)]\n"
          ],
          "name": "stdout"
        }
      ]
    },
    {
      "cell_type": "markdown",
      "metadata": {
        "id": "sxD6vU9YjmYt",
        "colab_type": "text"
      },
      "source": [
        "### Vehicular_bd\n",
        "Información sobre los vehiculos de las personas. Dos variables vehiculares que se desconocen. Hay filas idénticas. Una persona puede tener más de un vehículo."
      ]
    },
    {
      "cell_type": "code",
      "metadata": {
        "id": "KcaHyFV6nG3I",
        "colab_type": "code",
        "outputId": "22efa9b1-7b9e-4bab-80d4-8ad17639926f",
        "colab": {
          "base_uri": "https://localhost:8080/",
          "height": 204
        }
      },
      "source": [
        "vehicular_bd.head()"
      ],
      "execution_count": 0,
      "outputs": [
        {
          "output_type": "execute_result",
          "data": {
            "text/html": [
              "<div>\n",
              "<style scoped>\n",
              "    .dataframe tbody tr th:only-of-type {\n",
              "        vertical-align: middle;\n",
              "    }\n",
              "\n",
              "    .dataframe tbody tr th {\n",
              "        vertical-align: top;\n",
              "    }\n",
              "\n",
              "    .dataframe thead th {\n",
              "        text-align: right;\n",
              "    }\n",
              "</style>\n",
              "<table border=\"1\" class=\"dataframe\">\n",
              "  <thead>\n",
              "    <tr style=\"text-align: right;\">\n",
              "      <th></th>\n",
              "      <th>id_persona</th>\n",
              "      <th>marca</th>\n",
              "      <th>veh_var1</th>\n",
              "      <th>veh_var2</th>\n",
              "    </tr>\n",
              "  </thead>\n",
              "  <tbody>\n",
              "    <tr>\n",
              "      <th>0</th>\n",
              "      <td>14908</td>\n",
              "      <td>ACURA</td>\n",
              "      <td>0.942857</td>\n",
              "      <td>3376.0</td>\n",
              "    </tr>\n",
              "    <tr>\n",
              "      <th>1</th>\n",
              "      <td>227555</td>\n",
              "      <td>ADVANCE</td>\n",
              "      <td>0.985714</td>\n",
              "      <td>3426.0</td>\n",
              "    </tr>\n",
              "    <tr>\n",
              "      <th>2</th>\n",
              "      <td>211938</td>\n",
              "      <td>AKT</td>\n",
              "      <td>1.000000</td>\n",
              "      <td>3426.0</td>\n",
              "    </tr>\n",
              "    <tr>\n",
              "      <th>3</th>\n",
              "      <td>20772</td>\n",
              "      <td>ALESIN</td>\n",
              "      <td>0.985714</td>\n",
              "      <td>3424.0</td>\n",
              "    </tr>\n",
              "    <tr>\n",
              "      <th>4</th>\n",
              "      <td>75985</td>\n",
              "      <td>ALESIN</td>\n",
              "      <td>0.985714</td>\n",
              "      <td>3424.0</td>\n",
              "    </tr>\n",
              "  </tbody>\n",
              "</table>\n",
              "</div>"
            ],
            "text/plain": [
              "   id_persona    marca  veh_var1  veh_var2\n",
              "0       14908    ACURA  0.942857    3376.0\n",
              "1      227555  ADVANCE  0.985714    3426.0\n",
              "2      211938      AKT  1.000000    3426.0\n",
              "3       20772   ALESIN  0.985714    3424.0\n",
              "4       75985   ALESIN  0.985714    3424.0"
            ]
          },
          "metadata": {
            "tags": []
          },
          "execution_count": 9
        }
      ]
    },
    {
      "cell_type": "code",
      "metadata": {
        "id": "qoykLCLskgJ8",
        "colab_type": "code",
        "outputId": "85d65a56-a363-4cda-d38f-fa3a055e677c",
        "colab": {
          "base_uri": "https://localhost:8080/",
          "height": 68
        }
      },
      "source": [
        "print('shape: {}'.format(vehicular_bd.shape))\n",
        "print('id_persona duplicados: {}'.format(vehicular_bd.id_persona.duplicated().sum()))\n",
        "print('filas duplicadas: {}'.format(vehicular_bd.duplicated().sum()))"
      ],
      "execution_count": 0,
      "outputs": [
        {
          "output_type": "stream",
          "text": [
            "shape: (76954, 4)\n",
            "id_persona duplicados: 25566\n",
            "filas duplicadas: 714\n"
          ],
          "name": "stdout"
        }
      ]
    },
    {
      "cell_type": "code",
      "metadata": {
        "id": "WFLNNymKfX5O",
        "colab_type": "code",
        "outputId": "0d7330e0-0c90-43d2-de0f-9060bbd9cb23",
        "colab": {
          "base_uri": "https://localhost:8080/",
          "height": 34
        }
      },
      "source": [
        "vehicular_bd.marca.nunique()"
      ],
      "execution_count": 0,
      "outputs": [
        {
          "output_type": "execute_result",
          "data": {
            "text/plain": [
              "589"
            ]
          },
          "metadata": {
            "tags": []
          },
          "execution_count": 18
        }
      ]
    },
    {
      "cell_type": "code",
      "metadata": {
        "id": "984YdWXvfH9x",
        "colab_type": "code",
        "outputId": "587c2a4c-8c1d-43a1-ff94-d5f7e8893f21",
        "colab": {
          "base_uri": "https://localhost:8080/",
          "height": 1000
        }
      },
      "source": [
        "vehicular_bd.marca.unique()"
      ],
      "execution_count": 0,
      "outputs": [
        {
          "output_type": "execute_result",
          "data": {
            "text/plain": [
              "array(['ACURA', 'ADVANCE', 'AKT', 'ALESIN', 'ARGOS', 'ARIES', 'ARO',\n",
              "       'ARTSUN', \"ASESOR MOTOR'S\", 'ASIA', 'ASIA MOTORS', 'AUDI',\n",
              "       'AUSTIN', 'BAIC YINXIANG', 'BAJA', 'BAJAJ', 'BAODIAO', 'BASHAN',\n",
              "       'BAW', 'BMW', 'BRILLIANCE', 'BUICK', 'BYD', 'CF MOTO', 'CHANGAN',\n",
              "       'CHANGHE', 'CHENGLONG', 'CHERY', 'CHEVROLET', 'CITROEN', 'CMC',\n",
              "       'CORENHA', 'CORLUSA', 'CROSS', 'CUSO', 'CYCLER', 'DACIA',\n",
              "       'DAELIM HONDA', 'DAEWOO', 'DAIHATSU', 'DATSUN', 'DAVEST', 'DFSK',\n",
              "       'DIM', 'DODGE', 'DONGFENG', 'ESCORTS', 'FAMELAN', 'FAW', 'FCZ',\n",
              "       'FENIX', 'FIAT', 'FIBRASA', 'FLORES', 'FORD', 'FORLAND', 'FORTTE',\n",
              "       'FOTON', 'FRUHAUD', 'GEELY', 'GLM', 'GM23', 'GMC', 'GONOW',\n",
              "       'GREAT DANE', 'GREAT WALL', 'HAFEI', 'HAOJIANG', 'HARLEY DAVIDSON',\n",
              "       'HARVING', 'HERO', 'HERO MAJESTIC', 'HILLMAN', 'HINO', 'HONDA',\n",
              "       'HUDSON', 'HUMMER', \"HURACAN MOTOR'S\", 'HURIOS', 'HYUNDAI',\n",
              "       'INKA MOTORS', 'INTERNACIONAL', 'INTERNATIONAL', 'INV DAVID',\n",
              "       'ISUZU', 'ITALIKA', 'IVECO', 'JAC', 'JEEP', 'JETTOR', 'JINBEI',\n",
              "       'JINCO', 'JMC', 'JMSTAR', 'JOYLONG', 'JR', 'KAMAX', 'KAWASAKI',\n",
              "       'KEEWAY', 'KIA', 'KIA MOTORS', 'KING LONG', 'KINGMAX',\n",
              "       'KORIAN MOTOS', 'KOYO', 'KTM', 'KUMOTO XINGFU', 'LADA', 'LAM',\n",
              "       'LASSAPORT', 'LIFAN', 'LIMA TRAYLERS', 'LINCOLN', 'LINGONSA',\n",
              "       'LONCIN', 'LX-POWER', 'M.G.B.', 'MAVILA', 'MAZDA', 'MERCEDES BENZ',\n",
              "       'MG', 'MITSUBISHI', 'MONTENEGRO', 'MOTOCOSMO', 'MOTOKAR',\n",
              "       'MOTOS ALELUYA', 'NAMYAC', 'NISSAN', 'OPEL', 'PEGASO', 'PEUGEOT',\n",
              "       'PIAGGIO', 'PLYMOUTH', 'PMF', 'PONTIAC', 'PORSCHE', 'PREMIER',\n",
              "       'RAISSA', 'RAMBLER', 'RAMSES', 'RAUDO', 'RECONCISA', 'RECSA',\n",
              "       'REGAL RAPTOR', 'RENAULT', 'RONCO', 'RTM', 'SAKIMOTO', 'SAMSUNG',\n",
              "       'SAMURAY', 'SANYA', 'SCANIA', 'SEAT', \"SENLY MOTOR'S\", 'SHINERAY',\n",
              "       'SINOTRUK', 'SITOM', 'SONIK', 'SSANG YONG', 'SSANGYONG', 'SSENDA',\n",
              "       'STILOS', 'STRONG', 'SUBARU', 'SUKIDA', 'SUMO', 'SUNSHINE',\n",
              "       'SUZUKI', 'T-KING', 'TAIM', 'TOP RYDER', 'TOYOTA', 'TVS', 'UM',\n",
              "       'VELOREX', 'VFM', 'VICTORIA MOTORS', 'VICTORIA MOTORÂ´S',\n",
              "       'VICTORY', \"VILMEN'S\", 'VOLKSWAGEN', 'VOLVO', 'WANXIN', 'WIZTEM',\n",
              "       'YAMAHA', 'YINGANG', 'YOUYI', 'YUEJIN', 'YUMBO', 'ZHONGXING',\n",
              "       'ZONGSHEN', 'ZOTYE', nan, 'ALELUYA', 'ALFA ROMEO', 'APRILIA',\n",
              "       'BAIC', 'BAYKU MOTORS', 'BOXER', 'C&C MOTORS', 'CG 125', 'CHANGE',\n",
              "       'CHANGFENG', 'CHRYSLER', 'CQ', 'DAELIM', 'EMC', 'FAMEDI',\n",
              "       'GL MAQUINARIAS', 'HAIMA', 'HAVAL', 'INMAGES', 'INMEPO',\n",
              "       'JAPANY MOTORS', 'JIREH', 'JJK', 'JPANY MOTORS', 'KAYAK',\n",
              "       'KEMWORTH', 'KENWORTH', 'LAN CXING', 'LAND ROVER', 'LC MOTOS',\n",
              "       'LIMA MOTORÂ´S', 'MAHINDRA', 'MELGA', 'MERCEDES B', 'MERCURY',\n",
              "       'MH', 'MITSUBISHI FUSO', 'MOTODUR', 'AIMA',\n",
              "       'ANHUI CHANGFENG YANGZI', 'ASYA', 'AUTOCAR', 'DENWAY', 'FURBO',\n",
              "       'GREAT', 'HERO PUCH', 'HOWO', 'INDUNION', 'INMECAR', 'INMEPE',\n",
              "       'INTECPO', 'JIEDA', 'JINCHENG', 'JONWAY', 'LAMBRETTA', 'LEXUS',\n",
              "       'LIM', 'LOW BED', 'MINI', 'MORRIS', 'MRG', 'MUDAN', 'NAVECO',\n",
              "       'OLDSMOBILE', 'PACKARD', 'PRINCE', 'SAN MARTIN', 'SATECI',\n",
              "       'SHENGLI', 'SHIFENG', 'SOUEAST', 'SUGOY', 'SUGOY MOTORS', 'SUNWAY',\n",
              "       'SYM', 'TAO-YAN', 'TAUNUS', 'TIANHONG', 'TIANJIN FAW', 'TRADING K',\n",
              "       'TRIUMPH', 'VENZO', 'VILMENÂ¨S', 'WHITE', 'WITHMORY', 'YANG ZU',\n",
              "       'YANSUMI', 'ZXAUTO', 'AGRALE MODASA', 'ALIMOTOR', 'AUTOCRAFT',\n",
              "       'BLUE BIRD', 'CENTRO DIESEL', 'DONG FENG', 'DUCATI', 'FAMECA',\n",
              "       'FARGO', 'FORD INGLES', 'FRIGHTLINER', 'HAYIME', 'HIGER',\n",
              "       'HONDA DAELIM', 'INCOF', 'JIALING', 'JIN BEI',\n",
              "       'JMR INVERS. Y NEGOCIACIONES', 'KONDA', 'LAMBORGHINI', 'LC-MOTOS',\n",
              "       'BAIC YINXI', 'BEIJING AUTOMOBILE WORKS - BAW', 'BUSSING', 'DAF',\n",
              "       'DAYUN', 'DEPREDADOR', 'DUNHAM', 'FABRINDUSTRIA', 'FAMEGA',\n",
              "       'FAMEVI', 'FERRARI', 'FREIGHTLINER', 'FRUEH', 'GILERA',\n",
              "       'GOLDEN DRAGON', 'GUOWEI', 'HURTADO', 'HWY', 'INDIO', 'JAIRO',\n",
              "       'JIAPENG', 'KOREA MOTOS', 'KUMOTO', 'KYNGO', 'MACH VENTUS', 'MAN',\n",
              "       'MARCO POLO', 'ALYER', 'PERCY AMAYA', 'BARSHA', 'BULLON',\n",
              "       'BULLON (NACIONAL)', 'CAMENA', 'CHANA', 'QINGQI', 'RAEN', 'RODO',\n",
              "       'FRUEHAUF', 'SKYMOTO', 'STANDARD', 'STUDEBAKER', 'HYOSUNG',\n",
              "       'HYOSUNG SUZUKI', 'JIAJUE', 'KYRO', 'MARUTI', 'MOTOKALY', 'NASSI',\n",
              "       'A.N.C.', 'ALLIED', 'OLMEDO', 'PEQUIVA', 'POLSKI', 'RCV',\n",
              "       'REFRISS', 'ROVER', 'SKODA', 'SMA', 'TAURO', 'ASPIROS',\n",
              "       'ASTON MARTIN', 'BEIJING AUTO WORKS', 'CADILLAC', 'TRAILMOBILE',\n",
              "       'CEMAC', 'VENTO', 'CHANGSHU', 'CHEROKEE', 'YAKUMA', 'YINHE',\n",
              "       'ZNA-ZHENGZHOU NISSAN AUTO', 'ZONG SHEN', 'COMMER', 'DE SOTO',\n",
              "       'CZ', 'DAF TRUCKS', 'FADIMEXPROGE', 'CNC MOTORS', 'FORD TAUNUS',\n",
              "       'FUTONG', 'HUARI', 'INDUMA MOTORS', 'JAWA CZ', 'JDV',\n",
              "       'JMR INVERSIONES Y NEGOCIACIONES EIR', 'MMC', 'SAN LUIS',\n",
              "       'SIN MARCA', 'SLONG', 'SSANYONG', 'TOYOPET', 'BONUCCI', 'CAMC',\n",
              "       'EL AMIGO', 'FMG', 'FUFABRISAC', 'ACS', 'H.M.', 'APOLO',\n",
              "       'HEINRICH', 'ARODRIGUEZ', 'AWA', 'VIASA', 'HUSQVARNA', 'EKC',\n",
              "       'BERTOLINI', 'CHANG', 'VOLSWAGEN', 'GAVESO', 'WILLYS', 'YINXIANG',\n",
              "       'ZONA MOTORS', 'ZS', 'HYOSUNG SUZKI', 'CPI', 'JPI', 'KAPAC',\n",
              "       'KING', 'NACIONAL', 'OM', 'RUIZ', 'SAAB', 'SIMCA', 'RICO', 'DIMEX',\n",
              "       'RUNG YANG', 'S/M', 'SEM', 'SKYCO', 'DIAZ', 'FMI', 'FIBRASA EIRL',\n",
              "       'TAIWAN PLUS', 'TELESAD', 'TIWINZA', 'TQM', 'USHIDO', 'VAUXHALL',\n",
              "       'VIKOREA MOTO', 'VRAMEL', 'GADEM', 'HOKEN', 'GEO', 'ALFA ROMERO',\n",
              "       'AMC', 'PERODUA', 'ART SUN', 'CHEVY', 'COBOS', 'COMN', 'RMC',\n",
              "       'SIDTRUK', 'BEDFORD', 'CEZETA', 'CAMEROM', 'DONGFENG BRAND',\n",
              "       'DORSEY', 'CP125', 'TAVRIA', 'CML', 'TRAMASA', 'VESPA', 'DMC',\n",
              "       'FMDA', 'FRAVHID EIRL', 'GEELY FORTTE', 'FORTE', 'HAOJIN',\n",
              "       'FRAVHID', 'INFINITI', 'WY HONDA', 'YEMA AUTO', 'HONGYI', 'HUAWIN',\n",
              "       'INMEBETO', 'JAGUAR', 'JCH', 'JIANSHE', 'JINGUAN',\n",
              "       'JMR INVERS. Y NEGOCIACIONES E.I.R.L', 'JULI', 'KIM',\n",
              "       'M-OTTO KAZO', 'MEDALIZ', 'MIA', 'MORI', 'MOTTO KAZO', 'SAIC',\n",
              "       'SAN YANG', 'SEUNG HWA', 'REMCASA', 'RGS', 'SUMOTO', 'SERMET',\n",
              "       'SHACMAN', 'UTILITY', 'WAN XIN', 'WT', 'ZHONGYU', 'INPAC',\n",
              "       'LINCOL CONTINENTAL', 'EAGLE', 'EBRO', 'KUANGYU', 'MRT', 'LUFKIN',\n",
              "       'MEGELLI', 'METAL MECANICA CHICLAYO', 'R.R.T.', 'HONSAI',\n",
              "       'HUANGHAI', 'MONON', 'MONTEBLANCO', 'SCANIA VABIS', 'HUSABERG',\n",
              "       'ICOGA', 'I.M. RODRIGUEZ', 'TRANSMARK', 'ORE METAL', 'VF',\n",
              "       'RAJUNSA', 'JIMBEI', 'ZONGQING', 'KEYTON', 'HONDA DAILIM',\n",
              "       'HUALIN', 'L&S NASSI', 'ICYS', 'IMEVIL', 'INKA TRAYLERS S.R.L.',\n",
              "       'WUYANG', 'MMP', 'ICH', 'INKA TRAYLERS', 'JL', 'JOSELOF', 'KAISER',\n",
              "       'KAMAZ', 'KINGSTAR', 'MARUHE',\n",
              "       'METAL INDUSTRIA Y SERVICIOS E.I.R.L', 'NASH', 'M.G.', 'MARUTTI',\n",
              "       'SACHS', 'SERVIMET', 'STIGLICH', 'MH CARROCERIAS SAN LUIS', 'MGJ',\n",
              "       'SKYGO', 'SUSUKI', 'QUE MOTO', 'RAK', 'TULA', 'URCO', 'ZANELLA',\n",
              "       'XINGFU', 'YIBEN', 'TRAIMOBILE', 'MEKANO', 'LAMISA', 'LANCIA',\n",
              "       'MILLER', 'MACAT', 'MAGIRUS DEUTZ', 'MAGNUM', 'PETERSON',\n",
              "       'NEW LID', 'SHAANXI', 'STEEL', 'TAO YAN',\n",
              "       'TALLER VIRGEN DE LA PUERTA', 'THUMPSTAR', 'NISSAN DIESEL', 'OSSA',\n",
              "       'OX', 'RANGE ROVER', 'RATO', 'SAIC WULING', 'USISA', 'POLARSUN',\n",
              "       'XINKAI', 'SCHMITZ', 'SHOP ELECTRONICS', 'SINSE', 'TOYO', 'TIMPTE',\n",
              "       'WDA MOTORS'], dtype=object)"
            ]
          },
          "metadata": {
            "tags": []
          },
          "execution_count": 15
        }
      ]
    },
    {
      "cell_type": "markdown",
      "metadata": {
        "id": "fow4rrYFglaL",
        "colab_type": "text"
      },
      "source": [
        "el dataset vehicular contiene basura. Hay dato de empresas, scooters (YIBEN), motos (ZONGQING), etc. Se omite dataframe"
      ]
    }
  ]
}